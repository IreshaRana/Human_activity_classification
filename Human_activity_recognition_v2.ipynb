{
 "cells": [
  {
   "cell_type": "markdown",
   "metadata": {},
   "source": [
    "# Human Activity Recognition with Smartphones\n",
    "\n",
    "Data source: https://www.kaggle.com/datasets/uciml/human-activity-recognition-with-smartphones\n",
   ]
  },
  {
   "cell_type": "code",
   "execution_count": 136,
   "metadata": {},
   "outputs": [],
   "source": [
    "# pip install xgboost"
   ]
  },
  {
   "cell_type": "code",
   "execution_count": 138,
   "metadata": {},
   "outputs": [],
   "source": [
    "# Import libraries\n",
    "import pandas as pd\n",
    "import matplotlib.pyplot as plt\n",
    "from sklearn.preprocessing import LabelEncoder\n",
    "from imblearn.over_sampling import SMOTE\n",
    "from sklearn.model_selection import train_test_split\n",
    "\n",
    "from sklearn.metrics import classification_report\n",
    "from sklearn.metrics import precision_recall_fscore_support as score\n",
    "from sklearn.metrics import roc_auc_score\n",
    "from sklearn.metrics import accuracy_score\n",
    "from sklearn.preprocessing import label_binarize\n",
    "\n",
    "import xgboost as xgb\n",
    "from sklearn.metrics import classification_report, confusion_matrix, accuracy_score"
   ]
  },
  {
   "cell_type": "code",
   "execution_count": 69,
   "metadata": {},
   "outputs": [
    {
     "data": {
      "text/html": [
       "<div>\n",
       "<style scoped>\n",
       "    .dataframe tbody tr th:only-of-type {\n",
       "        vertical-align: middle;\n",
       "    }\n",
       "\n",
       "    .dataframe tbody tr th {\n",
       "        vertical-align: top;\n",
       "    }\n",
       "\n",
       "    .dataframe thead th {\n",
       "        text-align: right;\n",
       "    }\n",
       "</style>\n",
       "<table border=\"1\" class=\"dataframe\">\n",
       "  <thead>\n",
       "    <tr style=\"text-align: right;\">\n",
       "      <th></th>\n",
       "      <th>tBodyAcc-mean()-X</th>\n",
       "      <th>tBodyAcc-mean()-Y</th>\n",
       "      <th>tBodyAcc-mean()-Z</th>\n",
       "      <th>tBodyAcc-std()-X</th>\n",
       "      <th>tBodyAcc-std()-Y</th>\n",
       "      <th>tBodyAcc-std()-Z</th>\n",
       "      <th>tBodyAcc-mad()-X</th>\n",
       "      <th>tBodyAcc-mad()-Y</th>\n",
       "      <th>tBodyAcc-mad()-Z</th>\n",
       "      <th>tBodyAcc-max()-X</th>\n",
       "      <th>...</th>\n",
       "      <th>fBodyBodyGyroJerkMag-kurtosis()</th>\n",
       "      <th>angle(tBodyAccMean,gravity)</th>\n",
       "      <th>angle(tBodyAccJerkMean),gravityMean)</th>\n",
       "      <th>angle(tBodyGyroMean,gravityMean)</th>\n",
       "      <th>angle(tBodyGyroJerkMean,gravityMean)</th>\n",
       "      <th>angle(X,gravityMean)</th>\n",
       "      <th>angle(Y,gravityMean)</th>\n",
       "      <th>angle(Z,gravityMean)</th>\n",
       "      <th>subject</th>\n",
       "      <th>Activity</th>\n",
       "    </tr>\n",
       "  </thead>\n",
       "  <tbody>\n",
       "    <tr>\n",
       "      <th>0</th>\n",
       "      <td>0.288585</td>\n",
       "      <td>-0.020294</td>\n",
       "      <td>-0.132905</td>\n",
       "      <td>-0.995279</td>\n",
       "      <td>-0.983111</td>\n",
       "      <td>-0.913526</td>\n",
       "      <td>-0.995112</td>\n",
       "      <td>-0.983185</td>\n",
       "      <td>-0.923527</td>\n",
       "      <td>-0.934724</td>\n",
       "      <td>...</td>\n",
       "      <td>-0.710304</td>\n",
       "      <td>-0.112754</td>\n",
       "      <td>0.030400</td>\n",
       "      <td>-0.464761</td>\n",
       "      <td>-0.018446</td>\n",
       "      <td>-0.841247</td>\n",
       "      <td>0.179941</td>\n",
       "      <td>-0.058627</td>\n",
       "      <td>1</td>\n",
       "      <td>STANDING</td>\n",
       "    </tr>\n",
       "    <tr>\n",
       "      <th>1</th>\n",
       "      <td>0.278419</td>\n",
       "      <td>-0.016411</td>\n",
       "      <td>-0.123520</td>\n",
       "      <td>-0.998245</td>\n",
       "      <td>-0.975300</td>\n",
       "      <td>-0.960322</td>\n",
       "      <td>-0.998807</td>\n",
       "      <td>-0.974914</td>\n",
       "      <td>-0.957686</td>\n",
       "      <td>-0.943068</td>\n",
       "      <td>...</td>\n",
       "      <td>-0.861499</td>\n",
       "      <td>0.053477</td>\n",
       "      <td>-0.007435</td>\n",
       "      <td>-0.732626</td>\n",
       "      <td>0.703511</td>\n",
       "      <td>-0.844788</td>\n",
       "      <td>0.180289</td>\n",
       "      <td>-0.054317</td>\n",
       "      <td>1</td>\n",
       "      <td>STANDING</td>\n",
       "    </tr>\n",
       "    <tr>\n",
       "      <th>2</th>\n",
       "      <td>0.279653</td>\n",
       "      <td>-0.019467</td>\n",
       "      <td>-0.113462</td>\n",
       "      <td>-0.995380</td>\n",
       "      <td>-0.967187</td>\n",
       "      <td>-0.978944</td>\n",
       "      <td>-0.996520</td>\n",
       "      <td>-0.963668</td>\n",
       "      <td>-0.977469</td>\n",
       "      <td>-0.938692</td>\n",
       "      <td>...</td>\n",
       "      <td>-0.760104</td>\n",
       "      <td>-0.118559</td>\n",
       "      <td>0.177899</td>\n",
       "      <td>0.100699</td>\n",
       "      <td>0.808529</td>\n",
       "      <td>-0.848933</td>\n",
       "      <td>0.180637</td>\n",
       "      <td>-0.049118</td>\n",
       "      <td>1</td>\n",
       "      <td>STANDING</td>\n",
       "    </tr>\n",
       "    <tr>\n",
       "      <th>3</th>\n",
       "      <td>0.279174</td>\n",
       "      <td>-0.026201</td>\n",
       "      <td>-0.123283</td>\n",
       "      <td>-0.996091</td>\n",
       "      <td>-0.983403</td>\n",
       "      <td>-0.990675</td>\n",
       "      <td>-0.997099</td>\n",
       "      <td>-0.982750</td>\n",
       "      <td>-0.989302</td>\n",
       "      <td>-0.938692</td>\n",
       "      <td>...</td>\n",
       "      <td>-0.482845</td>\n",
       "      <td>-0.036788</td>\n",
       "      <td>-0.012892</td>\n",
       "      <td>0.640011</td>\n",
       "      <td>-0.485366</td>\n",
       "      <td>-0.848649</td>\n",
       "      <td>0.181935</td>\n",
       "      <td>-0.047663</td>\n",
       "      <td>1</td>\n",
       "      <td>STANDING</td>\n",
       "    </tr>\n",
       "    <tr>\n",
       "      <th>4</th>\n",
       "      <td>0.276629</td>\n",
       "      <td>-0.016570</td>\n",
       "      <td>-0.115362</td>\n",
       "      <td>-0.998139</td>\n",
       "      <td>-0.980817</td>\n",
       "      <td>-0.990482</td>\n",
       "      <td>-0.998321</td>\n",
       "      <td>-0.979672</td>\n",
       "      <td>-0.990441</td>\n",
       "      <td>-0.942469</td>\n",
       "      <td>...</td>\n",
       "      <td>-0.699205</td>\n",
       "      <td>0.123320</td>\n",
       "      <td>0.122542</td>\n",
       "      <td>0.693578</td>\n",
       "      <td>-0.615971</td>\n",
       "      <td>-0.847865</td>\n",
       "      <td>0.185151</td>\n",
       "      <td>-0.043892</td>\n",
       "      <td>1</td>\n",
       "      <td>STANDING</td>\n",
       "    </tr>\n",
       "  </tbody>\n",
       "</table>\n",
       "<p>5 rows × 563 columns</p>\n",
       "</div>"
      ],
      "text/plain": [
       "   tBodyAcc-mean()-X  tBodyAcc-mean()-Y  tBodyAcc-mean()-Z  tBodyAcc-std()-X  \\\n",
       "0           0.288585          -0.020294          -0.132905         -0.995279   \n",
       "1           0.278419          -0.016411          -0.123520         -0.998245   \n",
       "2           0.279653          -0.019467          -0.113462         -0.995380   \n",
       "3           0.279174          -0.026201          -0.123283         -0.996091   \n",
       "4           0.276629          -0.016570          -0.115362         -0.998139   \n",
       "\n",
       "   tBodyAcc-std()-Y  tBodyAcc-std()-Z  tBodyAcc-mad()-X  tBodyAcc-mad()-Y  \\\n",
       "0         -0.983111         -0.913526         -0.995112         -0.983185   \n",
       "1         -0.975300         -0.960322         -0.998807         -0.974914   \n",
       "2         -0.967187         -0.978944         -0.996520         -0.963668   \n",
       "3         -0.983403         -0.990675         -0.997099         -0.982750   \n",
       "4         -0.980817         -0.990482         -0.998321         -0.979672   \n",
       "\n",
       "   tBodyAcc-mad()-Z  tBodyAcc-max()-X  ...  fBodyBodyGyroJerkMag-kurtosis()  \\\n",
       "0         -0.923527         -0.934724  ...                        -0.710304   \n",
       "1         -0.957686         -0.943068  ...                        -0.861499   \n",
       "2         -0.977469         -0.938692  ...                        -0.760104   \n",
       "3         -0.989302         -0.938692  ...                        -0.482845   \n",
       "4         -0.990441         -0.942469  ...                        -0.699205   \n",
       "\n",
       "   angle(tBodyAccMean,gravity)  angle(tBodyAccJerkMean),gravityMean)  \\\n",
       "0                    -0.112754                              0.030400   \n",
       "1                     0.053477                             -0.007435   \n",
       "2                    -0.118559                              0.177899   \n",
       "3                    -0.036788                             -0.012892   \n",
       "4                     0.123320                              0.122542   \n",
       "\n",
       "   angle(tBodyGyroMean,gravityMean)  angle(tBodyGyroJerkMean,gravityMean)  \\\n",
       "0                         -0.464761                             -0.018446   \n",
       "1                         -0.732626                              0.703511   \n",
       "2                          0.100699                              0.808529   \n",
       "3                          0.640011                             -0.485366   \n",
       "4                          0.693578                             -0.615971   \n",
       "\n",
       "   angle(X,gravityMean)  angle(Y,gravityMean)  angle(Z,gravityMean)  subject  \\\n",
       "0             -0.841247              0.179941             -0.058627        1   \n",
       "1             -0.844788              0.180289             -0.054317        1   \n",
       "2             -0.848933              0.180637             -0.049118        1   \n",
       "3             -0.848649              0.181935             -0.047663        1   \n",
       "4             -0.847865              0.185151             -0.043892        1   \n",
       "\n",
       "   Activity  \n",
       "0  STANDING  \n",
       "1  STANDING  \n",
       "2  STANDING  \n",
       "3  STANDING  \n",
       "4  STANDING  \n",
       "\n",
       "[5 rows x 563 columns]"
      ]
     },
     "execution_count": 69,
     "metadata": {},
     "output_type": "execute_result"
    }
   ],
   "source": [
    "# Import the csv file\n",
    "\n",
    "file_path = 'C:/Iresha_Code/XGBoost_Classification_demo_project/Data/data.csv'\n",
    "data = pd.read_csv(file_path)\n",
    "\n",
    "# Create a pandas dataframe\n",
    "df_data = pd.DataFrame(data)\n",
    "df_data.head()"
   ]
  },
  {
   "cell_type": "markdown",
   "metadata": {},
   "source": [
    "# Explore data"
   ]
  },
  {
   "cell_type": "code",
   "execution_count": 70,
   "metadata": {},
   "outputs": [
    {
     "data": {
      "text/plain": [
       "(10299, 563)"
      ]
     },
     "execution_count": 70,
     "metadata": {},
     "output_type": "execute_result"
    }
   ],
   "source": [
    "# Check the nuber of rows and columns\n",
    "df_data.shape"
   ]
  },
  {
   "cell_type": "code",
   "execution_count": 71,
   "metadata": {},
   "outputs": [
    {
     "data": {
      "text/plain": [
       "0"
      ]
     },
     "execution_count": 71,
     "metadata": {},
     "output_type": "execute_result"
    }
   ],
   "source": [
    "# Check total missing values\n",
    "df.isnull().sum().sum()"
   ]
  },
  {
   "cell_type": "code",
   "execution_count": 72,
   "metadata": {},
   "outputs": [
    {
     "data": {
      "text/plain": [
       "float64    561\n",
       "int64        1\n",
       "object       1\n",
       "Name: count, dtype: int64"
      ]
     },
     "execution_count": 72,
     "metadata": {},
     "output_type": "execute_result"
    }
   ],
   "source": [
    "# Check data types\n",
    "df_data.dtypes.value_counts()"
   ]
  },
  {
   "cell_type": "markdown",
   "metadata": {},
   "source": [
    "### Activity column"
   ]
  },
  {
   "cell_type": "code",
   "execution_count": 73,
   "metadata": {},
   "outputs": [
    {
     "data": {
      "text/plain": [
       "dtype('O')"
      ]
     },
     "execution_count": 73,
     "metadata": {},
     "output_type": "execute_result"
    }
   ],
   "source": [
    "# Check data type to confirm as object\n",
    "df_data['Activity'].dtype"
   ]
  },
  {
   "cell_type": "code",
   "execution_count": 74,
   "metadata": {},
   "outputs": [
    {
     "data": {
      "text/plain": [
       "array(['STANDING', 'SITTING', 'LAYING', 'WALKING', 'WALKING_DOWNSTAIRS',\n",
       "       'WALKING_UPSTAIRS'], dtype=object)"
      ]
     },
     "execution_count": 74,
     "metadata": {},
     "output_type": "execute_result"
    }
   ],
   "source": [
    "# Check the 'Activity' column, to confirm unique values\n",
    "df_data['Activity'].unique()"
   ]
  },
  {
   "cell_type": "markdown",
   "metadata": {},
   "source": [
    "### Subject column"
   ]
  },
  {
   "cell_type": "code",
   "execution_count": 75,
   "metadata": {},
   "outputs": [
    {
     "data": {
      "text/plain": [
       "dtype('int64')"
      ]
     },
     "execution_count": 75,
     "metadata": {},
     "output_type": "execute_result"
    }
   ],
   "source": [
    "# Check data type to confirm as object\n",
    "df_data['subject'].dtype"
   ]
  },
  {
   "cell_type": "code",
   "execution_count": 76,
   "metadata": {},
   "outputs": [
    {
     "data": {
      "text/plain": [
       "30"
      ]
     },
     "execution_count": 76,
     "metadata": {},
     "output_type": "execute_result"
    }
   ],
   "source": [
    "# Check the 'subject' column to confirm the number of participants\n",
    "df_data['subject'].nunique()"
   ]
  },
  {
   "cell_type": "markdown",
   "metadata": {},
   "source": [
    "From above, Activity is of 'object' data type and 'subject' is of integer. Rest of the columns - float."
   ]
  },
  {
   "cell_type": "markdown",
   "metadata": {},
   "source": [
    "# Data preparation"
   ]
  },
  {
   "cell_type": "markdown",
   "metadata": {},
   "source": [
    "### Checking max, min of float columns"
   ]
  },
  {
   "cell_type": "code",
   "execution_count": 77,
   "metadata": {},
   "outputs": [
    {
     "data": {
      "text/plain": [
       "array([1.])"
      ]
     },
     "execution_count": 77,
     "metadata": {},
     "output_type": "execute_result"
    }
   ],
   "source": [
    "# Find the maximum value for all float columns\n",
    "# Select only float columns\n",
    "float_columns = df_data.select_dtypes(include=['float'])\n",
    "\n",
    "# Find the maximum value for each float column\n",
    "max_values = float_columns.max()\n",
    "\n",
    "# Get unique maximum values\n",
    "unique_max_values = max_values.unique()\n",
    "unique_max_values"
   ]
  },
  {
   "cell_type": "code",
   "execution_count": 78,
   "metadata": {},
   "outputs": [
    {
     "data": {
      "text/plain": [
       "array([-1.])"
      ]
     },
     "execution_count": 78,
     "metadata": {},
     "output_type": "execute_result"
    }
   ],
   "source": [
    "# Find the minimum value for all float columns\n",
    "# Select only float columns\n",
    "float_columns = df_data.select_dtypes(include=['float'])\n",
    "\n",
    "# Find the maximum value for each float column\n",
    "min_values = float_columns.min()\n",
    "\n",
    "# Get unique maximum values\n",
    "unique_min_values = min_values.unique()\n",
    "unique_min_values"
   ]
  },
  {
   "cell_type": "markdown",
   "metadata": {},
   "source": [
    "### Checking the balance of label column"
   ]
  },
  {
   "cell_type": "code",
   "execution_count": 79,
   "metadata": {},
   "outputs": [
    {
     "data": {
      "image/png": "iVBORw0KGgoAAAANSUhEUgAAAnMAAAH2CAYAAAAbJQr4AAAAOXRFWHRTb2Z0d2FyZQBNYXRwbG90bGliIHZlcnNpb24zLjguNCwgaHR0cHM6Ly9tYXRwbG90bGliLm9yZy8fJSN1AAAACXBIWXMAAA9hAAAPYQGoP6dpAACPuElEQVR4nOzdd3xT9f7H8VeStkn3nnRBgULZIEMQ2iJTUFFAUFFBXKBc9x6AekXEgYqKPynDhYICCigi0CrIHmXvWWihe88k5/cHl2htCy20PUn7eT4efdybkzPeKVje/Z7x1SiKoiCEEEIIIWySVu0AQgghhBDi6kmZE0IIIYSwYVLmhBBCCCFsmJQ5IYQQQggbJmVOCCGEEMKGSZkTQgghhLBhUuaEEEIIIWyYlDkhhBBCCBsmZU4IIYQQwoZJmROiGj766CM0Gg1t27a96n0kJyczZcoUEhMTK7w3ZcoUNBrNVe03PDycsWPHVus412L+/PloNBrLl8FgICAggNjYWKZNm0ZqamqFba7mcxUWFjJlyhQSEhJqtF1lxwoPD2fo0KE12s+VfPvtt8ycObPS9zQaDVOmTKnV4wkhxJVImROiGubOnQvA/v372bJly1XtIzk5malTp1Zash544AE2bdp0VftdunQpr776arWOUxvmzZvHpk2b+P333/nkk0/o2LEj06dPp3Xr1qxZs6bculfzuQoLC5k6dWqNy9y1fA9r4nJlbtOmTTzwwAN1nkEIIf7JTu0AQli77du3s3v3boYMGcLKlSuJi4uje/futXqM4OBggoODr2rbTp061WqWK2nbti3XXXed5fXw4cN58sknueGGG7j99ts5evQo/v7+wLV9ruoqLCzEycmpXo51JT169FD1+EKIxklG5oS4gri4OADefvttevbsyXfffUdhYWGF9c6dO8dDDz1ESEgIDg4OBAUFMWLECC5cuEBCQgJdu3YFYNy4cZZTlZdOyf37FOGwYcMICwvDbDZXOE737t3p3Lmz5fU/T7Ne7jhfffUVGo2m0tGr119/HXt7e5KTk6/qexQaGsp7771HXl4en3/+uWV5Zac+161bR0xMDN7e3jg6OhIaGsrw4cMpLCzk1KlT+Pr6AjB16lRL/kuf79L+du7cyYgRI/D09CQiIqLKY12ydOlS2rdvj8FgoFmzZnz00Ufl3r90CvnUqVPllickJKDRaCyjhDExMaxcuZLTp0+XO+V8SWWnWfft28ett96Kp6cnBoOBjh07smDBgkqPs3DhQl5++WWCgoJwc3OjX79+HD58uOpvvBBCIGVOiMsqKipi4cKFdO3albZt23L//feTl5fH4sWLy6137tw5unbtytKlS3nqqaf49ddfmTlzJu7u7mRlZdG5c2fmzZsHwCuvvMKmTZsue0ru/vvv58yZM6xbt67c8kOHDrF161bGjRtX6XaXO86oUaMICAjgk08+KbeN0Wjk888/57bbbiMoKOiqvk8AN910Ezqdjj///LPKdU6dOsWQIUNwcHBg7ty5rFq1irfffhtnZ2dKS0sJDAxk1apVAIwfP96S/5+nkQFuv/12mjdvzuLFi5k9e/ZlcyUmJvLEE0/w5JNPsnTpUnr27Mnjjz/Ou+++W+PP+Omnn9KrVy8CAgIs2S53avfw4cP07NmT/fv389FHH7FkyRKioqIYO3Ys77zzToX1X3rpJU6fPs2cOXP4v//7P44ePcrNN9+MyWSqcVYhROMhp1mFuIwffviBnJwcxo8fD8CoUaN44okniIuL47777rOs99prr5Gens7u3btp3bq1Zfkdd9xh+f+Xbp6IiIi44um4m266CX9/f+bNm0e/fv0sy+fNm4eDgwN33XVXpdu5ubld9jgPP/ww06ZN4/3338fPzw+AJUuWkJyczGOPPXbF78flODs74+Pjc9nRvR07dlBcXMyMGTPo0KGDZfk/P0+XLl2Ai6doq/o+3XfffUydOrVauZKTk9m1a5fleIMHDyY1NZU33niDiRMn4uTkVK39AERFReHh4YFer6/WKdUpU6ZQWlpKfHw8ISEhwMU/2+zsbKZOncrDDz+Mu7t7uf1//fXXltc6nY477riDbdu2ySlcIUSVZGROiMuIi4vD0dGR0aNHA+Di4sLIkSNZv349R48etaz366+/EhsbW67IXQs7OzvGjBnDkiVLyMnJAcBkMvHVV19x66234u3tfVX7nTBhAgBffPGFZdmsWbNo164dffr0uebciqJc9v2OHTvi4ODAQw89xIIFCzhx4sRVHWf48OHVXrdNmzbliiNcLI+5ubns3Lnzqo5fXevWrePGG2+0FLlLxo4dS2FhYYVRvVtuuaXc6/bt2wNw+vTpOs0phLBtUuaEqMKxY8f4888/GTJkCIqikJ2dTXZ2NiNGjAD+vsMVIC0trdYvvr///vspLi7mu+++A+C3334jJSWlylOs1eHv78+oUaP4/PPPMZlM7Nmzh/Xr11/zqBxAQUEBGRkZlz1VGxERwZo1a/Dz8+PRRx8lIiKCiIgIPvzwwxodKzAwsNrrBgQEVLksIyOjRsetqYyMjEqzXvoe/fv4/y7per0euHi6XwghqiJlTogqzJ07F0VR+OGHH/D09LR8DRkyBIAFCxZYrmXy9fXl7NmztXr8qKgounXrZrkGbt68eQQFBTFgwIBr2u/jjz9OUlISP/30E7NmzcLDw4O77777mvOuXLkSk8lETEzMZdfr3bs3y5cvJycnh82bN3P99dfzxBNPWEprddTk2XXnz5+vctml8mQwGAAoKSkpt156enq1j1MZb29vUlJSKiy/dCrax8fnmvYvhBAgZU6ISplMJhYsWEBERATx8fEVvp5++mlSUlL49ddfgYvXYcXHx1/2zsOrGWUZN24cW7ZsYcOGDSxfvpz77rsPnU532W2udJwuXbrQs2dPpk+fzjfffMPYsWNxdnaudqbKnDlzhmeeeQZ3d3cefvjham2j0+no3r275YaMS6c8a3s0av/+/ezevbvcsm+//RZXV1fLXcHh4eEA7Nmzp9x6P//8c4X96fX6ame78cYbWbduXYXrCL/88kucnJzkOjghRK2QGyCEqMSvv/5KcnIy06dPr3SkqW3btsyaNYu4uDiGDh3K66+/zq+//kqfPn146aWXaNeuHdnZ2axatYqnnnqKVq1aERERgaOjI9988w2tW7fGxcWFoKCgy56WvPPOO3nqqae48847KSkpKTfTQ1Wqc5zHH3+cUaNGodFomDhxYo2+N/v27cNoNGI0GklNTWX9+vXMmzcPnU7H0qVLLY8Wqczs2bNZt24dQ4YMITQ0lOLiYsvp6ks3eri6uhIWFsZPP/3EjTfeiJeXFz4+PpbCVVNBQUHccsstTJkyhcDAQL7++mt+//13pk+fbrn5oWvXrkRGRvLMM89gNBrx9PRk6dKlbNiwocL+2rVrx5IlS/jss8/o0qULWq223HP3/mny5MmsWLGC2NhYXnvtNby8vPjmm29YuXIl77zzTrmbH4QQ4qopQogKhg0bpjg4OCipqalVrjN69GjFzs5OOX/+vKIoipKUlKTcf//9SkBAgGJvb68EBQUpd9xxh3LhwgXLNgsXLlRatWql2NvbK4AyefJkRVEUZfLkyUpV/zneddddCqD06tWr0vfDwsKU++67r9yyqo5zSUlJiaLX65VBgwZd4Tvxt3nz5imA5cvBwUHx8/NToqOjlbfeeqvS79W/P9emTZuU2267TQkLC1P0er3i7e2tREdHKz///HO57dasWaN06tRJ0ev1CmD5fJf2l5aWdsVjXfreDBkyRPnhhx+UNm3aKA4ODkp4eLjy/vvvV9j+yJEjyoABAxQ3NzfF19dXmTRpkrJy5UoFUOLj4y3rZWZmKiNGjFA8PDwUjUZT7piVfa/37t2r3HzzzYq7u7vi4OCgdOjQQZk3b165deLj4xVAWbx4cbnlJ0+eVIAK6wshxD9pFOUKt58JIRqc5cuXc8stt7By5UpuuukmteMIIYS4BlLmhGhEDhw4wOnTp3n88cdxdnZm586dNbqZQAghhPWRGyCEaEQmTpzILbfcgqenJwsXLpQiJ4QQDYCMzAkhhBBC2DAZmRNCCCGEsGFS5oQQQgghbJiUOSGEEEIIGyZlTgghhBDChkmZE0IIIYSwYVLmhBBCCCFsmJQ5IYQQQggbJmVOCCGEEMKGSZkTQgghhLBhUuaEEEIIIWyYlDkhhBBCCBsmZU4IIYQQwoZJmRNCCCGEsGFS5oQQQgghbJiUOSGEEEIIGyZlTgghhBDChkmZE0IIIYSwYVLmhBBCCCFsmJQ5IYQQQggbJmVOCCGEEMKGSZkTQgghhLBhUuaEEEIIIWyYlDkhhBBCCBsmZU4IIYQQwoZJmRNCCCGEsGFS5oQQQgghbJiUOSGEEEIIGyZlTgghhBDChkmZE0IIIYSwYVLmhBBCCCFsmJQ5IYQQQggbJmVOCCGEEMKGSZkTQgghhLBhUuaEEEIIIWyYlDkhhBBCCBsmZU4IIYQQwoZJmRNCCCGEsGFS5oQQQgghbJiUOSGEEEIIGyZlTgghhBDChkmZE0IIIYSwYVLmhBBCCCFsmJQ5IYQQQggbJmVOCCGEEMKGSZkTQggbM3v2bFxdXTEajZZl+fn52Nvb07t373Lrrl+/Ho1Gw5EjRwDYuHEjOp2OQYMGVdjvqVOn0Gg0JCYmVnrc+fPn4+HhUW7ZwYMHCQ4O5vbbb6ekpISEhAQ0Gg3Z2dkAltdt27bFZDKV29bDw4P58+eXW7Zr1y5GjRpFYGAger2esLAwhg4dyvLly1EU5Yrfm0uf4dKXq6srbdq04dFHH+Xo0aMV1i8qKmLy5MlERkai1+vx8fFhxIgR7N+/37LOqlWr0Gg0nD9/vty2AQEBhISElFt29uxZNBoNq1evBiAmJgaNRsN3331Xbr2ZM2cSHh5ueW0ymZg2bRqtWrXC0dERLy8vevTowbx58wDKfabKvsaOHWvZ14ABA9DpdGzevLnC5x07dizDhg0r9/rSPuzs7AgNDWXChAlkZWWV227Xrl0MHToUPz8/DAYD4eHhjBo1ivT09Er+FER9kzInhBA2JjY2lvz8fLZv325Ztn79egICAti2bRuFhYWW5QkJCQQFBdGyZUsA5s6dy6RJk9iwYQNnzpy5phzbtm2jd+/eDBw4kMWLF6PX66tc9/jx43z55ZeX3d9PP/1Ejx49yM/PZ8GCBRw4cIDFixczbNgwXnnlFXJycqqdbc2aNaSkpLB7927eeustDh48SIcOHVi7dq1lnZKSEvr168fcuXN54403OHLkCL/88gsmk4nu3btbytANN9yAnZ0dCQkJlm0PHjxIcXExubm5HDt2zLI8Pj4ee3t7evXqZVlmMBh45ZVXKCsrqzLvlClTmDlzJm+88QYHDhwgPj6eBx980FKqUlJSLF8zZ87Ezc2t3LIPP/wQgDNnzrBp0yYee+wx4uLiqvW9GjRoECkpKZw6dYo5c+awfPlyJk6caHk/NTWVfv364ePjw2+//cbBgweZO3cugYGB5f6uCRUpQgghbE5QUJAybdo0y+vnnntOefTRR5WoqCjl999/tyzv27evcvfddyuKoij5+fmKq6urcujQIWXUqFHK1KlTy+3z5MmTCqDs2rWr0mPOmzdPcXd3VxRFUdauXau4uLgozzzzTLl14uPjFUDJysoq9/rZZ59VQkJClKKiIsu67u7uyrx58yzZvL29ldtuu63Kz2w2my/7PbncZzCZTEpMTIwSFhamGI1GRVEU5e2331Y0Go2SmJhYYd3rrrtOiYqKshzz+uuvVx5++GHLOp9++qkyZMgQ5aabblK++OILy/L7779f6dWrl+V1dHS0Mm7cOMXHx0f55JNPLMs/+OADJSwszPK6Q4cOypQpU674+RSl/J/Dv02ZMkUZPXq0cvDgQcXV1VXJz88v9/59992n3HrrrVW+VhRFeeqppxQvLy/L66VLlyp2dnZKWVlZtfKJ+icjc0IIYYNiYmKIj4+3vI6PjycmJobo6GjL8tLSUjZt2kRsbCwA33//PZGRkURGRjJmzBjmzZtXrVOX/7Z06VKGDBnCyy+/zIwZM6q1zRNPPIHRaGTWrFmVvr969WoyMjJ47rnnqtyHRqOpcdZLtFotjz/+OKdPn2bHjh0AfPvtt/Tv358OHTpUWPfJJ5/kwIED7N69G7g4Gnql7/el5Ze+35e4ubnx0ksv8frrr1NQUFBpvoCAANatW0daWtpVf0ZFUZg3bx5jxoyhVatWtGzZkkWLFtVoHydOnGDVqlXY29uXy2Y0Glm6dOlV/X0RdU/KnBBC2KCYmBj++usvjEYjeXl57Nq1iz59+hAdHW05Hbh582aKioos5SIuLo4xY8YAF0+t5efnlzvtWB35+fmMHDmSZ599lhdeeKHa2zk5OTF58mSmTZtW6enSS9f0RUZGWpZt27YNFxcXy9eKFStqlPXfWrVqBVy8ru7SMVu3bl3pupeWX8oVExPDkSNHSElJAeCPP/4gOjq63Pc7KSmJkydPVihzABMnTsRgMPD+++9Xerz333+ftLQ0AgICaN++PY888gi//vprjT7fmjVrKCwsZODAgQCMGTOmWqdaV6xYgYuLC46OjkRERHDgwAGef/55y/s9evTgpZde4q677sLHx4fBgwczY8YMLly4UKN8ou5ImRNCCBsUGxtLQUEB27ZtY/369bRs2RI/Pz+io6PZtm0bBQUFJCQkEBoaSrNmzTh8+DBbt25l9OjRANjZ2TFq1Cjmzp1bo+M6OjrSv39/vvjiCw4ePFijbcePH4+Pjw/Tp0+v1vrt27cnMTGRxMRECgoKyt3wcTUujSpVZ4Tv3+v26tULBwcHEhISOHDgAEVFRXTu3JkuXbqQm5vL0aNHiY+PR6/X07Nnzwr70+v1vP7668yYMaPSmwaioqLYt28fmzdvZty4cVy4cIGbb76ZBx54oNqfLy4ujlGjRmFnZwfAnXfeyZYtWzh8+PBlt4uNjSUxMZEtW7YwadIkBg4cyKRJk8qt89///pfz588ze/ZsoqKimD17Nq1atWLv3r3Vzifqjp3aAYQQ1q2w1EhmQSnZhWVkFZaSVVhGdmEpWQUXX2cXlpJTVIbRrGA0KZgUBbP57/+9Q7sfJekQWq0WtBq0Wi1anR0Ojo44GBxxcHTCwckJvaMT9gZH9E5O/3vPCYOrK65e3ji6uV/TKbaGqHnz5gQHBxMfH09WVhbR0dHAxVNiTZs25a+//iI+Pp6+ffsCF/+hNxqNNGnSxLIPRVGwt7cnKysLT0/Pah1Xp9OxbNkyhg8fTmxsLOvWrSMqKqpa29rZ2fHmm28yduxYHnvssXLvtWjRAoDDhw/To0cP4GIBat68ebX2XR2XymfTpk0BaNmyJQcOHKh03UOHDpXL5eTkRLdu3YiPjyczM5MbbrgBnU4HQM+ePYmPj2fTpk1cf/31GAyGSvc5ZswY3n33Xd58881yd7JeotVq6dq1K127duXJJ5/k66+/5p577uHll1+2ZK5KZmYmy5Yto6ysjM8++8yy3GQyMXfu3MsWaGdnZ8v3+aOPPiI2NpapU6fyxhtvlFvP29ubkSNHMnLkSKZNm0anTp149913WbBgwWWzibonZU6IRiy/xMiJtHxOphdwIq2Ak+kFpOYVlytupUbzNR1jsFMqBScqPhKiJnR2djh7euPi5Y2rlzcu3j4X/9fLB1dvb9z9AnD2qF4ZaUhiY2NJSEggKyuLZ5991rI8Ojqa3377zTLKYzQa+fLLL3nvvfcYMGBAuX0MHz6cb775pkK5uhy9Xs+SJUsYMWIEsbGxrF27lrZt21Zr25EjRzJjxgymTp1abvmAAQPw8vJi+vTpLF26tNpZqstsNvPRRx/RtGlTOnXqBMDo0aN5+eWX2b17d7nr5sxmMx988AFRUVHllsfGxvLdd9+RlZVFTEyMZfmlU62bNm1i3LhxVWbQarVMmzaN22+/nQkTJlwx86WSXNV1dv/0zTffEBwczLJly8otX7t2LdOmTeO///2vZcTuSiZPnszgwYOZMGECQUFBla7j4OBAREREtbKJuidlTogGrsxk5kxm4f/K2sXidvx/xS0tr0TteNViMhrJTbtAblrV1+gYnF3wahKCd3DI//43FO8mIbj6+DbYUb3Y2FgeffRRysrKLCNzcLFcTJgwgeLiYmJjY1mxYgVZWVmMHz8ed3f3cvsYMWIEcXFx5cpcZafl/j365uDgwI8//sgdd9xB3759Wbt2Le3atatW7rfffttyXdclLi4uzJkzh1GjRjFkyBD+85//0KJFC/Lz81m1ahWAZSSsOjIyMjh//jyFhYXs27ePmTNnsnXrVlauXGnZz5NPPslPP/3EzTffzHvvvUf37t25cOGC5VEma9asKfd3JzY2ljfeeIOUlBSeeeYZy/Lo6Gjefvtt8vLyKr1e7p+GDBlC9+7d+fzzz/H397csHzFiBL169aJnz54EBARw8uRJXnzxRVq2bGm51u9y4uLiGDFiRIVSHRYWxvPPP8/KlSu59dZbq/W9i4mJoU2bNrz11lvMmjWLFStW8N133zF69GhatmyJoigsX76cX375xfIcPKEuKXNCNCB5xWXsOpPNzjNZ7D2bw/G0fM5mFWE0N/w70IoL8kk+cpDkI+Wv47I3OOIVFIx3cAj+TSMIbNEKv6bN0NnZV7En2xEbG0tRURGtWrUqVwyio6PJy8sjIiKCkJAQJk6cSL9+/SoUObg4MvfWW2+xc+dOvLy8ACzX1f3TyZMnKyyzt7dn0aJF3HnnnZZCVx19+/alb9++lgfrXnLbbbexceNGpk+fzr333ktmZibu7u5cd911fPfddwwdOrRa+wfo168fcPH0aFhYGLGxsfzf//1fudO2BoOBdevWMW3aNF566SVOnz6Nq6srsbGxbN68uUIxuv766y3P0uvSpYtledeuXTGZTDg6OtK9e/crZps+fXqF6+oGDhzIwoULLTeIBAQE0LdvX6ZMmXLFEbUdO3awe/duvvjiiwrvubq6MmDAAOLi4qpd5gCeeuopxo0bx/PPP09UVBROTk48/fTTJCUlodfradGiBXPmzOGee+6p9j5F3dEocp+xEDbrVHoBO05nseNMFjtPZ3HkQh7W1ttecNpJwf4tascoR2dvj19YMwJbRBLQIpKgFpG4+wWoHUsIIa6KjMwJYSOKy0zsPZdzsbydzmLXmSzS80vVjmWTTGVlpBw7TMqxw/C/pz84uXsQ0LwlQS1bE9auI/7NmjfY07NCiIZFRuaEsFKKopCYlM2agxf461gGB5JzKTVd280IarDGkbnqcHR1I7RdR8LbdyKsQydcvXzUjiSARx55hK+//rrS98aMGcPs2bPrOZEQ6pMyJ4QVKS4zseFoOmsOXmDtoVSbuUHhcmy1zP2bd3Ao4R06Ed6+M02i2mLvUPU8pKLupKamkpubW+l7bm5u+Pn51XMiIdQnZU4IlaXnl7DuYCq/H7zAhqPpFJWZ1I5UqxpKmfsnO3sHQtt1oGWPG2jetQd6J2e1IwkhGjG5Zk4IFRxLzWP1gQusOXCBxKRsq7tpQVyesayUEzu3cWLnNnR2doS17yTFTgihGilzQtSTMxmFLNqexMq9KZxMlwdtNhQmo1GKnRBCVTI3awM2duxYhg0bdtl1zp49i4ODQ7mHUv7xxx/Y29uzYcOGcusWFBTQrFkznnzySeDigyWfeOIJy/sxMTFoNBq+++67ctvNnDmzwtQ1paWlzJgxg86dO+Ps7Iy7uzsdOnTglVdeITk5ueYf1koVl5lYtuscd/7fZqLfjWdW/DEpcg3YpWK36tMP+OzBu1n6zusc27YZs6lhnToXQlgXGZlr5ObPn88dd9zBn3/+yV9//UWvXr2Ijo5m0qRJjB07lt27d+PsfHF04bnnnkOv1zNt2rQq92cwGHjllVcYPnw49vaVP5S1pKSEAQMGsGfPHqZOnUqvXr1wd3fn+PHjLFu2jI8//viyx7AF+5Nz+H5bEj8lJpNTVKZ2HKECk9HIiR1bObFjK86eXrSN6Ufb2AF4+Mvz7IQQtUvKXCOmKArz5s3j008/JTg4mLi4OHr16gXAW2+9xapVq3j++eeZNWsW8fHxfPHFF2zcuLHKSaQB7rzzTpYvX84XX3zBxIkTK13ngw8+YMOGDWzfvt0yRyJcnDh84MCB2Oo9ObnFZfy06xzfb09i37nK77YTjVNBViZbli5iy7LFhLZpT7sbB9Ki2/UNYhYKIYT6pMw1YvHx8RQWFtKvXz+Cg4Pp3r07H374Ia6urhgMBr788kt69uxJv379ePLJJ3nppZe47rrrLrtPNzc3XnrpJV5//XXuu+8+y6jePy1cuJD+/fuXK3L/ZGsPat10PINF25P4dV8KxWW29xw4UY8UhTP7dnNm324cXd2I6tOXdjcOxLtJiNrJhBA2TK6Za8Ti4uIYPXo0Op2ONm3a0Lx5c77//nvL+9dddx0vvvgiw4cPx9vbm1deeaVa+504cSIGg4H333+/0vePHDlCZGRkuWW33XYbLi4uuLi4VJiz0BoVl5n4ctMpYmbEc+cXm1m665wUOVEjRXm57Fi5jPlPTeCH/77Kqd071Y4khLBRUuYaqezsbJYsWcKYMWMsy8aMGcPcuXPLrffKK69gNpt54YUXrjjZ8yV6vZ7XX3+dGTNmkJ6eXuk6/x59+/TTT0lMTOT++++nsLCwhp+m/uQVl/FZwnFumB7Paz/t51SG9WYVtuP0nl38+NZrLHjmUfbGr8ZYJtdZCiGqT06zNlLffvstxcXFdO/e3bJMURTMZjMHDhwgKioKwHITQ3WL3CVjxozh3Xff5c0336xwJ2uLFi04dOhQuWWBgYEAeHl51fSj1IvMglLmbjjJl5tOkVtsVDuOaKDSk06zevZH/PX913QefAsd+t+E3slJ7VhCCCsnI3ONVFxcHE8//TSJiYmWr927dxMbG1thdO5qaLVapk2bxmeffcapU6fKvXfnnXfy+++/s2vXrms+Tl1LySli6vL99Hp7HbPij0mRE/WiICuT9d/O54tHx7H+2/kUZGepHUkIYcVkZK6By8nJITExsdyy3Nxcdu7cyTfffFPu+XJwsWi9/PLLTJs2rcpHi1TXkCFD6N69O59//jn+/v6W5U8++SQrV66kb9++TJkyhd69e+Pp6cmRI0f49ddf0el013Tc2nAqvYDPEo6zdNc5m5zcXjQMJYUFbP3pB3b+upwOA26i+7CROLq6qR1LCGFlpMw1cAkJCRXuGh06dChRUVEVihzAsGHDmDBhAsuXL+f222+/5uNPnz69wg0NBoOBtWvXMnPmTObNm8eLL76I2WymadOmDB482PJQYjUcTMnlk/hj/LrvPCaZY0tYCWNpCTtWLGXv2t/oMuRWrht6Gw6OcvpVCHGRRrHVh3oJUYvOZBQy7deD/LrvvNpRGpwXnHZSsH+L2jEaFEdXN7rdOoKOA4di5+CgdhwhhMqkzIlGLa+4jFnxx5j31ylKjXI6tS5Imas7Ll7e9Lh9NO36DkBrBZcnCCHUIWVONEpms8L325N4b/UR0vNL1I7ToEmZq3se/oH0GjWGVr2i1Y4ihFCBlDnR6Gw8ns4bKw5yMEWm3KoPUubqT3DrtvQd9zC+YU3VjiKEqEdS5kSjcSq9gP/+cpDfD1xQO0qjImWufmm0WjoOGEKvUWPQO1WcTk8I0fBImRMNXm5xGR+vPcqCjaflMSMqkDKnDid3D264817axvS3ufmOhRA1I2VONFgms8J3287w/uojZBSUqh2n0ZIyp67A5pHcOH4C/s2aqx1FCFFHpMyJBunw+Tye+2E3u8/mqB2l0ZMypz6NRkvbvv3pc9c4DC4uascRQtQyeWiwaFDKTGY+jT/OJ/HH5JSqEP+jKGb2rv2NEzu30f/Bx4jo0k3tSEKIWiQjc6LB2Hcuh2d/2CN3qVoZGZmzPlF9+hI79iEMzjJKJ0RDICNzwuaVGs18uPYIn/9xAqNMwSXEFR34cx1n9ibS/+FJNOvUVe04QohrJCNzwqYdTMnlye8TOXQ+T+0oogoyMmfd2sT0I/a+B+UxJkLYMBmZEzbJbFb4v/UneH/1Ebk2TohrsD9hDaf3JjLgoUk07dhF7ThCiKsgI3PC5iRlFvL0ot1sPZWpdhRRDTIyZzs69L+JmPsexM7eXu0oQoga0KodQIia+GHHWQZ/uF6KnBB1YPfvv/DtK0+TlXJO7ShCiBqQMidsQonRxAs/7uGZxbvJLzGqHUeIBivt1Am+fvEJDm38U+0oQohqkjInrF5KThF3fL6Z77YlqR1FiEahtKiIlR++w+9fzMJYKrOnCGHtpMwJq7bxeDpDP9rA7qRstaMI0ejsWbOKb199Rk67CmHlpMwJq/V/fx7nnritMq+qECqynHb96w+1owghqiCPJhFWp7DUyLM/7GHlnhS1owgh+N9p149mkHL0MNH3jker1akdSQjxD1LmhFU5mV7Aw19t58iFfLWjCCH+ZeevP5OVco4hjz+P3slJ7ThCiP+R06zCavx+4AK3zNogRU4IK3YycQcLX32G7Avn1Y4ihPgfKXNCdWazwnurD/PQV9vJK5bHjghh7TLOnuHbl5/i7MF9akcRQiBlTqisuMzEw1/v4ON1x5C5SISwHUV5ufzw5ivsS1ijdhQhGj0pc0I1ucVl3Dt3K78fuKB2FCHEVTAZjfz22Uz++HouilnmSBZCLVLmhCpS84oZ9flmtp6UabmEsHXbly/hp/f+S1lpidpRhGiUpMyJencmo5ARn23iYEqu2lGEELXk+PYtLHlrMiWFhWpHEaLRkTIn6tWB5FyGz97ImUz5gS9EQ3P24D4Wvf4ihbk5akcRolGRMifqzZYTGYz6v02k5cmpGCEaqtSTx/lu8vPkpqepHUWIRkPKnKgXvx+4wL1zt8qjR4RoBLKSz/Ld5OfITJY5XYWoD1LmRJ1bvD2JR77eQYlR7nYTorHIS0/ju8nPceHkcbWjCNHgSZkTderzP47z7A97MJnlIXJCNDZFuTksfv0lebiwEHVMypyoMzN+O8S0Xw+pHUMIoaKSwgJ+fGsyZ/btVjuKEA2WlDlRJz6JP8Yn8XJ6RQgBxtISlr3zBucOHVA7ihANkpQ5Ueu+3HSKGb8dVjuGEMKKlJUUs+TtKZw/dkTtKEI0OFLmRK1asvMsk3/er3YMIYQVKi0q5Me3XiP11Am1owjRoEiZE7Xmt/3nefaHPShyr4MQogrFBfn88N9XyTibpHYUIRoMKXOiVmw4ms6khbvkrlUhxBUV5eaw+M2XyTqfrHYUIRoEKXPimu04nclDX22nVJ4jJ4SopoKsTBa/8TK5aalqRxHC5kmZE9dkf3IO4+Zto7DUpHYUIYSNyUtPY/EbL1OQnaV2FCFsmpQ5cdWOp+Vz39yt5MoUXUKIq5R9IYWl01+nrLhY7ShC2Cwpc+KqnMsu4p45W0jPL1U7ihDCxl04cZQVH07HbJYRfiGuhpQ5UWM5hWXcM2cLyTnym7QQonac2LmNtXM+UzuGEDZJypyoEZNZ4bGFOzmRXqB2FCFEA5N+Np2dq0+qHUMImyNlTtTItF8Osv5outoxhBANTGi7/mSk9mbT0pMc3yV3uApRE1LmRLUt2XmWORvkt2YhRO3R6nSEth9B6tl2aNCAAmvmHSD1dK7a0YSwGVLmRLXsOZvNi0v2qh1DCNGA2BscCWx1N6lJoeWWG0vNrPx0D/lZcl2uENUhZU5cUVpeCQ9/tYMSeSiwEKKWOHt64xl8LxnJPpW+X5hTyi+f7cVYJne4CnElUubEZZUazUz4egcpcueqEKKWeAaFYe9yJ7kZzpddL+1MHuu/O1JPqYSwXVLmxGVN/nkf20/L09mFELUjoHl7yozDKM53qNb6B/5K4dCmlDpOJYRtkzInqvTVplMs3JqkdgwhRAMR0qYP2Zk3YizT1Wi7PxYeJuNcfh2lEsL2SZkTldpyIoPXVxxQO4YQoiHQaAhtfwtpydeBoqnx5sZSM6v+bx+lRTJ1oBCVkTInKjiXXcTEb3ZSZlLUjiKEsHF2Dg6EtLmL1KTm17Sf7AuFrPvqYC2lEqJhkTInyjGZFf6zcBcZBTLnqhDi2ji6uuHT9B7SzvnXyv6O70xj91q59EOIf5MyJ8r5LOEYO+SGByHENXL3C8LJ+26yU91rdb8blxzj/ImcWt2nELZOypyw2Hcuhw/XHlU7hhDCxvmGR6LoRlCQ41jr+zabFH77Yh9FeXL2QIhLpMwJAIrLTDzxfaJcJyeEuCZNWnUnP38wpcV2dXaM/KwS4r8+VGf7F8LW1N1/bcKmTF91iGOpcuu/sF3H0zJIOHSCc1k55BaXMLZXF9o2CbC8/9u+IyQmJZNdWIydVkOwpzuD2kUS5u1Z5T4/jd/EibTMCstbBfryQO9uAOw8fY6Vew5RajLRrWkIN3dobVkvs6CQ//tjK0/074XB3r4WP611Cm0/iNSkqHo51snd6RzenEJkj8B6OZ4Q1kzKnOCvY+nM33hK7RhCXJNSo4kgDze6NQ1mwcadFd73dXXmts5t8XZ2osxk4s8jJ/niz628MDgGF4O+0n2O7dkFo/nvaewKS8t4f/V6OgRfLBAFJaUs2r6H0V074OXiRNz6bUT4ehEVdPGC/x937GNI+8gGX+S0OjuatLmd1KTgej3u+kVHaRLphYtn5X9+QjQWUuYauZyiMp5ZvBtFzq4KG9c60I/WgX5Vvt85rEm517d0bM3Wk0mk5OTRoooy56QvP0tBYlIK9jod7UMulrmM/EIc7e3pGBoEQHM/by7k5hMV5M/O0+ew02ppF9ywR44cHJ3wDh9FWlLVI5x1paTQSPzXB7l5Usd6P7YQ1kSumWvkXl22T+ZdFY2O0WRm8/EzGOztCPJwq/Z2W08m0TE0EL3dxd+DfVydKTWaOJeVQ2FJKUmZ2QR5uFFYUspv+49wW+c2dfURrIKLly9uQfeSdb7+i9wlZ/ZncmBDsmrHF8IayMhcI/bz7mR+3i0/BEXjcSD5Al9v3kWZ0YSro56HorvjrK/eHKFnMrI5n5PHHde1tyxzcrBndLcOLNy6mzKTiS5hwUQG+PL91t3c0DycjIJC5m7YjslsZkCblnQIaTijdN7BzTAyhPxM9U8hb/jhKMGtPXHzrv27Z4WwBVLmGqnzOcW8umyf2jGEqFcRft481b83BaWlbDlxhq827eQ/N/bCtYrTrP+09WQSAe6uhHp7lFveLjiAdsF/32hxLDWDlJw8buvclrd/iefuHp1wNej5aO1fNPP1qtaxrF1gi07k5vTBVMM5VutKWbGJdV8e5NYnOqHR1Hy6MCFsnZxmbYQUReGZxbvJKSpTO4oQ9UpvZ4ePqzNh3p7c0bUDOo2GrSevPKNAqdFEYlIy3ZuGXHY9o8nEkp37GHFdO9LzCzApChF+3vi5ueDj4syZzOxa+iTqCWkbS1Z6jNUUuUvOHc5mb8I5tWMIoQopc43Q99uS2HAsXe0YQqhO4eL1c1eyOykZo8lc4SaKf/v9wDFaBfgS7OmOoiiY/3FnkVlRUGz4TiONRktoh9tIO9cJsM7Rr01Lj5GdWqh2DCHqnZS5RiansIx3fjusdgwhal1JmZFzWTmcy7o41VNmfiHnsnLIKiiixGjklz2HOJ2RRWZBIWezcli0bQ85hcXlrmNbuCWRX/ZUfBjt1pNJtG3if9nr687n5LE7KZmBbVsC4OfqggbYcuIMB5IvkJqbT4inR61+5vpirzcQFHU3qWeaqh3lsoylZv5cKD/fROMj18w1Mu/9fpjMApkGpzqKk/aRu+VHSi8cx5Sfie9tL+PU8nrL++bSIrL/mE/hkc2Yi/PQufnhdt0tuHa6qcp9KiYjOZsXU7BvLca8DOy9muAZMw7HZl0s6+Tvjyf7jwUoZcW4tB+AZ+z9lveMORe48P2rBN43E63eqW4+uI1KysphdsJmy+ufdx8E4LrwYIZ3aUtqXj7bN56loKQMZwd7Qrw8mNj3egLcXS3bZBUWVbjmKi0vn5PpWTzUp1uVx1YUhR+27+WWjlGWO13t7XSM7taBJTv3YzKbua1zG9ydDLX5keuFk5sHrv4jyUh2vfLKViDpYBbHd6YS0bnqx9QI0dBoFFse9xc1cjAll6Efb8Bklj/y6ig6vp3icwfR+0eQtuytCmUu49ePKD6zF+/Bk7Bz96fo5C4yV3+K720v4dSiR6X7zEqYR8H+eLwHTcLOO4TikzvJWjeHgDEzcPCPwFSYw7nPxuF90xPYeQSQ+sNUvG96AqeIrgBcWDQZ1w4DcYrsWS/fg9rwgtNOCvZvUTuGuAoeASFoHG6mKM+2SqiLl567pvTA3sG6rusToq7IadZGZPLP+6XI1YBjxHV49rmnyuJUknwI57Z9MYS2x87dH9eOg3Dwa0ppytEq91mwPx736+/AMaIr9h4BuHa6CUPTzuRuXQqAMfs8Gr0Tzq37oA9siSG0PWXpZy5ueyABjc7OpoqcsF3+zdpg4nabK3IA+Zkl7Pj1lNoxhKg3UuYaiZ8Sz7H1ZMU5JsXV0wdHUXRsK8a8dBRFofj0HsqykjE061zlNoqxDHTlr7vS2DlQfPYAAHZeTVDKSi6e2i3KozTlCA6+4ZiK8she/w1e/R+p088kBEBwVC9yc/pTVmK7I1uJvyeRkyY3Q4jGQa6ZawQKSoxM+6XiRd3i2nj1e5iMVR9z7tOxoNWBRoP3oP9gCK76qf+Gpp3J27YMQ0gb7DwDKT61m6KjW1AUEwA6gws+Q54kfcX7KMZSnNv2xbFZF9J/mYlrl6EYcy6Q+uMbYDbi3usunFvdUE+fVjQKGg2h7W4iNSlS7STXzGQ0s37RUYY+2kHtKELUOSlzjcDH645xPlem7KptuduXU5J8GN/hr2Ln5kdx0j4yf/8MnYsXjuEdK93Gq99DZKz6mOQ5EwCw8wzEuV0/Cvausazj1LInTi3/PpVafGYPZWmn8er/CMn/9xA+Nz+LztmTlC+fwhDSFp2zR11+TNFI6OztCWo1gtSkhjNLxem9GZzck07T9j5qRxGiTkmZa+BOpOUzd8NJtWM0OOayErL//BLf21+23Jzg4NeUstST5G5dUmWZ0zm543f7KyjGUkxFuehcvMn+Yz527v6Vrq8Yy8hc/RneQ5/GmJWCYjZhCG0HgL1XE0pSDuPUvHudfEbReOidXfAKuYO0sx5qR6l1GxYdIbS1Fzp7uapINFzyt7uBe33FAUqr8VBUUUNmE5iNaP798FSNFqpxg7jGzgE7Vx8wmyg8vBHHFpUXsuyN32Fo1gV9QHNQzBeP+z+K2Qhm+bMV18bNxx9X/3vIuuChdpQ6kZtezM7Vp9WOIUSdkpG5Buz3AxdIOJymdgybZS4twpiVYnltzLlA6YUTaB1dsHPzQx/SlqyEuWjsHdC5+VGStI+C/evw7PuAZZv0Fe+hc/XGM3osACXJhzHlZWDv3wxTXjo5f30Lihn37sMrHL807TSFh/4kcOzHANh5BYNGS97u1ehcPCnLOItDYIu6/SaIBs0ntAWlxkHkZ9mrHaVO7Vx1mqheQTh72P68uEJURspcA1ViNPHGigNqx7BppeePcmHhS5bXWevmAODc9kZ8hjyJ7y3Pk/XHAtKXv4u5OB+dmx8eve/BpeNgyzbG3LSLo3X/oxhLyV7/FWXZ59E6OOLYrAveQ55Ga3Apd2xFUcj8bRaefR9E63Dx0RBaez3eNz1B5u+foZjK8Or/yMXRPSGuQlBkV7Ize2E2NvwTNMYyM9t/PUX0nbZ/Y4cQlZGHBjdQczec5HUpc8IKyEODrU9Iu/6knm1b8TKBBkxrp+HuKT1w83FUO4oQta7h/0rWCBWXmZj9x3G1YwghrIxWpyO0/QjSzrZrVEUOwGxU2PbLKbVjCFEnpMw1QN9vSyI1r0TtGEIIK2JvcCQwcgypSaFqR1HN4c3nyb4gDxIWDY+UuQamxGjiswQZlRNC/M3Z0xvP4HvJSPFWO4qqFLPC1uUn1I4hRK2TMtfALNp+Vh4QLISw8GoSjoPzaHIznNWOYhWO7kgl41y+2jGEqFVS5hqQUqOZz+KPqR1DCGElApq3p7TsVooK5JEcFgps+VlG50TDImWuAflhx1mSc2RUTggBIW36kJ15I8YyndpRrM7J3elcOJWrdgwhao2UuQaizGTmExmVE0JoNIS2v4W05OtAaVx3rNaEjM6JhkTKXAPx446znMsuUjuGEEJFdg4OhLS5i9Sk5mpHsXpJBzJJPS2jc6JhkDLXABhNZj5JkFE5IRozR1d3fJreS9o5f7Wj2IzENUlqRxCiVkiZawCW7DpHUqaMygnRWLn7B+HkfTfZqW5qR7Epx3emkp8l1xkL2ydlzsaZzAqfyrVyQjRavuGtULQjKMgxqB3F5phNCnviz6odQ4hrJmXOxq3Yk8ypDHmiuRCNUZPWPcjPH0RpsZ3aUWzWgQ3JlJWY1I4hxDWRMmfjvtx0Wu0IQggVhLYfRMb5nigm+TF+LUoKjRzcmKx2DCGuifwUsGH7zuWw43SW2jGEEPVIq7MjtN0dpCZFqR2lwdi97iyKWVE7hhBXTcqcDftKRuWEaFT0Ts74t7yH1LPBakdpUHLTiji5O13tGEJcNSlzNiqnsIyfdp9TO4YQop64ePviGnAPWec91Y7SICWuPaN2BCGumpQ5G7VoexLFZWa1Ywgh6oF3cDN0jqPJz3JSO0qDlXIsR6b4EjZLypwtUhTSjm1TO4UQoh4EtuxMcenNlBTYqx2lwTuwXs52CNskZc4WnUjgpTMPcSB4Gu82S8TboUztREKIOhDSti9ZadGYynRqR2kUju1IxVgqjykRtkfKnC3a+SUATul7GZH8DtsdH2NVi58Y5JuhcjAhRG3QaLWEtr+NtHMdAY3acRqN0mITx3elqR1DiBqTMmdrCjPh0MpyizQlebRK+p7ZeZPYF/oebzXdi6udUaWAQohrYa83ENT6blKTmqodpVE6tClF7QhC1JiUOVuz+zswlVT5tkvqDu5KmcZul8dZ3mIl0d7yHDohbIWTuydeofeSkeyrdpRG69zhLPIyZb5WYVukzNmaXV9VazVtcRbtkr5hQcGj7A77kNeaHsRZJ3e/CmGtPAJC0LvfSU66i9pRGjVFgcObZXRO2BYpc7bk7HZIPVDjzdwvbOH+lDfY6/4ES1r8RjcPuf1eCGvi36wtJuU2ivIMakcRwMFN59WOIESNSJmzJXsWXdPm2sJ0Oict4PviCewM/5Tnwo6i18ponRBqCo66gdzs/pSV2qkdRfxPbloRyUez1Y4hRLVJmbMVigKHVtTKrjQoeJ3fwMQLkzng+Qzft1hHR7f8Wtm3EKKaNBpC2w8hPaUbiiJ3rFobuRFC2BIpc7bi3A7Irf0HWuoKztM9aQ5LyyawrdkcHg89gU4jo3VC1CWdvT0hbUeTmhSpdhRRhWM7UymTZ84JGyFlzlYc/LlOd69RTPgmr+PJ1Fc47PMCX7X4k1YuhXV6TCEaI4OLK34R95B2NlDtKOIyyopNnN4rz+4UtkHKnK04uLzeDmWXd5beSbP51TyBTRHzeSj4NBqNUm/HF6KhcvMNwNl3DFkXPNSOIqrhRKI8QFjYBilztuD8Psg8Ue+H1ZjLCDy3mpfSX+SI3yvEtdhIMyd5/pIQV8MntAXYj6Qg21HtKKKazuzPwGySy06E9ZMyZwvq+BRrddjnnOTGpFms1UxgffNvuC9IJqQWorqCIrtSWDSE0iJ7taOIGigpNHLuSLbaMYS4IilztqAeT7FeicZUQsjZlUzNfJbDgVP4rPlWmhiqnpFCiMYupF1/MlJvwGyUH7e26OTudLUjCHFF8tPF2qUfu6oHBdcHfdYRBp+dyQa7icQ3X8TIAHnQphCXaHU6QtuPIO1sOzTIo0ds1cndct2csH5S5qydFZxivRKNsYimZ5cxI/spDjb5LzMjduLrUKp2LCFUY29wJDByDKlJoWpHEdcoP6uEtDN5tb7f2bNn4+rqitFo/PtY+fnY29vTu3fvcuuuX78ejUbDkSNHANi4cSM6nY5BgwZV2O+pU6fQaDQkJiZWetz58+fj4eFRbtnBgwcJDg7m9ttvp6SkhISEBDQaDdnZ2QCW123btsVkKv+4Fg8PD+bPn19u2a5duxg1ahSBgYHo9XrCwsIYOnQoy5cvR1GufDPdv4//Tx07dmTKlCmW1+Hh4Wg0GjQaDU5OTrRt25bPP//c8r7JZGLatGm0atUKR0dHvLy86NGjB/PmzQOwbFvV19ixYy37GjBgADqdjs2bN1fINXbsWIYNG1bu9aV92NnZERoayoQJE8jKKj9f+q5duxg6dCh+fn4YDAbCw8MZNWoU6ek1GxGWMmftbKDM/ZNjxn6GnXuXrYZH+b3FEob6yikK0bg4e3rjGXwvGSneakcRtaQu7mqNjY0lPz+f7du3W5atX7+egIAAtm3bRmHh34+GSkhIICgoiJYtWwIwd+5cJk2axIYNGzhz5sw15di2bRu9e/dm4MCBLF68GL1eX+W6x48f58svv7zs/n766Sd69OhBfn4+CxYs4MCBAyxevJhhw4bxyiuvkJOTc015K/P666+TkpLCnj17GDZsGI888gjff/89AFOmTGHmzJm88cYbHDhwgPj4eB588EFLqUpJSbF8zZw5Ezc3t3LLPvzwQwDOnDnDpk2beOyxx4iLi6tWrkGDBpGSksKpU6eYM2cOy5cvZ+LEiZb3U1NT6devHz4+Pvz2228cPHiQuXPnEhgYWO7Pvzpk/hhrlp0EybvUTnFVNKUFtEj6gVn8wPSQjqy0H8i0pDZklclfOdFweTUJR9EMITej6n8Qhe05uTud7rc0q9V9RkZGEhQUREJCAj169AAulrZbb72V+Ph4Nm7cSL9+/SzLY2NjASgoKGDRokVs27aN8+fPM3/+fF577bWryrBu3TpuvfVWHnnkEWbMmHHF9SdNmsTkyZO58847MRgqziNcUFDA+PHjGTJkCEuWLLEsj4iIoFu3bjzwwAPVGpmrKVdXVwICAgB48803WbRoEcuWLWPUqFGWAjVy5EjL+h06dLD8/0vbAbi7u6PRaMotu2TevHkMHTqUCRMm0K1bN2bOnImzs/Nlc+n1esu+goODGTVqVLlRzI0bN5Kbm8ucOXOws7v4b2PTpk3p27dvjb8HMjJnzWpp+i61OaclckfydHY6TeKXFsu50TtT7UhC1LqA5u0pLbuVogIpcg1Nxrl8ctOLan2/MTExxMfHW17Hx8cTExNDdHS0ZXlpaSmbNm2ylLnvv/+eyMhIIiMjGTNmDPPmzbuqgrR06VKGDBnCyy+/XK0iB/DEE09gNBqZNWtWpe+vXr2ajIwMnnvuuSr3odHU/fWjBoOBsrIy4GJZW7duHWlpVz+6qigK8+bNY8yYMbRq1YqWLVuyaFHN5ko/ceIEq1atwt7+7zvaAwICMBqNLF269JpLrpQ5a3YiQe0EtUpTkkNU0kLiCh5jb+j7vN50P852Ml2OsH0hbfqQnXkjxjKd2lFEHTm5p/YvGYmJieGvv/7CaDSSl5fHrl276NOnD9HR0SQkJACwefNmioqKLGUuLi6OMWPGABdP4+Xn57N27doaHTc/P5+RI0fy7LPP8sILL1R7OycnJyZPnsy0adMqPV166Zq+yMi/p6nbtm0bLi4ulq8VK+pukMJoNDJ//nz27t3LjTfeCMD7779PWloaAQEBtG/fnkceeYRff/21Rvtds2YNhYWFDBw4EIAxY8ZU61TrihUrcHFxwdHRkYiICA4cOMDzzz9veb9Hjx689NJL3HXXXfj4+DB48GBmzJjBhQsXapQPpMxZL7MZzmxSO0WdcU3dzr0p/2Wv6+P81OJXbvCq/esohKhzGg2h7W8hLfk6UOSO1Ybs7KGsK69UQ7GxsRQUFLBt2zbWr19Py5Yt8fPzIzo6mm3btlFQUEBCQgKhoaE0a9aMw4cPs3XrVkaPHg2AnZ0do0aNYu7cuTU6rqOjI/379+eLL77g4MGDNdp2/Pjx+Pj4MH369Gqt3759exITE0lMTKSgoKDcDR+15fnnn7eUpkcffZRnn32Whx9+GICoqCj27dvH5s2bGTduHBcuXODmm2/mgQceqPb+4+LiGDVqlOVU6J133smWLVs4fPjwZbeLjY0lMTGRLVu2MGnSJAYOHMikSZPKrfPf//6X8+fPM3v2bKKiopg9ezatWrVi7969NfoeSJmzVhf2QXHDLzjaokw6JH3FV4UTSQyfxcvhh3DUyWidsH52Dg6EtLmL1KTmakcR9SD5aDZmc+1e79W8eXOCg4OJj48nPj6e6Oho4OLpt6ZNm/LXX38RHx9vuYYqLi4Oo9FIkyZNsLOzw87Ojs8++4wlS5ZUuEvycnQ6HcuWLaNLly7ExsZy4ED1H39lZ2fHm2++yYcffkhycnK591q0aAFQruTo9XqaN29O8+bV/+/Ezc0NoNLRv+zsbNzd3cste/bZZ0lMTOT06dPk5+fzzjvvoNX+XW+0Wi1du3blySefZOnSpcyfP5+4uDhOnjx5xSyZmZksW7aMTz/91PI9b9KkCUaj8Yol2tnZmebNm9O+fXs++ugjSkpKmDp1aoX1vL29GTlyJO+99x4HDx4kKCiId99994rZ/knKnLU6vVHtBPVKg4LH+Y08eP519nk8zQ8t13Cde+0/DkCI2uDo6o5P03tJO+evdhRRT0qLjHXyiJLY2FgSEhJISEggJibGsjw6OprffvuNzZs3Exsbi9Fo5Msvv+S9996zjHQlJiaye/duwsLC+Oabb2p0XL1ez5IlS+jWrRuxsbHs27ev2tuOHDmSNm3aVCgmAwYMwMvLq9qjdlVp0aIFWq2Wbdu2lVuekpLCuXPnyp3GBfDx8aF58+YEBQVV65q8qKgo4OING1fyzTffEBwczO7du8t932fOnMmCBQtqNNI4efJk3n333Qol+J8cHByIiIioVrZ/klsLrdXpv9ROoBpdQSrXFcxlsWY+mU17863pRj46G0GZWU5jCfW5+wdh5ziM7NSKd/OJhu3c4Sz8w91qdZ+xsbE8+uijlJWVWUbm4GKZmzBhAsXFxcTGxrJixQqysrIYP358hZGpESNGEBcXx2OPPWZZVtkpwEsl5hIHBwd+/PFH7rjjDvr27cvatWtp165dtXK//fbblmvILnFxcWHOnDmMGjWKIUOG8J///IcWLVqQn5/PqlWrgIujglfi6urKww8/zNNPP42dnR0dOnQgOTmZl19+mdatWzNgwIBqZYSL35tevXrRs2dPAgICOHnyJC+++CItW7akVatWV9w+Li6OESNG0LZt23LLw8LCeP7551m5ciW33nprtbLExMTQpk0b3nrrLWbNmsWKFSv47rvvGD16NC1btkRRFJYvX84vv/xieQ5edcnInLVqZCNzldEoZrxT/mBS6msc8nqWb1sk0Ma1Zr+tCFGb/MJbo2hHUJAjRa4xOnu4bq6bKyoqonnz5vj7/z3SGx0dTV5eHhEREYSEhBAXF0e/fv0qFDmA4cOHk5iYyM6dOy3LRo8eTadOncp9VTYiZG9vz6JFi+jTpw99+/Zlz5491crdt29f+vbtW2Fk6rbbbmPjxo04OTlx7733EhkZSd++fVm3bh3fffcdQ4cOrdb+P/jgAx544AFeeukl2rRpw913303Tpk1ZvXq15dq16hg4cCDLly/n5ptvpmXLltx33320atWqWvvZsWMHu3fvZvjw4RXec3V1ZcCAAdV+5twlTz31FF988QVJSUlERUXh5OTE008/TceOHenRoweLFi1izpw53HPPPTXar0api4e+iGuTdhg+6aZ2CqukaO1IDYjhy7K+fHo2DEUuOrd6LzjtpGD/FrVjXLMmrXuQmdYDxSS/AzdW9gYdD7zfB61Wfu4I6yI/lazRqQ1qJ7BaGrMR/+Q1PJv2Ekd8X2J+iw20cK795z8J8U+h7QeTcb6nFLlGrqzYRHqSXMsrrI/8ZLJGcoq1WuxzTxOT9CmrlUfYGPElDzRJUjuSaGC0OjtC2o8iNam12lGElUg51vCfMlDXHnnkkXLPnvvn1yOPPKJ2PJskp1mt0XutIa/qu11E1Uo9IkhwGcKb5zpypkiua7IGtnqaVe/kjHfYSDLPe6kdRViRiE6+DHq4ejcJiMqlpqaSm5tb6Xtubm74+fnVcyLbJ3ezWpvME1LkroFD9nEGZH9EfzsDSc37M7sgmm9TgtSOJWyMi7cvBvfhZJ53UjuKsDLJx2Vk7lr5+flJYatlcprV2sgp1lqhMRYTenY5b2U9w+Ggqcxqvo0AfanasYQN8A6JQOc4mvwsKXKioqLcUnIz5DpdYV1kZM7anG64U3ipRZ95mKGZhxni4MzJ0IHMyu3NkgvysFdRUWDLzuRm9cZklDlWRdUyzubj5u2odgwhLGRkztqc3612ggZLU1ZAs6QlvJ/zJAeCp/F+xC68HcrUjiWsREjbvmSlRUuRE1eUfjZf7QhClCMjc9bEbIL0o2qnaBSc0vdyO3u5zdGVI2GDmZl9A7+m+agdS6hAo9US0vZWUpOaqh1F2Agpc8LaSJmzJlmnwFisdopGRVOSR2TSIj5jEfkhnfnZfiDTzrQmzyj/aTQG9noD/s1Hkprkq3YUYUOkzAlrI/9iWZPUg2onaNRc0nZyFzsZ7eLBAd8hvJvRk4RMT7VjiTri5O6Jq99I0pNd1I4ibExuehGlxUYcDPJPqLAOcs2cNUmTMmcNtMXZtE36hvmFj7I77EMmNz2Is86sdixRizwCQtC730VOuhQ5cRWUizdBCGEt5NcKa5J6SO0E4l/cL2xhHFu4z82H3b5DeCetB5uyKk50LWyHf7O2FBb0pSyvYfz4O5a8hzW7v+dM+lFyCzN4cMBUOjS9wfL+V/HT2XJkdbltwv1a88xtsy67310n/mTltnmk56bg4xbIzd3Gl9vvtqNr+GnLHEqNxVwfOZjbrn/Y8l5G3nlmrXyO527/DEcH51r6pNYl/Ww+gc091I4hBCBlzrqkSZmzVtqidDqdWcC3fEl2eE++V/rzQVJzSswyuG1LgqNuION8VxSl4UyUXmIsool3BD0iBzHn9ymVrhMV0pUxMc9ZXuu0l//Rf+L8fuateYMhXcfRIfwGdp/aQNya13nqlg8J929NflEO3/7xHmNinsPHLZDPfn2ZFkEdaBvWA4Dv18/k1m4PNtgiB5B+TkbmhPWQMmct5E5Wm6BBwfP8XzzCXzzo6c8Or6G8daE7iblyus6qaTSEthtCalJLtZPUujah3WkT2v2y69jp7HFzqv60ZAl7l9AquAsDO90FQIDnXRxL3kP83h8Z5/8K6XkpGByc6dI8FoCWQR05n3WatmE92HZ0LTqtPR2b9b76D2UD0pOkzAnrIcMK1iLzBJhK1E4hakBXcIFuSXEsLZvAtmZf8GToCXQaubbO2ujs7QlpO7pBFrnqOpq8mxcWDGfqd/fy7R/vkVeUddn1T6YeoFXwdeWWtQ65jhMX9gPg596EMmMJSelHKSjO5XTaYYK8m1FQnMvK7fO544ZJdfZZrEVmcj6KWaY2F9ZBRuashdzJarM0ignf5HgeJ55HfZqw2WMo/03pysF8mQ5KbQYXVzyDR5J21kPtKKqJCulGp2bReLn6k5Gbwort8/lo+TM8N/wz7HUOlW6TW5iJq2P5O7ldHT3JK7xYAp30rtwT+zxfxk+nzFhCt5b9iQrpytcJM4huO4yM3PN8vupVTGYjN113L52aRdf556xvxlIzBTkluHga1I4ihJQ5qyHXyzUIdnnnuCHvc37RxnGhWSwLyvoy+2xog7pGy1a4+QZg73IbWRca97RLl06FAgR5NSXUN5LXvr2L/ae3XPZUqEbz77+zCvxjUYemN5S7IeJIciLJmSe5o9ckpnx3L+NufBk3Jy9mLH2U5oHtK5TDhiA3o1jKnLAKcprVWsjIXIOiMRsJSP6d59Ne5Ijfy8xt8RfNnOSB0PXFN6wl2I+kILtxF7nKuDt74+XiT1ru2SrXcXPyIrcws9yyvKLsKgtZmamURes/5M7eT5CWew6z2USLoA74e4Tg5x7MqQsN8+dbXob8Ny2sg5Q5ayEjcw2Wfc4p+iZ9wlrNI2xo/g33BVX9j6i4dkGtulJQcBOlRfZqR7FK+cU5ZBWk4ubkXeU6Tf2iOHR2R7llh85up5l/m0rXX7Xja6JCuxHi2xKzYsasmCzvmcxGzErDvJY0L6NI7QhCAFLmrEfWabUTiDqmMZUSfHYlUzOf40jgZGY330KwQW56qU2h7fqTceEGzKbG86OtpKyIs+nHOJt+DLj4jLez6cfIzLtASVkRSzbN5sT5/WTknedIciKfr3oFF4M7HcL/PkX65bq3+WnLHMvrmHa3c+jsdn5PXMj5rDP8nriQQ+d2EttueIXjp2SeYufxBIZcNxYAf49QNBoNGw/9wr7Tm7mQfYYwv8i6/SaoJFdG5oSVkGvmrEFJHpQVqJ1C1COHrKMMyvqQgXaOnG4+gM8Kovk+JUDtWDZLq9MR3OY2UpNCaWxXJ55OO8xHy5+2vF6y6TMAurccwKjeT5CceZKtR36nqDQfNycvWgZ15P5+r2Jw+PsGncz81HLXyDULaMO4fq+wYts8Vmybj49bEPff+Crh/q3LHVtRFBb++T6395yA3v7iKW0HOz1jYp5j0YaPMJrKuKPXJDycG+bct3KaVVgLjaIocm+12jKOw8ed1U4hVFbsHcVvhsH892x7UksazinCF5x2UrB/S53t38HRCZ+mI8lMqfq0oRB1wc3XkXveuF7tGELIyJxVyL+gdgJhBQwZB7iVA9yid+Z46CA+zu3NTxf81I5l1Zw9fXD2vp3MFHlos6h/+VnFKGYFjbaxjQcLa9N4LiyxZnnn1U4grIimtIDmST/yYc4THAiezoxmiXjaG9WOZXW8moTj4DyK3AwpckIdZqNCQY5c9yrUJ2XOGuSnqp1AWCmn9N2MTH6HnU6P8WuLnxngk3nljRqBgOYdKC27laICvdpRRCMnN0EIayBlzhrIaVZxBZqSXFonfcf/5T/G3tD3ebPZfpztTFfesAEKaRNNdmZfjGU6taMIQX6mlDmhPrlmzhrIyJyoAdfU7YxhO3e5erHP5ybezejJn5keaseqcxqNlpD2N5N6JkLtKEJYFBfIJRBCfTIyZw1kZE5cBW1RJu2TvmZB4aPsDvuIV8MP4ahrmKN1dg4ONGlzpxQ5YXVKCsvUjiCEjMxZBSlz4hpoUHC/sJnxbGacuy+7vIcyLbUH23Nc1Y5WKxxd3XEPGkn6OTe1owhRQUmhjMwJ9cnInDWQMidqibYwjS5J81hcOoEdTWfzTNgx7LW2+yhJd/8gnLzvJjtVipywTjIyJ6yBlDm1mc1QkK52CtHAaBQz3il/8tiF1zjk9SwLW8TTztW2ZhnxC2+Noh1BQY5B7ShCVElG5oQ1kDKntsJ0UBrmdU7COujyk7k+6Qt+Nj7C1mZzmBRyEp3Guic+b9K6B3n5AyktlitBhHWTMiesgZQ5tRXKc8NE/dAoJvyS1/F02ssc9n2RL1usp6VzkdqxKghtP5iM8z1RTPLjSVg/KXPCGsivvWozydPDRf2zy02iT+5n/Ka1JyXiRuYVxzAnOQRFUW9aIq3OjiZthpOa1ES1DELUVEmRXDMn1Ce/+qrNJD8IhHo05jKCzq3i5YwXOOz/KnNabCLcsf4fgqp3ciag5RjSpMgJGyMjc8IayMic2qTMCSvhkH2Cftkfc6NOT1Lz/nxRGM1XyXVfrly8fTG4DyfzvFOdH0uI2lZWbMJsVtBq1RvVFkJG5tRmKlU7gRDlaEwlhJ5dwRuZz3I4cCqfNt9KoKFu/p56h0SgcxxNfpYUOWG7SotkdE6oS0bm1GaWkTlhvfRZh7kp6zCD7Z04FTyAT/L68MOFgFrZd2DLzuRm9cZklDlWhY2z3Uc5igZCRubUJqdZhQ3QlBXS9Owy3s15ioPBb/F+xC58Ha7+725I275kpUVLkRMNgqJImxPqkpE5tclpVmFjHNP3cTv7uM3gwpGwwXyY3Ztf0nyqta1GqyWk7a2kJjWt45RC1B/pckJtUubUJiNzwkZpSvOJTFrMpyymIKQjy+0HMy2pNTlllf9Ysdcb8G8+ktQk33pOKkTdkpE5oTYpc2qTMicaAOe0REaTyB3OHhz0Hcx7mTewLsPT8r6TuyeufiNJT3ZRMaUQdUS6nFCZlDm1yQ0QogHRFmfTJmkhc1lIblg3lmoHYC7wRXG/jpx0vdrxhKgTMjIn1CZlTm1yzZxooNwubKVLkyLOFHbAP+M0eU06kKnzJz1LQ1mJdc8NK0RNSJcTapMypzY5zSoaqN0hHZjgWEYXn9NM/Po4TizDH1B0dpS06UlBs25kO4WSlqenME+e0yVsl4zMCbVJmVObWf4REw3PrpBOTDAUUVBWSIJjPo/6+6FcSAVAYzJi2PMnhj1/4g1EAMawKApa30COZ0vSS13JzjTKdUjCdsjfVaEyKXNqszOonUCIWrUjtAsT9QUUGgsty9I6heKzKrXKbexOH8D99AHcgVDA5OVPUbsY8gLakokv6ZkKpjI5NSuskwzMCbVJmVOb3lXtBELUmm3hXXnUPpciY1G55X81LeHWGuxHl3kBlz++x4XvCQQUBwMl7fqQF9aFLEMT0nPsKS6QUW1hHTTy+H2hMilzanOQRzWIhmFL065M0uVQZCyu8N5P7scZ5mhAKar4XnVoSosx7FiNYcdqfIGWQGmLLhREXk+OWwTpRU7kZkm5E+pwMMg/pUJd8jdQbXopc8L2bWzancd1mRSbSip9P19TSlHHKAyb9tTaMR2O7sDh6A48gXDA6B9GUdtocn1bk2H2IjPdhNks579E3bM3yLR0Ql1S5tTmIKdZhW3bEHE9T2jSKamiyF2yJ9KBbpvqLofdhdO4XvgSV6AJYHZ2o7hdDHkhHciyCyQ9S0tpsanuAohGSWevRaeT86xCXVLm1CYjc8KG/RnRkydJpbQaz0tc4nuabhpNvV0tri3IxWnzzzht/vniI1G0OkqjrqcgohtZzmGk5xsoyJVTs+LaOMionLACUubUJtfMCRsV3+IGnjanUFbNWUxO2GWhtGqG5uDxOk5WOY3ZhH7fBvT7NuDFxUeilIVEUhjVh1yvFmSUuZOVYZQ7E0WN2OulzAn1SZlTm4zMCRu0tkVvnjGfw1jD5ySeaOtNhEplrjL2SYdxTzqMOxACmN19KGofS15gOzK1fqRnKBjlkSjiMhwc5Z9RoT75W6g2GZkTNmZ1ZB+eLzuLUan5KcrfmmQwsQ4y1RZtTjrO6xfjzGICALODntI2vckP70KWYwjpOfYUySNRxD/IyJywBlLm1KbVgb0TlBVeeV0hVLYqMoYXy85cVZEDSHA8zaP+vigX0mo5Wd3QlpZg2LUGw641+AAtgLKIjhS06kWOewTpxS7kZMqUfI2ZjMwJayB/C62Bg4uUOWH1VraK5eXSU5iUa7sjNL1TGN6rbKPMVcb+eCIexxPxAMIAk28whe1iyPOLIsPsRUaGGbNJLrxrLBxkZE5YASlz1kDvAgVVT3UkhNp+bn0jr5Ycx6xc+/VjfzUt5ZZayGQtdGlncV33Na5AEGB2dKGkXTR5IZ3IcggkLVtHaZE8EqWhspcHBgsrIH8LrYFcNyes2NKofkwpPlYrRQ5gmfsxbr2G2SCsnbYoH8etK3HcuhI/oKVGQ1mr7uS36EG2S1PSCwzk58h1dw2FwcVe7QhCSJmzCs4+aieoM3+eNjJjYyk7kk2k5CssHeXIsFZ///DLL1V4YU0xyw4ZyShSCPfQ8p9uDkzo6lDlPucnljLup4pFoOhlVwx2GgC+2VPGC2uLKShVGN/JgRkDDJb1TmWbGfBVIdsfcsZNr6nFT9vw/NimH1MLj6JQe6cNL84G0RrDpr21tk9rplEUHA5uxuvgZryAZoAxuAWFUb3J8Y4k0+hBZoaRWurKop65eurVjiCElDmr4B6idoI6U1Cq0MFfy7iO9gxfVFTh/SdXFRN/ysjXtzsS7qFl9XEjE1cWE+Sq4dZWVf/G66aHw4+VH9G8VOTSC808sLyI+bc60sxTy5BvC4kJ1zGk5cX9TVhZxNv99FLkrmBRm/68WXikVovcJXsj9XStw9kgrJ3d2aO4nT2KG/97JIqrF0XtY8hr0p4srT9pmWAslXZnC5w9DVdeSYg6JmXOGniEqp2gzgxuYc/gFpdKWcUyt+msifs6OBATfvGv4kNdHPh8Rynbk02XLXMaIMCl8il0TmQpuOs1jGp7cfvYpjoOpJkZ0hK+3VuGg07D7a3l1MjlLGw7kGkFh+qkyAH86HuarvU4G4S10+Zl4vzXEpxZQgAQaedAadte5IdfR7ZTKOm5DhTmy6lZa+QiI3PCCkiZswYeYWonUM0NoTp+PlLG/Z3sCXLVkHDKxJEMMx8OuvxfzfxSCJuZh8kMHQN0vBGrp1PgxbvKWnhpKSxT2JViIsxDy7ZzJu7v6EBmkcJr8cXE3+dcHx/NZn3dbhDT8w/U6THUng3C2mmNpRgS4zEkxuMDNAfKmrajoNUN5Hg2J6PYhewsI3XUtUUNSJkT1kDKnDVowCNzV/LRYAMPLi8m+IN87LSg1cCcmw3cEFr1X81WPlrmDzPQzk9HbonCh1tK6TW3gN2PONPCW4eno4YFwxy5d1kRRWUK93awZ2BzO+7/qYhJ3Rw4mW3mlu8KKTPBlBg9I6JklO6SBe0H827e/no51sk23jSTMldt9if34nFy79+PRPEOpKhdLLn+UWTiQ0aGGZNR2l19srPX4uhS9fW9QtQXKXPWwKPhXjN3JR9tKWXzWRM/j3YkzEPLn6dNTPylmEBXLf2aVf7Xs0ewHT2C/37dK1RH588L+HhrGR8Nvjg6d1tre277x6nUhFNG9qaamHWTgeYf5bNwuCMBLhq6zSmgT5gOP+fKT9k2JnPbD+aDeipyAL8FZzKh3o7W8OgyUnBJ+BYXLj4SRdE7Utw+hvzQzmTpg0jL1lFSKI9EqUvOHjIqJ6yDlDlr4BoIOgcwlaqdpF4VlSm8tLaEpaMcLTcntPfXkXjexLsbS6osc/+m1WjoGqTjaGbl/3CVGBUmrizm69sdOZZpxmiG6P9do9fSW8uWsyZujmzcZW5Oh5v4MHdfvR4z3vEUE21oNghrpykpwnHbrzhu+xVfoIVGQ1nkdRQ0v55st6akFzqTly2zVdQmFy8pc8I6SJmzBhoNuAdD5gm1k9SrMvPFL+2/birVacBcg7NFiqKQeMFEO7/Kn8T+xp8lDG5uR+dAHbtSTBj/sfMyEzT2h/XP7nATn9RzkbvE1meDsGYaRcHh0DYcDm3DE2gKmAKbUtAmmlzfVmQYPeWRKNfIxUPuZBXWQcqctfAIbZBlLr9U4Vjm3/9anMwyk3jehJejhlB3LdFhOp79vQRHew1h7lr+OG3kyz1lvP+P58Ldu7SIJq4apvW7uGxqQgk9gnW08NaSW6Lw0ZZSEs+b+eQmxwrH359q4vv9RhIfvnjTQysfLVqNhridpQS4aDiUbqZrUOOdjueTjkOYnaPe894a2mwQ1k6XchK3lJO4AcGA2cWD4vYx5DXpQKbOn/QsDWUl0u6qS25+ENZCypy1aKA3QWxPNhG74O95Z59aXQKUcF8He+YPc+S7EY68uLaEu5cUkVmkEOau5b999Txy3d/Xu53JMaPV/H0aNLtY4aEVRZzPv/gIkk6BWv4c60S3JuVLmaIoPLSimA8G6nF2uDj852ivYf4wA4/+UkyJEWbdZKCJW+M8xfpRxyF8oWKRg4Y/G4S10+Zn47RxGU4swx9QdHaUtOlJQbNuZDuFkpanpzBPHolSFSlzwlpoFEUe9GQV/pwB695UO4VoJD7oNIS52dYxA8OXCVEYNu1RO4aogjEsioLWN5Dj2ZL0UleyM+WRKJfc8kRHQlp5qR1DCBmZsxruDXNkTlifdzsNZUG29ZSnvZEOjXo2CGtnd/oA7qcP4A6EAiYvf4raxZAX0JZMfEnPVDCVNc5Ts95BMq+2sA5S5qxFAz3NKqzL9E5D+dqKihzIbBC2Rpd5AZc/vseF7wkEFAcDJe36kBfWhSxDE9Jz7CkuaPinZh1d7XFyk2fMCesgZc5aeDVVO4Fo4N7qNJSFVlbk4H+zQUQ2Q3NIHiBsizSlxRh2rMawYzW+QEugtEUXCiKvJ8ctgvQiJ3KzGl658wqUmWSE9ZAyZy1cA8DJGwoz1E4iGhgFDf/tfBPfZ1lfkbvkZDtvmkmZazAcju7A4egOPIFwwOgfRlHbaHJ9W5Nh9iIz3YS5Js8fskJecopVWBEpc9bEvy2c/EPtFKIBUdAwtfNN/JhlHTc7VOW3JjIbRENmd+E0rhe+xBVoApid3ShuF0NeSAey7AJJz9JSWmxbs1V4BcnInLAeUuasSUA7KXOi1pg1WqZ0GsxSKy9yILNBNDbaglycNv+M0+afLz4SRaujNOp6CiK6keUcRnq+gYJc6z41K2VOWBMpc9YkoL3aCUQDYdZoebXTYH62gSJ3SXrHMLx/kzLXGGnMJvT7NqDftwEvIAIoC4mkMKoPuV4tyChzJyvDaFX3yHhLmRNWpMZPS01NTeXhhx8mNDQUvV5PQEAAAwcOZNq0aWg0mst+zZ8/H4CioiI8PT3x8vKiqKiowjHCw8PRaDRs3ry53PInnniCmJgYy+spU6ZY9m1nZ4ePjw99+vRh5syZlJSUlNs2JiaGJ554otxrjUbDd999V269mTNnEh4eXm5ZaWkpM2bMoHPnzjg7O+Pu7k6HDh145ZVXSE5Orum3sGoBbWtvX6LRMml0vNRpkE0VOYCNzRrX3MTi8uyTDuP+2xeELHyOjj88TPTOyXQ3JRDll0FAgA47e/Ue9u3soUfvZH/lFYWoJzUemRs+fDhlZWUsWLCAZs2aceHCBdauXUtUVBQpKSmW9R5//HFyc3OZN2+eZZm7uzsAP/74I23btkVRFJYsWcLdd99d4TgGg4Hnn3+eP/64/GnHNm3asGbNGsxmMxkZGSQkJPDmm2/y1VdfkZCQgKura5XbGgwGXnnlFYYPH469feX/YZaUlDBgwAD27NnD1KlT6dWrF+7u7hw/fpxly5bx8ccfM23atMtmrDafSNDpwVRy5XWFqIRJo+PFTgP5NUuduVavxVL3Y9wis0GIKmhz0nFevxhnFhMAmB30lLbpTX54F7IcQ0jPsaeonh6JIqNywtrUqMxlZ2ezYcMGEhISiI6OBiAsLIxu3bpVWNfR0ZGSkhICAgIqvBcXF8eYMWNQFIW4uLhKy9zDDz/MZ599xi+//MJNN91U9Qews7McIygoiHbt2tG/f386dOjA9OnTefPNqmdVuPPOO1m+fDlffPEFEydOrHSdDz74gA0bNrB9+3Y6depkWd68eXMGDhxIrU6gobMD/zaQvLP29ikaDaPWjuc79me1DRY5gHxNKUUdZTYIUT3a0hIMu9Zg2LUGH6AFUBbRkYJWvchxjyC92IWczLI6ObZXE7mTVViXGo1Tu7i44OLiwrJlyyqcxqyu48ePs2nTJu644w7uuOMONm7cyIkTFSeYDw8P55FHHuHFF1/EbK7Z08VbtWrF4MGDWbJkyWXXc3Nz46WXXuL111+noKCg0nUWLlxI//79yxW5f9JoNDXKdkVNutTu/kSjUKa159mO/VmdtV/tKNdkb0t5CKu4evbHE/FY+Qlh3z5FlyUPEb1/Gl21m2gVkIOvnw6trnZ+XvuHu9XKfoSoLTUqc3Z2dsyfP58FCxbg4eFBr169eOmll9izp/q/Sc+dO5fBgwdbrpkbNGgQc+fOrXTdV155hZMnT/LNN9/UJCZwsdCdOnXqiutNnDgRg8HA+++/X+n7R44cITIystyy2267zVJse/bsWeNslyVlTtRQmc6BpzveyBobL3IAS/zOQG3/giQaLV3aWVzXfU3Qdy/RbtEj9Nn4HNcX/kJb7xSaBIKDo+6q9hvQzL2WkwpxbWp8Benw4cNJTk7m559/ZuDAgSQkJNC5c2fLzQ2XYzKZWLBgAWPGjLEsGzNmDAsWLMBkqviMIV9fX5555hlee+01SktrdnG0oijVGjXT6/W8/vrrzJgxg/T09ErX+fd+Pv30UxITE7n//vspLCysUa4rkjInaqBUp+fJ9rHEZx1QO0qtOG6XiRLZTO0YooHSFuXjuHUlfj++SeTCR+m1agI3XPiKjm5HCQ8y4uJ+5SuPXDz1uHjq6yGtENV3VbcDGQwG+vfvz2uvvcbGjRsZO3YskydPvuJ2v/32G+fOnWPUqFHY2dlhZ2fH6NGjOXv2LKtXr650m6eeeoqioiI+/fTTGmU8ePAgTZtWb4qsMWPGEB4eXun1dS1atODQoUPllgUGBtK8eXO8vLxqlKlafFqAXn7rE1dWotPzePto/sg+qHaUWnWynbfaEUQjoVEUHA5uxuvnmTT79nG6/fQwfY7N5DqHHbQIzMfb1w7Nv/6VlFE5YY1q5d7uqKioKq85+6e4uDhGjx5NYmJiua+7776buLi4SrdxcXHh1Vdf5b///S+5ubnVynPo0CFWrVrF8OHDq7W+Vqtl2rRpfPbZZxVOzd555538/vvv7Nq1q1r7umYaDQR1rJ9jCZtVYmfgP+37sCH70JVXtjGrgzLVjiAaMbuzR3FbPZeQhc/TYfHDRG97le5la4nySyMwQEtQRNVPSBBCLTW6mzUjI4ORI0dy//330759e1xdXdm+fTvvvPMOt95662W3TUtLY/ny5fz888+0bVv+eWr33XcfQ4YMIS0tDV9f3wrbPvTQQ3zwwQcsXLiQ7t27l3vPaDRy/vz5Co8m6dixI88++2y1P9uQIUPo3r07n3/+Of7+/pblTz75JCtXrqRv375MmTKF3r174+npyZEjR/j111/R6a7umovLCu4qM0GIKhXbO/JY215syT6sdpQ6sc7pFBP8fFBSK7/sQYj6pM3LxPmvJTizhAAgfPhitSMJUUGN72bt3r07H3zwAX369KFt27a8+uqrPPjgg8yaNeuy23755Zc4Oztz4403VngvNjYWV1dXvvrqq0q3tbe354033qC4uOLzp/bv309gYCChoaHExMSwaNEiXnzxRdavX4+LS81uH58+fXqFYxgMBtauXcsLL7zAvHnzuOGGG2jdujVPPPEEvXr1YtmyZTU6RrU07VP7+xQNQpGDE4+26cWW7CNqR6lT6Z3C1Y4gRAVaFxcMUa3VjiFEBRqlVh+UJmqFsRSmh0PZlU9di8ajUO/CxNbd2ZFzVO0ode6e7Chu/kyeNyesi3Pv3oR+8X9qxxCiAvXmQxFVs3OA8F5qpxBWpEDvyoTW3RpFkYOLs0FoHA1qxxCiHKeuXdWOIESlpMxZq4iKp6NF45RvcOPhVtexM+eY2lHqTb6mlKIOLdSOIUQ5Tl2vUzuCEJWSMmetmkuZE5BncOehyM7szj2udpR6tzdSnuUlrIfG0RHHf928J4S1kDJnrXxagHuo2imEinIcPXgwsiN7cytOd9cYyGwQwpo4d++Oxt5e7RhCVErKnDWLiFU7gVBJjpMnD7Zox/7ck2pHUY3MBiGsiUtf+XksrJeUOWsmp1obpSxnb8Y3b8vBvNNqR1HdybYyG4SwAhoNrrFS5oT1kjJnzZpGg6YOHkosrFamsw/jm7XmsBQ5AFY3kdkghPoM7dphV8kD7YWwFlLmrJmjBwTL3VONRbqLH+ObRXI0/4zaUazGOqdTaPx81I4hGjlXOcUqrJyUOWsX0VftBKIepLkFcH94BMfyk9SOYnVkNgihNhc5xSqsnJQ5ayfPm2vwUt0DuT80nJMF59SOYpU2NS1VO4JoxOybNMEQGal2DCEuS8qctWvSGRw91U4h6sh5jyaMCw7lVEGy2lGs1lL342gMMhuEUIeMyglbIGXO2ml10PoWtVOIOpDiGcK4Jk04U5iidhSrlqctobijzAYh1CHXywlbIGXOFrQfpXYCUcvOeYUyLiiAs4Xn1Y5iE/bIbBBCBVoXF5mPVdgEKXO2IKwnuIeonULUkiTvMO4P8ONc4QW1o9iMZb5JMhuEqHfOvW+QWR+ETZAyZws0Gmg7XO0UohYkeYdzv78PyUWpakexKUftM1BaNlU7hmhkXPv1UzuCENUiZc5WtL9D7QTiGp32acZYPy/OF6WpHcUmnWonz5sT9Ufr6orrjfI0AWEbpMzZCv824NdG7RTiKp30jWCcrxupxelqR7FZv8lsEKIeuQ0ahFbuohY2QsqcLZHROZt03K8l93u7klYsZeRarHM6hcZXRudE/XC//Ta1IwhRbVLmbEm7EYBcBG5LjvpHcr+XI+klUuRqQ0bncLUjiEbAoWlTnDp1UjuGENUmZc6WuAdDWC+1U4hqOhzQmvEeDmSWZKkdpcHY2LRM7QiiEXC/TUblhG2RMmdr2o9UO4GohoOBUTzgbkdWaY7aURqUpe7HZDYIUbe0WtxvlQe1C9siZc7WRA0DnTxA1ZrtD2rLA24asqXI1TqZDULUNedevbD391c7hhA1ImXO1jh6QIv+aqcQVdjXpB0PupjJLc1TO0qDtael/DIj6o7HbcPUjiBEjUmZs0Ud71Y7gajE7pAOPORsIq8sX+0oDdoyP5kNQtQNrbs7LvKgYGGDpMzZopaDwFOehm9NdoV04mFDiRS5eiCzQYi64nbTYLQODmrHEKLG7NQOIK6CVgvdH4FVz6udRAA7QrswUV9AobFQ7SiNxql2PjQ9fELtGFXaXljI3MwM9heXkGYy8lFQE/q5upZb53hJCe+npbGtqBCzAs31Drwf1ISgKuYCve/MabYVFVVY3sfZmdnBF+duXp6bwwdpaRSazQx39+BZPz/LeufKSnkgKYnFYeG46HS1+GkbDo/bb1c7ghBXRcqcreo0BuLfghK5yF5N28Ku41GHPIqMFf+RFXXntyaZPKJ2iMsoNJuJ1Bu4zd2Dx5PPVXj/TGkpY86cZri7B4/6+OCq1XKitBT9ZU4ff9gkmDJFsbzONpm4/dRJBv6vJGYZjbx2/jxvBQQSbG/PhHNn6ebkRLSLCwBTL1zgKV8/KXJVcOzQAcd27dSOIcRVkTJnq/Qu0Pke2DRL7SSN1pamXZmky6HIWKx2lEYn3vEUE3x9UNKsc3q0Pi4u9PlfiarMh+lp9HFx4Zl/jJyFXOH0nse/StivubkYtFoGuroBkFRWhotWy2C3i6+7OTlxrLSEaFxYkZuDvUZD/3+NDoq/ed1/v9oRhLhqcs2cLev+MGjkt2w1bGzancd02RSZpMipQdHY7mwQZkXhj/wCwu0deDApiRuOHWXU6VOsyavZHdA/5uRwk6srTtqLP8bDHBwoVhQOFBeTbTKxr7iYSL2ebJOJj9PTecVPHrdRFfvQUFz7y40PwnZJmbNlHqHQeqjaKRqdDRHX8x9dJsWmErWjNGq2OhtEhslEoWJmTmYGNzg780VwCP1cXHk8+RzbCqt33eWeoiKOlpYw3N3Dssxdp2NaQCAvpqQw6vQpbnFz4wZnF2akpjLG05NzZWXcfuokt5w8wW95uXX06WyT1333otHKP4fCdslpVlvX41E48JPaKRqNPyN68iSplJpK1Y7S6C11P8bNBgNKsW2NjipcvO6tr4sr93l5AdDaYCCxqIjvs7Po6uR0xX38mJNDCwc97R0dyy3v5+pa7kaLrYUFHC0t4RV/fwadOMG7QUH42OkYdfo01zk64W0n/wToPDzkxgdh8+RXEVsX2h2adFE7RaMQ3+IGnuACpWYpctbAVmeD8NDZYQdE6MtfI9dM70BKmfGK2xeZzfyal8sID/fLrldqNvP6hQtM8Q/gTGkpJhS6OjnR1EFPuIMDe4rlph0AjztHo/1XKRbC1kiZawh6TFQ7QYO3tkVvnjInU2a2zVN7DdXeSNubDcJBo6GtwZGTpeV/KThVWlrlY0n+aVVeLqWKws1uly9zn2Vk0NvZmSiDARNg/MedsGWKgkmpetvGQqPX4zVmjNoxhLhmUuYagqhh4BasdooGa3VkH54xncNovvKoiahfS32tczaIArOZg8XFHPzfKeBzZWUcLC4mueziLwP3e3nxa24ui7OzOV1ayjdZWSTk5zPaw8OyjxdSknk/LbXCvn/MyeFGF5cKd7f+09GSEn7Ny2WSjy8AzRwc0Go0/JidzR/5+ZwsLaWdwVCLn9g2ud9yC3be3mrHEOKayQUTDYHODro9AGumqJ2kwVkVGcOLZWcwKlLkrNGl2SA0VvYA4f3FRYxNSrK8nv6/UjbMzY23AoPo5+rK5IAAvsjI4K3UC4Q7ODAzqAld/nG9XEpZWYXftk+VlrKzqIg5/3tIcGUURWHK+fO84OdvudPVoNXyVkAgb1w4T6mi8IqfP/7VGAVs0DQavMaNUzuFELVCoyiKDLY3BEVZ8EE7kAnea83KVrG8XHoKk2JSO4q4jHeOdCb8x61qxxA2xiU2lpDPPlU7hhC1Qk6zNhSOnnD9o2qnaDCWt+7LS6UnpcjZgN9CMtWOIGyQ93h5SLBoOKTMNSQ9HwMnuf7jWi2L6scrJScwK2a1o4hqWGc4hcbXR+0YwoY4Xd8Dp+uuUzuGELVGylxDoneF3k+rncKm/dimH68VHZUiZ0MUDWR0ClM7hrAVGg1+T8nPSdGwSJlraLo+AO5VXxwtqraoTX+mFh61PNRV2I5NzeQGFVE9rgMH4tiurdoxhKhVUuYaGjs9xLygdgqbs7DtQN4sPCJFzkYtcT+GRh61Ia7Ezg6/Jx5XO4UQtU7KXEPU4U7wiVQ7hc34ut0g3io4KEXOhtnqbBCifnkMH45DeLjaMYSodVLmGiKtDvq+onYKm7Cg/WCm5x9QO4aoBbY4G4SoPxpHR3weldlyRMMkZa6hirpF5my9gnntB/Nu3n61Y4hastQ36coriUbL6957sffzUzuGEHVCylxDduNktRNYrTkdbuJ9KXINylH7DJTIZmrHEFZI5+6O9wPj1Y4hRJ2RMteQNYuGZjFqp7A6szvcxIe5+9SOIerA6bbyvDlRkffDD6NzdVU7hhB1RspcQyejc+V80nEIn0iRa7BkNgjxb3aBgXiOuVvtGELUKSlzDV2TztB2uNoprMJHHYcwO2ev2jFEHZLZIMS/+f7nP2gdHNSOIUSdkjLXGAycBnp3tVOoamanIXwhRa7BuzgbRLjaMYSVcLruOtyH3ap2DCHqnJS5xsDVH/o13tOt73UaSly2FLnGYlOzMrUjCCugsbcnYOoUNBqN2lGEqHNS5hqL6+6H4G5qp6h30zsNZX72HrVjiHoks0EIAK/x96OPiFA7hhD1QspcY6HRwM0zQWundpJ681anoXwtRa7RydOWUNxBZoNozOzDQvGZMEHtGELUGylzjYl/G+g5Se0UdU5Bw5udh7BQilyjtS9SRuYas4DXXkOrlxlBROMhZa6xiX4ePMPVTlFnFDRM7XwT32fJNXKN2RL/M2pHECpxGzIEl1691I4hRL2SMtfY2DvCkPfUTlEnzBotkzvfxI9S5Bq9o3YyG0RjpHVzw//FF9SOIUS9kzLXGDXvB21HqJ2iVpk1Wl7tNJilUuTE/8hsEI2P31NPYecjf+6i8ZEy11gNmgYGD7VT1AqTRsdLnQbxsxQ58Q+rg7PUjiDqkWOnTniMukPtGEKoQqMoiqJ2CKGSHfNh+eNqp7gmJo2OFzsN5NeshjtFV8HhAtJ/SafodBHGbCOhk0Jx6+JmeX/f2Mo/u/8d/vje5Fvpeznbc0hbkUbphVIUk4LeX4/3IG88e3la1snemM35H86jlCh49vYkYHSA5b3StFJOvXuKiCkR6Bx1tfRJa5dGgcVz3DGnZ6gdRdQ1e3ua/vADhsiWaicRQhWN5zkVoqLO98Hu7+HMRrWTXBWj1o7nO/ZndQMucgDmEjOGUAMevT1ImpVU4f3ImZHlXufvzefc3HO4X1f1rB86Zx1+N/vhEOiAxk5DXmIe5+LOYedmh2s7V4x5Rs7NO0fwA8HY+9pz+oPTOLdyxrXjxcnKk79Mxn+kv9UWObg4G0R656Z4rZYy19D5TpokRU40anKatTHTaOC22TY51VeZ1p5nO/ZnddZ+taPUOdf2rvgP96+ynNl72Jf7yt2Zi3MrZxz8qp6P0qW1C25d3DAEGdD76fEZ4IMhxEDhkULg4sibzlGHe3d3nJo54dzameLkYgCyN2WjsdNctixai81NZTaIhs6pRw+8HxivdgwhVCVlrrHzDINbPlI7RY2U6Rx4uuONrGkERa6mjDlG8vbk4dnH88or/4+iKOQfyKckpQTnSGcA9P56zKXmi6d2840UnSzCEGLAmG8kdWkqgWMC6+oj1KqlnsfRyPPGGiydhwdB099Go5V/ykTjJqdZBbQZBifGXryGzsqV6vQ81T6GP7IOqB3FKmX9lYXOoCt3TV1VTIUmDj95GLPRjEajIejeIFzaugAXT8MGPxjM2S/OopQqePT0wLWdK2fjzuLVz4uy9DLOfHgGxaTgN8wP967WOUqXoymmuGNr9Fvk5piGKPDNN7D391c7hhCqkzInLhr0NpzZAmkH1U5SpRKdnifaR7Mh23ozqi3rzyzce7ijdbjySIXWoCXi9QjMxWYKDhSQsjAFe197XFpfLHRuXdzKlcL8g/mUnC0haEwQR54/QsgjIdi523H89eM4Rzpj52adP072RRroskXtFKK2edxxB679+qkdQwirIGPT4iJ7Rxg5D+wc1U5SqRI7A/9p34cN2YfUjmK1Cg4XUHq+FM/o6p1i1Wg16P31OIY54jPYB/eu7qSvTK90XXOZmZSvUgi6L4jS1It3wDq3ckYfqEcfoKfweGFtfpRaJbNBNDwOERHycGAh/kHKnPibX2sY9JbaKSootnfksXa92Zh9WO0oVi3rzywM4QYcQ6+ukCuKgrnMXOl7aT+n4dLOBcdwRxSzAv9YTTGWf21tjtploLRsqnYMUUs09vY0eXcGWkfr/MVTCDVImRPlXXc/RN2qdgqLIgcnHm3Ti82NuMiZik0UnS6i6HQRAKXppRSdLqI0o/TvdYpM5GzLwauPV6X7OPt/Zzm/+LzlddqKNPL35VOaWkpJcgnpq9LJ3piNR0+PCtsWnysmZ2sO/rdfvDZJH6gHDWT+kUleYh4lKSU4NrPuf1hPt6v8eXvC9vg+9RSG1q3VjiGEVbHOi1yEum7+CJJ3Qba6p6cK9S5MbN2dHTlHVM2htqKTRZyafsry+vzCi6XMo5cHwQ8GA5CzJQcA9x6V34hQmlEKmr9fm0vMJH+VTFlmGVoHLQ6BDoQ8FIJ79/LbK4pC8rxkAu4MQKu/+Luf1kFLkweakPJVCkqZQuA9gdh72tfWx60Tq4OzeEjtEOKaOd9wA15j71M7hhBWR2aAEJVL2gbzBoHZqMrhC/SuTGzdlZ05x1Q5vmhYZDYI26fz8aHZ0iXY+cooqxD/JqdZReVCukLsy6ocOt/gxsOtrpMiJ2qNooGMzuFqxxBXSWNvT/BHH0mRE6IKUuZE1W54EiJurNdD5hnceTiyM7tzj9frcUXDt6mZOqPM4toFTJmCU+dOascQwmpJmRNV02guPq7EJ/LK69aCHEcPHozsyJ7cE/VyPNG4LPWQ2SBskdd99+Ix/Ha1Ywhh1aTMicszuMPdi8DJp04Pk+PkyYMt2rM/92SdHkc0Xhdng5DJ2G2Jc69e+D33nNoxhLB6UubElXmGw50Lwc5QJ7vPcvZmfPO2HMw7VSf7F+KSfZEyMmcrHMLDafLB+2h0OrWjCGH1pMyJ6gnpBrd+Uuu7zXT2YXyz1hzOO13r+xbi35b5nVU7gqgGrZsbwZ9+is7tynMMCyGkzImaaDcCYl6std1luPgyvlkkR/NluiVRPw7bp4PMBmHddDqavPce+mby5yREdUmZEzUT8wK0u+Oad5Pu6s/9TVtwLD+pFkIJUX2nZDYIq+b3zDO49L5B7RhC2BQpc6Lmbp0Foddf9eap7oGMC2vGiXw55SXq3+9NstSOIKrgfvvteI8bq3YMIWyOlDlRc3Z6GPUNeNb8NMh5jyaMCw7lVMG5OggmxJWtcTqJ1sdb7RjiX5x7Xk/glMlqxxDCJkmZE1fH2RvuXnzx0SXVlOIZwrgmTThTmFKHwYS4PJkNwvoY2rcn+OOP0Tg4qB1FCJskZU5cPZ8WcMdXoL3yJOvnvEIZFxTA2cLz9RBMiMuT2SCsh0OzZoR8Phuts7PaUYSwWVLmxLVpFg3D54Cm6mdBnfUK5f4AP84VXqjHYEJUTWaDsA52gYGExs3BztNT7ShC2DQpc+LatRkGwz4DTcW/Tkne4YwL8CW5KLX+cwlRhRxNMcUdWqgdo1HTeXkRGjcH+8BAtaMIYfOkzIna0WEUDP2g3KLTPs0Y6+fF+aI0lUIJUbX9rRzVjtBoad3dCY2bg75ZM7WjCNEgSJkTtafLWBj0NgAnfSMY5+tGanG6upmEqMJSP3nGoRq0zs6EfvF/GFq3VjuKEA2GndoBRAPTYwLZGg33n1xIenGm2mmEqJJlNogjJ9WO0mhoHB0J+Xw2ju3bqx1FiAZFRuZErfPo/gh3t7lH7RhCXJHMBlF/NA4OBM/6GKfrrlM7ihANjpQ5USceaPcAT3R+Qu0YQlzWmibZakdoFLROToR8PhuXXr3UjiJEgyRlTtSZ8e3G81SXp9SOIUSVfnc6IbNB1DGduzuh8+bifP3VTwEohLg8KXOiTo1rO45nrntG7RhCVEpmg6hbdr6+hH71JY4dOqgdRYgGTcqcqHP3tbmPV3u8iu4yDxYWQi2bmpapHaFBsg8JIezbbzC0bFnr+549ezaurq4YjX/P5JGfn4+9vT29e/cut+769evRaDQcOXIEgI0bN6LT6Rg0aFCF/Z46dQqNRkNiYmKlx50/fz4eHh7llh08eJDg4GBuv/12SkpKSEhIQKPRkJ2dDWB53bZtW0wmU7ltPTw8mD9/frllu3btYtSoUQQGBqLX6wkLC2Po0KEsX74cRVGq8d0RjZGUOVEv7oi8gw9iPsDRTp7tJazLUs8TMhtELdO3aE7YN1/jEBJSJ/uPjY0lPz+f7du3W5atX7+egIAAtm3bRmFhoWV5QkICQUFBtPxfqZw7dy6TJk1iw4YNnDlz5ppybNu2jd69ezNw4EAWL16M/jJ/j44fP86XX3552f399NNP9OjRg/z8fBYsWMCBAwdYvHgxw4YN45VXXiEnJ+ea8oqGS8qcqDexobHMGTAHL4OX2lGEsJDZIGqXoUN7wr76Cns/vzo7RmRkJEFBQSQkJFiWJSQkcOuttxIREcHGjRvLLY+NjQWgoKCARYsWMWHCBIYOHVphVKwm1q1bR9++fRk3bhxxcXHodJc/8zBp0iQmT55McXFxpe8XFBQwfvx4hgwZwsqVKxkwYAARERF069aNBx54gN27d+Pu7n7VeUXDJmVO1Kv2vu35avBXhLjWzW/sQlwNmQ2idjhd34OwuXPR/etUZF2IiYkhPj7e8jo+Pp6YmBiio6Mty0tLS9m0aZOlzH3//fdERkYSGRnJmDFjmDdv3lWduly6dClDhgzh5ZdfZsaMGdXa5oknnsBoNDJr1qxK31+9ejUZGRk899xzVe5Do9HUOKtoHKTMiXoX6hbKV4O/oq13W7WjCAHIbBC1waXfjYR8/jlaZ+d6OV5MTAx//fUXRqORvLw8du3aRZ8+fYiOjraM2G3evJmioiJLmYuLi2PMmDEADBo0iPz8fNauXVuj4+bn5zNy5EieffZZXnjhhWpv5+TkxOTJk5k2bVqlp0svXdMXGRlpWbZt2zZcXFwsXytWrKhRVtF4SJkTqvB29GbuoLn0Ce6jdhQhLs4G0aKp2jFsludddxH84YdoHRzq7ZixsbEUFBSwbds21q9fT8uWLfHz8yM6Oppt27ZRUFBAQkICoaGhNGvWjMOHD7N161ZGjx4NgJ2dHaNGjWLu3Lk1Oq6joyP9+/fniy++4ODBgzXadvz48fj4+DB9+vRqrd++fXsSExNJTEykoKCg3A0fQvyTlDmhGkc7Rz6K/YjhLYarHUUITreX2SBqzN6egNenEvDaq2iucM1YbWvevDnBwcHEx8cTHx9PdHQ0AAEBATRt2pS//vqL+Ph4+vbtC1wclTMajTRp0gQ7Ozvs7Oz47LPPWLJkCVlZWdU+rk6nY9myZXTp0oXY2FgOHDhQ7W3t7Ox48803+fDDD0lOTi73XosWF6/bPHz4sGWZXq+nefPmNG/evNrHEI2TlDmhKp1Wx5SeU3i046NqRxGN3O8yG0SN6Ly9CZs/D8877lAtQ2xsLAkJCSQkJBATE2NZHh0dzW+//cbmzZuJjY3FaDTy5Zdf8t5771lGuhITE9m9ezdhYWF88803NTquXq9nyZIldOvWjdjYWPbt21ftbUeOHEmbNm2YOnVqueUDBgzAy8ur2qN2QvyTndoBhAB4pMMjBLkE8fqm1ykxlagdRzRCvzud4CEfL8zpmWpHsXr6qNaEzJqFfVCQqjliY2N59NFHKSsrs4zMwcUyN2HCBIqLi4mNjWXFihVkZWUxfvz4CneEjhgxgri4OB577DHLsn+Ojl0SFRVV7rWDgwM//vgjd9xxB3379mXt2rW0a9euWrnffvttBg4cWG6Zi4sLc+bMYdSoUQwZMoT//Oc/tGjRgvz8fFatWgVwxTtmReMlI3PCatwScQtf3/S13OkqVKFoILOTXDd3Ja6DBxH+zTeqFzm4WOaKiopo3rw5/v7+luXR0dHk5eURERFBSEgIcXFx9OvXr9JHewwfPpzExER27txpWTZ69Gg6depU7uvfp0UB7O3tWbRoEX369KFv377s2bOnWrn79u1L3759K1wDd9ttt7Fx40acnJy49957iYyMpG/fvqxbt47vvvuOoUOHVvdbIxoZjSKPlBZWJrc0l5c3vExCUoLaUUQjMy6zDYM/3612DOuk0eD7+OP4PPKw2kmEEP8iZU5YJUVRmLtvLh/v+hiTYrryBkLUAnfFwJwPylBK5FT/P2mdnQmaMQPXvrFqRxFCVEJOswqrpNFoGN9uPP/X///wNnirHUc0EjIbREX2oaGEf/+dFDkhrJiUOWHVugV2Y9HNi+js11ntKKKROCCzQVi43XIzTZf8iF4ejSGEVZMyJ6yen5MfcQPjuCfqHrWjiEZAZoMArasrQTNm0OSdd9C5uKgdRwhxBXLNnLApq0+t5rWNr1FQVqB2FNGALfohBI6eVDuGKhw7dybonXdwCG6idhQhRDXJyJywKQPCB7B46GI57Srq1Ol2jXA2CDs7fP4zibCvvpQiJ4SNkTInbE6IWwjzB83n+a7P42gn1zeJ2rcmJFvtCPXKPiSE8K+/wnfixHqflksIce2kzAmbpNFoGBM1hh9u/kFG6UStW+14Aq2Pl9ox6oX7rbfSdOlSHDt2VDuKEOIqSZkTNi3ULZR5g+bxXNfnMOgMascRDURjmA1C6+ZG0HvvEjT9bXQuzmrHEUJcAylzwuZpNVruibqHH275gU5+ndSOIxqITc2MV17JRrndNJhmK5bjPmSI2lGEELVA7mYVDYpZMfP1ga/5eNfHFJuK1Y4jbJi72cCcmQ1rNgj70FACXn0Vl943qB1FCFGLZGRONChajZZ729zL4psX09G3o9pxhA3L0RZT0kBmg9DY2+M94RGaLf9ZipwQDZCUOdEghbuHs2DwAqZcPwUvQ+O4kF3Uvv0NYDYIp27daPrTMvwefxytXq92HCFEHZDTrKLByy/N5/M9n/PNwW8oM5epHUfYkFZlPrz+7nm1Y1wVnZcXfs89i8ewYWpHEULUMSlzotE4k3uGGdtnkJCUoHYUYUMW/RAMR0+pHaP6NBo8RgzH7+mn0Xl4qJ1GCFEPpMyJRmdT8ibe2fYOx7KPqR1F2IAZhzsTtmSr2jGqxbFLF/yeeRqnTnJXtxCNiZQ50SiZzCYWHVnEp4mfkl2SrXYcYcUGFjZj/IdH1I5xWfqWLfF96klcY2LUjiKEUIGUOdGo5ZTk8Nnuz/j+0PcYlYb7XDFx9TQKLJ7jhjk9U+0oFdgHB+P7n0m4DR2KRiv3swnRWEmZEwL4//buP6bpO4/j+KuFFootVAqMHYhgZjR6GSoqyeaiceNYliXOcNHTmdNt8UfiHxqzZJGou8RsydwlLvfHtuyXkjEXZQmLW9imM2OJEedNg3AaiyLqpvwurK6A1JX7w9mM88fpBnz5lOcjaaCffun3HRKSZ/im38/5n87r7ZNv66sLXykyELF6HIwy73yfL+/B41aPERWXlqa0des0fukS2RwOq8cBYDFiDviNCz9d0Lv176rqfBX/qUPU851/1pPv1Fo9huxut3wvPK/UlStlT0qyehwAowQxB9zGj1d/1Hv172l/435uZ4Ibu0Hs7NdAf78l57clJGj88uXyrVmt+PHjLZkBwOhFzAF30RJq0fv176vyXKWu/RI72zrh/pUfmirnsf+M6DnjvF55l/1Nqc8+q/i0tBE9NwBzEHPAPWjvadeuU7v0ScMn6r3ea/U4sMDmH2dq5of/HpFzOSbmKHXlSnkXL5bdZf4uFACGFzEH3IdAX0Blp8pU0VChq/1XrR4HI2haOF3/+GfzsJ7DVVAg33Or5F64kE+nArhnxBzwO/Rd79MXTV+ooqFC9R31Vo+DETIsu0HExclTVCTf88/J9fDDQ/veAMYEYg74g053ntY+/z5VNVVxCTbGDeVuEPakJKX8tUSpf18pZ3bWkLwngLGJmAOGyM/9P+vz859rX8M+ne06a/U4GAbFoUl64V9/YDcIm01Js2crZfFiJRf/RfZx44ZuOABjFjEHDIPatlrt9e/VwYsH+RRsDLENSPveTdZA5/3tBuGYMEEpixYp5ZlFcmZnD9N0AMYqYg4YRt193frs/Gf68sKXqm+v14D4czPdve4GYR83Tp4ni+V95hm5Zs+WzWYbgekAjEXEHDBCWkItOnDhgA5ePKiT7ScJO0PddTcIu11JhXPlXbxYnqIibisCYEQQc4AFWkOt+vrS1zpw4YBq22vZD9Ygt+wGERenpIICeZ54XJ6iIjkefNDaAQGMOcQcYLH2nvZo2J1oO0HYGeDDww/LlzBensefkHvBfLbYAmApYg4YRTp6O/TND9+o5kqNvmv+TsH+oNUj4Vc5nhzNy5qnx7If05zMOUqIS7B6JACQRMwBo1ZkIKJTHad0tPmoapprVNtWq3AkbPVYY4bb4VZ+Rr7m/elGwE1Mnmj1SABwW8QcYIi+63062X5S37d+r+Otx1XXXsdtT4ZQtjtbMzNmakbGDOWn52vy+Mmy29hSC8DoR8wBhgr/ElZ9R71OtJ3Q6c7T8gf8+uHqD3xK9h447U5N803TjIwZmpE+Q/kZ+UpzpVk9FgD8LsQcEEN6wj1q6GqQP+CXv8svf8Cvs91nx/Q2Y26HW7nJucpLydOU1CnKT8/XdN90OeIcVo8GAEOCmANiXGQgokvBSzrTdUYNgQb5u/y6GLyollBLTF2mfSDpAeWl5GlSyiTlpeRFHxlJGVaPBgDDipgDxrBAX0DNoWa1hFqij5vPm0PN6ujtGBW3SvE4PfIl+pSamCqfyydfok8+l0/Znuwb0ZacpyRHktVjAoAliDkAd3Q9cl1tPW1q62lTKBxSz/Ue9YR77unrwMCAHHaH4u3x0a+3PGzx0dcT4hKU6kq9EWy/xtrN77kkCgB3RswBAAAYjM/dAwAAGIyYAwAAMBgxBwAAYDBiDgAAwGDEHAAAgMGIOcSEtrY2rV27Vjk5OUpISFBmZqaKi4tVU1MjScrNzdUbb7yh6upq2Wy2uz5yc3Pv+vqCBQsGvedNN3/u6NGjg2bbuHFj9GduCgaD2rp1q6ZPny6XyyWfz6c5c+Zox44d6urqGs5fFQAgxsRbPQAwFEpKShQOh1VWVqZJkyaptbVVhw4dUiAQGHTcI488oubm5ujzDRs2KBgMateuXdG1cDgsh+PGfc2OHDmikpIS+f1+JScnS5KcTucd50hMTNRLL72kb7/99o7HBAIBzZs3T8FgUNu3b1dBQYGcTqfOnTunPXv2aM+ePVq/fv3v+j0AAMYeYg7G6+7u1uHDh1VdXa358+dLkiZOnKi5c+fecqzT6VRmZmb0ucvl0rVr1wat/VZqaqokKSMjQ16v9//OsnbtWr311luqqqrSU089ddtjSktLdenSJfn9fmVlZUXXp06dqqefflrc+hEAcD+4zArjud1uud1uffrpp7p2zdq9RnNzc7Vu3Tpt3rxZkcit22BFIhHt3btXK1asGBRyv2Wz2YZ7TABADCHmYLz4+Hjt3r1bZWVl8nq9evTRR1VaWqq6ujpL5tmyZYuampr00Ucf3fJae3u7uru7NWXKlEHrBQUF0ShdtmzZSI0KAIgBxBxiQklJia5cuaL9+/eruLhY1dXVmjVrlnbv3j3is6Snp+vFF1/Utm3b1N/ff9tj/ve/b5WVlaqtrVVxcbF6e3tHYkwAQIwg5hAzEhMTVVRUpG3btunIkSNatWqVXn75ZUtm2bRpk3p7e/Xmm28OWk9PT5fX69WZM2cGrefk5Oihhx6Sx+MZyTEBADGAmEPMmjZtmkKhkCXndrvd2rp1q1555RUFg8Hout1u15IlS1ReXq7Lly9bMhsAILYQczBeZ2enFi5cqPLyctXV1ampqUkVFRXasWOHFi1aZNlca9asUUpKij7++ONB66+++qqysrJUWFioDz74QHV1dWpsbFRlZaVqamoUFxdn0cQAABNxaxIYz+12q7CwUDt37lRjY6PC4bAmTJig1atXq7S01LK5HA6Htm/fruXLlw9a9/l8OnbsmF577TW9/vrrampqkt1u1+TJk7V06VJt3LjRmoEBAEayDXBTKwAAAGNxmRUAAMBgxBwAAIDBiDkAAACDEXMAAAAGI+YAAAAMRswBAAAYjJgDAAAwGDEHAABgMGIOAADAYMQcAACAwYg5AAAAgxFzAAAABiPmAAAADEbMAQAAGIyYAwAAMBgxBwAAYDBiDgAAwGDEHAAAgMGIOQAAAIMRcwAAAAYj5gAAAAxGzAEAABiMmAMAADAYMQcAAGAwYg4AAMBgxBwAAIDBiDkAAACDEXMAAAAGI+YAAAAMRswBAAAYjJgDAAAwGDEHAABgMGIOAADAYMQcAACAwYg5AAAAgxFzAAAABiPmAAAADEbMAQAAGIyYAwAAMNh/AZbJ3yBVMrn8AAAAAElFTkSuQmCC",
      "text/plain": [
       "<Figure size 800x600 with 1 Axes>"
      ]
     },
     "metadata": {},
     "output_type": "display_data"
    }
   ],
   "source": [
    "# Count the occurrences of each activity\n",
    "activity_counts = df_data['Activity'].value_counts()\n",
    "\n",
    "# Plotting the pie chart\n",
    "plt.figure(figsize=(8, 6))\n",
    "activity_counts.plot(kind='pie', autopct='%1.1f%%', startangle=90)\n",
    "plt.title('Activity Distribution')\n",
    "plt.ylabel('')  # Hide the y-label for clarity\n",
    "plt.show()"
   ]
  },
  {
   "cell_type": "markdown",
   "metadata": {},
   "source": [
    "Data is relatively balanced."
   ]
  },
  {
   "cell_type": "markdown",
   "metadata": {},
   "source": [
    "### Encoding 'Activity' as the label"
   ]
  },
  {
   "cell_type": "code",
   "execution_count": 80,
   "metadata": {},
   "outputs": [
    {
     "data": {
      "text/html": [
       "<div>\n",
       "<style scoped>\n",
       "    .dataframe tbody tr th:only-of-type {\n",
       "        vertical-align: middle;\n",
       "    }\n",
       "\n",
       "    .dataframe tbody tr th {\n",
       "        vertical-align: top;\n",
       "    }\n",
       "\n",
       "    .dataframe thead th {\n",
       "        text-align: right;\n",
       "    }\n",
       "</style>\n",
       "<table border=\"1\" class=\"dataframe\">\n",
       "  <thead>\n",
       "    <tr style=\"text-align: right;\">\n",
       "      <th></th>\n",
       "      <th>tBodyAcc-mean()-X</th>\n",
       "      <th>tBodyAcc-mean()-Y</th>\n",
       "      <th>tBodyAcc-mean()-Z</th>\n",
       "      <th>tBodyAcc-std()-X</th>\n",
       "      <th>tBodyAcc-std()-Y</th>\n",
       "      <th>tBodyAcc-std()-Z</th>\n",
       "      <th>tBodyAcc-mad()-X</th>\n",
       "      <th>tBodyAcc-mad()-Y</th>\n",
       "      <th>tBodyAcc-mad()-Z</th>\n",
       "      <th>tBodyAcc-max()-X</th>\n",
       "      <th>...</th>\n",
       "      <th>angle(tBodyAccMean,gravity)</th>\n",
       "      <th>angle(tBodyAccJerkMean),gravityMean)</th>\n",
       "      <th>angle(tBodyGyroMean,gravityMean)</th>\n",
       "      <th>angle(tBodyGyroJerkMean,gravityMean)</th>\n",
       "      <th>angle(X,gravityMean)</th>\n",
       "      <th>angle(Y,gravityMean)</th>\n",
       "      <th>angle(Z,gravityMean)</th>\n",
       "      <th>subject</th>\n",
       "      <th>Activity</th>\n",
       "      <th>Activity_label</th>\n",
       "    </tr>\n",
       "  </thead>\n",
       "  <tbody>\n",
       "    <tr>\n",
       "      <th>0</th>\n",
       "      <td>0.288585</td>\n",
       "      <td>-0.020294</td>\n",
       "      <td>-0.132905</td>\n",
       "      <td>-0.995279</td>\n",
       "      <td>-0.983111</td>\n",
       "      <td>-0.913526</td>\n",
       "      <td>-0.995112</td>\n",
       "      <td>-0.983185</td>\n",
       "      <td>-0.923527</td>\n",
       "      <td>-0.934724</td>\n",
       "      <td>...</td>\n",
       "      <td>-0.112754</td>\n",
       "      <td>0.030400</td>\n",
       "      <td>-0.464761</td>\n",
       "      <td>-0.018446</td>\n",
       "      <td>-0.841247</td>\n",
       "      <td>0.179941</td>\n",
       "      <td>-0.058627</td>\n",
       "      <td>1</td>\n",
       "      <td>STANDING</td>\n",
       "      <td>2</td>\n",
       "    </tr>\n",
       "    <tr>\n",
       "      <th>1</th>\n",
       "      <td>0.278419</td>\n",
       "      <td>-0.016411</td>\n",
       "      <td>-0.123520</td>\n",
       "      <td>-0.998245</td>\n",
       "      <td>-0.975300</td>\n",
       "      <td>-0.960322</td>\n",
       "      <td>-0.998807</td>\n",
       "      <td>-0.974914</td>\n",
       "      <td>-0.957686</td>\n",
       "      <td>-0.943068</td>\n",
       "      <td>...</td>\n",
       "      <td>0.053477</td>\n",
       "      <td>-0.007435</td>\n",
       "      <td>-0.732626</td>\n",
       "      <td>0.703511</td>\n",
       "      <td>-0.844788</td>\n",
       "      <td>0.180289</td>\n",
       "      <td>-0.054317</td>\n",
       "      <td>1</td>\n",
       "      <td>STANDING</td>\n",
       "      <td>2</td>\n",
       "    </tr>\n",
       "    <tr>\n",
       "      <th>2</th>\n",
       "      <td>0.279653</td>\n",
       "      <td>-0.019467</td>\n",
       "      <td>-0.113462</td>\n",
       "      <td>-0.995380</td>\n",
       "      <td>-0.967187</td>\n",
       "      <td>-0.978944</td>\n",
       "      <td>-0.996520</td>\n",
       "      <td>-0.963668</td>\n",
       "      <td>-0.977469</td>\n",
       "      <td>-0.938692</td>\n",
       "      <td>...</td>\n",
       "      <td>-0.118559</td>\n",
       "      <td>0.177899</td>\n",
       "      <td>0.100699</td>\n",
       "      <td>0.808529</td>\n",
       "      <td>-0.848933</td>\n",
       "      <td>0.180637</td>\n",
       "      <td>-0.049118</td>\n",
       "      <td>1</td>\n",
       "      <td>STANDING</td>\n",
       "      <td>2</td>\n",
       "    </tr>\n",
       "    <tr>\n",
       "      <th>3</th>\n",
       "      <td>0.279174</td>\n",
       "      <td>-0.026201</td>\n",
       "      <td>-0.123283</td>\n",
       "      <td>-0.996091</td>\n",
       "      <td>-0.983403</td>\n",
       "      <td>-0.990675</td>\n",
       "      <td>-0.997099</td>\n",
       "      <td>-0.982750</td>\n",
       "      <td>-0.989302</td>\n",
       "      <td>-0.938692</td>\n",
       "      <td>...</td>\n",
       "      <td>-0.036788</td>\n",
       "      <td>-0.012892</td>\n",
       "      <td>0.640011</td>\n",
       "      <td>-0.485366</td>\n",
       "      <td>-0.848649</td>\n",
       "      <td>0.181935</td>\n",
       "      <td>-0.047663</td>\n",
       "      <td>1</td>\n",
       "      <td>STANDING</td>\n",
       "      <td>2</td>\n",
       "    </tr>\n",
       "    <tr>\n",
       "      <th>4</th>\n",
       "      <td>0.276629</td>\n",
       "      <td>-0.016570</td>\n",
       "      <td>-0.115362</td>\n",
       "      <td>-0.998139</td>\n",
       "      <td>-0.980817</td>\n",
       "      <td>-0.990482</td>\n",
       "      <td>-0.998321</td>\n",
       "      <td>-0.979672</td>\n",
       "      <td>-0.990441</td>\n",
       "      <td>-0.942469</td>\n",
       "      <td>...</td>\n",
       "      <td>0.123320</td>\n",
       "      <td>0.122542</td>\n",
       "      <td>0.693578</td>\n",
       "      <td>-0.615971</td>\n",
       "      <td>-0.847865</td>\n",
       "      <td>0.185151</td>\n",
       "      <td>-0.043892</td>\n",
       "      <td>1</td>\n",
       "      <td>STANDING</td>\n",
       "      <td>2</td>\n",
       "    </tr>\n",
       "  </tbody>\n",
       "</table>\n",
       "<p>5 rows × 564 columns</p>\n",
       "</div>"
      ],
      "text/plain": [
       "   tBodyAcc-mean()-X  tBodyAcc-mean()-Y  tBodyAcc-mean()-Z  tBodyAcc-std()-X  \\\n",
       "0           0.288585          -0.020294          -0.132905         -0.995279   \n",
       "1           0.278419          -0.016411          -0.123520         -0.998245   \n",
       "2           0.279653          -0.019467          -0.113462         -0.995380   \n",
       "3           0.279174          -0.026201          -0.123283         -0.996091   \n",
       "4           0.276629          -0.016570          -0.115362         -0.998139   \n",
       "\n",
       "   tBodyAcc-std()-Y  tBodyAcc-std()-Z  tBodyAcc-mad()-X  tBodyAcc-mad()-Y  \\\n",
       "0         -0.983111         -0.913526         -0.995112         -0.983185   \n",
       "1         -0.975300         -0.960322         -0.998807         -0.974914   \n",
       "2         -0.967187         -0.978944         -0.996520         -0.963668   \n",
       "3         -0.983403         -0.990675         -0.997099         -0.982750   \n",
       "4         -0.980817         -0.990482         -0.998321         -0.979672   \n",
       "\n",
       "   tBodyAcc-mad()-Z  tBodyAcc-max()-X  ...  angle(tBodyAccMean,gravity)  \\\n",
       "0         -0.923527         -0.934724  ...                    -0.112754   \n",
       "1         -0.957686         -0.943068  ...                     0.053477   \n",
       "2         -0.977469         -0.938692  ...                    -0.118559   \n",
       "3         -0.989302         -0.938692  ...                    -0.036788   \n",
       "4         -0.990441         -0.942469  ...                     0.123320   \n",
       "\n",
       "   angle(tBodyAccJerkMean),gravityMean)  angle(tBodyGyroMean,gravityMean)  \\\n",
       "0                              0.030400                         -0.464761   \n",
       "1                             -0.007435                         -0.732626   \n",
       "2                              0.177899                          0.100699   \n",
       "3                             -0.012892                          0.640011   \n",
       "4                              0.122542                          0.693578   \n",
       "\n",
       "   angle(tBodyGyroJerkMean,gravityMean)  angle(X,gravityMean)  \\\n",
       "0                             -0.018446             -0.841247   \n",
       "1                              0.703511             -0.844788   \n",
       "2                              0.808529             -0.848933   \n",
       "3                             -0.485366             -0.848649   \n",
       "4                             -0.615971             -0.847865   \n",
       "\n",
       "   angle(Y,gravityMean)  angle(Z,gravityMean)  subject  Activity  \\\n",
       "0              0.179941             -0.058627        1  STANDING   \n",
       "1              0.180289             -0.054317        1  STANDING   \n",
       "2              0.180637             -0.049118        1  STANDING   \n",
       "3              0.181935             -0.047663        1  STANDING   \n",
       "4              0.185151             -0.043892        1  STANDING   \n",
       "\n",
       "   Activity_label  \n",
       "0               2  \n",
       "1               2  \n",
       "2               2  \n",
       "3               2  \n",
       "4               2  \n",
       "\n",
       "[5 rows x 564 columns]"
      ]
     },
     "execution_count": 80,
     "metadata": {},
     "output_type": "execute_result"
    }
   ],
   "source": [
    "# Converting the categorical 'Activity' to numerical, by Label Encoding\n",
    "# Initialize LabelEncoder\n",
    "label_encoder = LabelEncoder()\n",
    "\n",
    "# Apply LabelEncoder to the 'Activity' column\n",
    "df_data_encoded = df_data  # Renaming df\n",
    "df_data_encoded['Activity_label'] = label_encoder.fit_transform(df_data_encoded['Activity'])\n",
    "df_data_encoded.head()\n"
   ]
  },
  {
   "cell_type": "code",
   "execution_count": 81,
   "metadata": {},
   "outputs": [
    {
     "name": "stdout",
     "output_type": "stream",
     "text": [
      "{'LAYING': 0, 'SITTING': 1, 'STANDING': 2, 'WALKING': 3, 'WALKING_DOWNSTAIRS': 4, 'WALKING_UPSTAIRS': 5}\n"
     ]
    }
   ],
   "source": [
    "# View the mapping of labels to activities\n",
    "activity_mapping = dict(zip(label_encoder.classes_, label_encoder.transform(label_encoder.classes_)))\n",
    "\n",
    "# Display the activity mapping\n",
    "print(activity_mapping)"
   ]
  },
  {
   "cell_type": "code",
   "execution_count": 82,
   "metadata": {},
   "outputs": [
    {
     "data": {
      "text/html": [
       "<div>\n",
       "<style scoped>\n",
       "    .dataframe tbody tr th:only-of-type {\n",
       "        vertical-align: middle;\n",
       "    }\n",
       "\n",
       "    .dataframe tbody tr th {\n",
       "        vertical-align: top;\n",
       "    }\n",
       "\n",
       "    .dataframe thead th {\n",
       "        text-align: right;\n",
       "    }\n",
       "</style>\n",
       "<table border=\"1\" class=\"dataframe\">\n",
       "  <thead>\n",
       "    <tr style=\"text-align: right;\">\n",
       "      <th></th>\n",
       "      <th>tBodyAcc-mean()-X</th>\n",
       "      <th>tBodyAcc-mean()-Y</th>\n",
       "      <th>tBodyAcc-mean()-Z</th>\n",
       "      <th>tBodyAcc-std()-X</th>\n",
       "      <th>tBodyAcc-std()-Y</th>\n",
       "      <th>tBodyAcc-std()-Z</th>\n",
       "      <th>tBodyAcc-mad()-X</th>\n",
       "      <th>tBodyAcc-mad()-Y</th>\n",
       "      <th>tBodyAcc-mad()-Z</th>\n",
       "      <th>tBodyAcc-max()-X</th>\n",
       "      <th>...</th>\n",
       "      <th>fBodyBodyGyroJerkMag-skewness()</th>\n",
       "      <th>fBodyBodyGyroJerkMag-kurtosis()</th>\n",
       "      <th>angle(tBodyAccMean,gravity)</th>\n",
       "      <th>angle(tBodyAccJerkMean),gravityMean)</th>\n",
       "      <th>angle(tBodyGyroMean,gravityMean)</th>\n",
       "      <th>angle(tBodyGyroJerkMean,gravityMean)</th>\n",
       "      <th>angle(X,gravityMean)</th>\n",
       "      <th>angle(Y,gravityMean)</th>\n",
       "      <th>angle(Z,gravityMean)</th>\n",
       "      <th>Activity_label</th>\n",
       "    </tr>\n",
       "  </thead>\n",
       "  <tbody>\n",
       "    <tr>\n",
       "      <th>0</th>\n",
       "      <td>0.288585</td>\n",
       "      <td>-0.020294</td>\n",
       "      <td>-0.132905</td>\n",
       "      <td>-0.995279</td>\n",
       "      <td>-0.983111</td>\n",
       "      <td>-0.913526</td>\n",
       "      <td>-0.995112</td>\n",
       "      <td>-0.983185</td>\n",
       "      <td>-0.923527</td>\n",
       "      <td>-0.934724</td>\n",
       "      <td>...</td>\n",
       "      <td>-0.298676</td>\n",
       "      <td>-0.710304</td>\n",
       "      <td>-0.112754</td>\n",
       "      <td>0.030400</td>\n",
       "      <td>-0.464761</td>\n",
       "      <td>-0.018446</td>\n",
       "      <td>-0.841247</td>\n",
       "      <td>0.179941</td>\n",
       "      <td>-0.058627</td>\n",
       "      <td>2</td>\n",
       "    </tr>\n",
       "    <tr>\n",
       "      <th>1</th>\n",
       "      <td>0.278419</td>\n",
       "      <td>-0.016411</td>\n",
       "      <td>-0.123520</td>\n",
       "      <td>-0.998245</td>\n",
       "      <td>-0.975300</td>\n",
       "      <td>-0.960322</td>\n",
       "      <td>-0.998807</td>\n",
       "      <td>-0.974914</td>\n",
       "      <td>-0.957686</td>\n",
       "      <td>-0.943068</td>\n",
       "      <td>...</td>\n",
       "      <td>-0.595051</td>\n",
       "      <td>-0.861499</td>\n",
       "      <td>0.053477</td>\n",
       "      <td>-0.007435</td>\n",
       "      <td>-0.732626</td>\n",
       "      <td>0.703511</td>\n",
       "      <td>-0.844788</td>\n",
       "      <td>0.180289</td>\n",
       "      <td>-0.054317</td>\n",
       "      <td>2</td>\n",
       "    </tr>\n",
       "    <tr>\n",
       "      <th>2</th>\n",
       "      <td>0.279653</td>\n",
       "      <td>-0.019467</td>\n",
       "      <td>-0.113462</td>\n",
       "      <td>-0.995380</td>\n",
       "      <td>-0.967187</td>\n",
       "      <td>-0.978944</td>\n",
       "      <td>-0.996520</td>\n",
       "      <td>-0.963668</td>\n",
       "      <td>-0.977469</td>\n",
       "      <td>-0.938692</td>\n",
       "      <td>...</td>\n",
       "      <td>-0.390748</td>\n",
       "      <td>-0.760104</td>\n",
       "      <td>-0.118559</td>\n",
       "      <td>0.177899</td>\n",
       "      <td>0.100699</td>\n",
       "      <td>0.808529</td>\n",
       "      <td>-0.848933</td>\n",
       "      <td>0.180637</td>\n",
       "      <td>-0.049118</td>\n",
       "      <td>2</td>\n",
       "    </tr>\n",
       "    <tr>\n",
       "      <th>3</th>\n",
       "      <td>0.279174</td>\n",
       "      <td>-0.026201</td>\n",
       "      <td>-0.123283</td>\n",
       "      <td>-0.996091</td>\n",
       "      <td>-0.983403</td>\n",
       "      <td>-0.990675</td>\n",
       "      <td>-0.997099</td>\n",
       "      <td>-0.982750</td>\n",
       "      <td>-0.989302</td>\n",
       "      <td>-0.938692</td>\n",
       "      <td>...</td>\n",
       "      <td>-0.117290</td>\n",
       "      <td>-0.482845</td>\n",
       "      <td>-0.036788</td>\n",
       "      <td>-0.012892</td>\n",
       "      <td>0.640011</td>\n",
       "      <td>-0.485366</td>\n",
       "      <td>-0.848649</td>\n",
       "      <td>0.181935</td>\n",
       "      <td>-0.047663</td>\n",
       "      <td>2</td>\n",
       "    </tr>\n",
       "    <tr>\n",
       "      <th>4</th>\n",
       "      <td>0.276629</td>\n",
       "      <td>-0.016570</td>\n",
       "      <td>-0.115362</td>\n",
       "      <td>-0.998139</td>\n",
       "      <td>-0.980817</td>\n",
       "      <td>-0.990482</td>\n",
       "      <td>-0.998321</td>\n",
       "      <td>-0.979672</td>\n",
       "      <td>-0.990441</td>\n",
       "      <td>-0.942469</td>\n",
       "      <td>...</td>\n",
       "      <td>-0.351471</td>\n",
       "      <td>-0.699205</td>\n",
       "      <td>0.123320</td>\n",
       "      <td>0.122542</td>\n",
       "      <td>0.693578</td>\n",
       "      <td>-0.615971</td>\n",
       "      <td>-0.847865</td>\n",
       "      <td>0.185151</td>\n",
       "      <td>-0.043892</td>\n",
       "      <td>2</td>\n",
       "    </tr>\n",
       "  </tbody>\n",
       "</table>\n",
       "<p>5 rows × 562 columns</p>\n",
       "</div>"
      ],
      "text/plain": [
       "   tBodyAcc-mean()-X  tBodyAcc-mean()-Y  tBodyAcc-mean()-Z  tBodyAcc-std()-X  \\\n",
       "0           0.288585          -0.020294          -0.132905         -0.995279   \n",
       "1           0.278419          -0.016411          -0.123520         -0.998245   \n",
       "2           0.279653          -0.019467          -0.113462         -0.995380   \n",
       "3           0.279174          -0.026201          -0.123283         -0.996091   \n",
       "4           0.276629          -0.016570          -0.115362         -0.998139   \n",
       "\n",
       "   tBodyAcc-std()-Y  tBodyAcc-std()-Z  tBodyAcc-mad()-X  tBodyAcc-mad()-Y  \\\n",
       "0         -0.983111         -0.913526         -0.995112         -0.983185   \n",
       "1         -0.975300         -0.960322         -0.998807         -0.974914   \n",
       "2         -0.967187         -0.978944         -0.996520         -0.963668   \n",
       "3         -0.983403         -0.990675         -0.997099         -0.982750   \n",
       "4         -0.980817         -0.990482         -0.998321         -0.979672   \n",
       "\n",
       "   tBodyAcc-mad()-Z  tBodyAcc-max()-X  ...  fBodyBodyGyroJerkMag-skewness()  \\\n",
       "0         -0.923527         -0.934724  ...                        -0.298676   \n",
       "1         -0.957686         -0.943068  ...                        -0.595051   \n",
       "2         -0.977469         -0.938692  ...                        -0.390748   \n",
       "3         -0.989302         -0.938692  ...                        -0.117290   \n",
       "4         -0.990441         -0.942469  ...                        -0.351471   \n",
       "\n",
       "   fBodyBodyGyroJerkMag-kurtosis()  angle(tBodyAccMean,gravity)  \\\n",
       "0                        -0.710304                    -0.112754   \n",
       "1                        -0.861499                     0.053477   \n",
       "2                        -0.760104                    -0.118559   \n",
       "3                        -0.482845                    -0.036788   \n",
       "4                        -0.699205                     0.123320   \n",
       "\n",
       "   angle(tBodyAccJerkMean),gravityMean)  angle(tBodyGyroMean,gravityMean)  \\\n",
       "0                              0.030400                         -0.464761   \n",
       "1                             -0.007435                         -0.732626   \n",
       "2                              0.177899                          0.100699   \n",
       "3                             -0.012892                          0.640011   \n",
       "4                              0.122542                          0.693578   \n",
       "\n",
       "   angle(tBodyGyroJerkMean,gravityMean)  angle(X,gravityMean)  \\\n",
       "0                             -0.018446             -0.841247   \n",
       "1                              0.703511             -0.844788   \n",
       "2                              0.808529             -0.848933   \n",
       "3                             -0.485366             -0.848649   \n",
       "4                             -0.615971             -0.847865   \n",
       "\n",
       "   angle(Y,gravityMean)  angle(Z,gravityMean)  Activity_label  \n",
       "0              0.179941             -0.058627               2  \n",
       "1              0.180289             -0.054317               2  \n",
       "2              0.180637             -0.049118               2  \n",
       "3              0.181935             -0.047663               2  \n",
       "4              0.185151             -0.043892               2  \n",
       "\n",
       "[5 rows x 562 columns]"
      ]
     },
     "execution_count": 82,
     "metadata": {},
     "output_type": "execute_result"
    }
   ],
   "source": [
    "# Drop Activity and subject columns\n",
    "df_data_1 = df_data_encoded.drop(columns=['Activity', 'subject'])\n",
    "df_data_1.head()"
   ]
  },
  {
   "cell_type": "markdown",
   "metadata": {},
   "source": [
    "### Applying SMOTE (Synthetic Minority Over-sampling Technique) \n",
    "To balance the dataset before splitting"
   ]
  },
  {
   "cell_type": "code",
   "execution_count": 88,
   "metadata": {},
   "outputs": [],
   "source": [
    "# Features and target\n",
    "X = df_data_1.drop(columns=['Activity_label'])\n",
    "y = df_data_1['Activity_label']\n",
    "\n",
    "# Apply SMOTE to balance the dataset before splitting\n",
    "smote = SMOTE(random_state=42)\n",
    "X_resampled, y_resampled = smote.fit_resample(X, y)"
   ]
  },
  {
   "cell_type": "code",
   "execution_count": 89,
   "metadata": {},
   "outputs": [
    {
     "data": {
      "text/plain": [
       "(11664, 561)"
      ]
     },
     "execution_count": 89,
     "metadata": {},
     "output_type": "execute_result"
    }
   ],
   "source": [
    "X_resampled.shape"
   ]
  },
  {
   "cell_type": "code",
   "execution_count": 90,
   "metadata": {},
   "outputs": [
    {
     "data": {
      "text/html": [
       "<div>\n",
       "<style scoped>\n",
       "    .dataframe tbody tr th:only-of-type {\n",
       "        vertical-align: middle;\n",
       "    }\n",
       "\n",
       "    .dataframe tbody tr th {\n",
       "        vertical-align: top;\n",
       "    }\n",
       "\n",
       "    .dataframe thead th {\n",
       "        text-align: right;\n",
       "    }\n",
       "</style>\n",
       "<table border=\"1\" class=\"dataframe\">\n",
       "  <thead>\n",
       "    <tr style=\"text-align: right;\">\n",
       "      <th></th>\n",
       "      <th>tBodyAcc-mean()-X</th>\n",
       "      <th>tBodyAcc-mean()-Y</th>\n",
       "      <th>tBodyAcc-mean()-Z</th>\n",
       "      <th>tBodyAcc-std()-X</th>\n",
       "      <th>tBodyAcc-std()-Y</th>\n",
       "      <th>tBodyAcc-std()-Z</th>\n",
       "      <th>tBodyAcc-mad()-X</th>\n",
       "      <th>tBodyAcc-mad()-Y</th>\n",
       "      <th>tBodyAcc-mad()-Z</th>\n",
       "      <th>tBodyAcc-max()-X</th>\n",
       "      <th>...</th>\n",
       "      <th>fBodyBodyGyroJerkMag-meanFreq()</th>\n",
       "      <th>fBodyBodyGyroJerkMag-skewness()</th>\n",
       "      <th>fBodyBodyGyroJerkMag-kurtosis()</th>\n",
       "      <th>angle(tBodyAccMean,gravity)</th>\n",
       "      <th>angle(tBodyAccJerkMean),gravityMean)</th>\n",
       "      <th>angle(tBodyGyroMean,gravityMean)</th>\n",
       "      <th>angle(tBodyGyroJerkMean,gravityMean)</th>\n",
       "      <th>angle(X,gravityMean)</th>\n",
       "      <th>angle(Y,gravityMean)</th>\n",
       "      <th>angle(Z,gravityMean)</th>\n",
       "    </tr>\n",
       "  </thead>\n",
       "  <tbody>\n",
       "    <tr>\n",
       "      <th>0</th>\n",
       "      <td>0.288585</td>\n",
       "      <td>-0.020294</td>\n",
       "      <td>-0.132905</td>\n",
       "      <td>-0.995279</td>\n",
       "      <td>-0.983111</td>\n",
       "      <td>-0.913526</td>\n",
       "      <td>-0.995112</td>\n",
       "      <td>-0.983185</td>\n",
       "      <td>-0.923527</td>\n",
       "      <td>-0.934724</td>\n",
       "      <td>...</td>\n",
       "      <td>-0.074323</td>\n",
       "      <td>-0.298676</td>\n",
       "      <td>-0.710304</td>\n",
       "      <td>-0.112754</td>\n",
       "      <td>0.030400</td>\n",
       "      <td>-0.464761</td>\n",
       "      <td>-0.018446</td>\n",
       "      <td>-0.841247</td>\n",
       "      <td>0.179941</td>\n",
       "      <td>-0.058627</td>\n",
       "    </tr>\n",
       "    <tr>\n",
       "      <th>1</th>\n",
       "      <td>0.278419</td>\n",
       "      <td>-0.016411</td>\n",
       "      <td>-0.123520</td>\n",
       "      <td>-0.998245</td>\n",
       "      <td>-0.975300</td>\n",
       "      <td>-0.960322</td>\n",
       "      <td>-0.998807</td>\n",
       "      <td>-0.974914</td>\n",
       "      <td>-0.957686</td>\n",
       "      <td>-0.943068</td>\n",
       "      <td>...</td>\n",
       "      <td>0.158075</td>\n",
       "      <td>-0.595051</td>\n",
       "      <td>-0.861499</td>\n",
       "      <td>0.053477</td>\n",
       "      <td>-0.007435</td>\n",
       "      <td>-0.732626</td>\n",
       "      <td>0.703511</td>\n",
       "      <td>-0.844788</td>\n",
       "      <td>0.180289</td>\n",
       "      <td>-0.054317</td>\n",
       "    </tr>\n",
       "    <tr>\n",
       "      <th>2</th>\n",
       "      <td>0.279653</td>\n",
       "      <td>-0.019467</td>\n",
       "      <td>-0.113462</td>\n",
       "      <td>-0.995380</td>\n",
       "      <td>-0.967187</td>\n",
       "      <td>-0.978944</td>\n",
       "      <td>-0.996520</td>\n",
       "      <td>-0.963668</td>\n",
       "      <td>-0.977469</td>\n",
       "      <td>-0.938692</td>\n",
       "      <td>...</td>\n",
       "      <td>0.414503</td>\n",
       "      <td>-0.390748</td>\n",
       "      <td>-0.760104</td>\n",
       "      <td>-0.118559</td>\n",
       "      <td>0.177899</td>\n",
       "      <td>0.100699</td>\n",
       "      <td>0.808529</td>\n",
       "      <td>-0.848933</td>\n",
       "      <td>0.180637</td>\n",
       "      <td>-0.049118</td>\n",
       "    </tr>\n",
       "    <tr>\n",
       "      <th>3</th>\n",
       "      <td>0.279174</td>\n",
       "      <td>-0.026201</td>\n",
       "      <td>-0.123283</td>\n",
       "      <td>-0.996091</td>\n",
       "      <td>-0.983403</td>\n",
       "      <td>-0.990675</td>\n",
       "      <td>-0.997099</td>\n",
       "      <td>-0.982750</td>\n",
       "      <td>-0.989302</td>\n",
       "      <td>-0.938692</td>\n",
       "      <td>...</td>\n",
       "      <td>0.404573</td>\n",
       "      <td>-0.117290</td>\n",
       "      <td>-0.482845</td>\n",
       "      <td>-0.036788</td>\n",
       "      <td>-0.012892</td>\n",
       "      <td>0.640011</td>\n",
       "      <td>-0.485366</td>\n",
       "      <td>-0.848649</td>\n",
       "      <td>0.181935</td>\n",
       "      <td>-0.047663</td>\n",
       "    </tr>\n",
       "    <tr>\n",
       "      <th>4</th>\n",
       "      <td>0.276629</td>\n",
       "      <td>-0.016570</td>\n",
       "      <td>-0.115362</td>\n",
       "      <td>-0.998139</td>\n",
       "      <td>-0.980817</td>\n",
       "      <td>-0.990482</td>\n",
       "      <td>-0.998321</td>\n",
       "      <td>-0.979672</td>\n",
       "      <td>-0.990441</td>\n",
       "      <td>-0.942469</td>\n",
       "      <td>...</td>\n",
       "      <td>0.087753</td>\n",
       "      <td>-0.351471</td>\n",
       "      <td>-0.699205</td>\n",
       "      <td>0.123320</td>\n",
       "      <td>0.122542</td>\n",
       "      <td>0.693578</td>\n",
       "      <td>-0.615971</td>\n",
       "      <td>-0.847865</td>\n",
       "      <td>0.185151</td>\n",
       "      <td>-0.043892</td>\n",
       "    </tr>\n",
       "  </tbody>\n",
       "</table>\n",
       "<p>5 rows × 561 columns</p>\n",
       "</div>"
      ],
      "text/plain": [
       "   tBodyAcc-mean()-X  tBodyAcc-mean()-Y  tBodyAcc-mean()-Z  tBodyAcc-std()-X  \\\n",
       "0           0.288585          -0.020294          -0.132905         -0.995279   \n",
       "1           0.278419          -0.016411          -0.123520         -0.998245   \n",
       "2           0.279653          -0.019467          -0.113462         -0.995380   \n",
       "3           0.279174          -0.026201          -0.123283         -0.996091   \n",
       "4           0.276629          -0.016570          -0.115362         -0.998139   \n",
       "\n",
       "   tBodyAcc-std()-Y  tBodyAcc-std()-Z  tBodyAcc-mad()-X  tBodyAcc-mad()-Y  \\\n",
       "0         -0.983111         -0.913526         -0.995112         -0.983185   \n",
       "1         -0.975300         -0.960322         -0.998807         -0.974914   \n",
       "2         -0.967187         -0.978944         -0.996520         -0.963668   \n",
       "3         -0.983403         -0.990675         -0.997099         -0.982750   \n",
       "4         -0.980817         -0.990482         -0.998321         -0.979672   \n",
       "\n",
       "   tBodyAcc-mad()-Z  tBodyAcc-max()-X  ...  fBodyBodyGyroJerkMag-meanFreq()  \\\n",
       "0         -0.923527         -0.934724  ...                        -0.074323   \n",
       "1         -0.957686         -0.943068  ...                         0.158075   \n",
       "2         -0.977469         -0.938692  ...                         0.414503   \n",
       "3         -0.989302         -0.938692  ...                         0.404573   \n",
       "4         -0.990441         -0.942469  ...                         0.087753   \n",
       "\n",
       "   fBodyBodyGyroJerkMag-skewness()  fBodyBodyGyroJerkMag-kurtosis()  \\\n",
       "0                        -0.298676                        -0.710304   \n",
       "1                        -0.595051                        -0.861499   \n",
       "2                        -0.390748                        -0.760104   \n",
       "3                        -0.117290                        -0.482845   \n",
       "4                        -0.351471                        -0.699205   \n",
       "\n",
       "   angle(tBodyAccMean,gravity)  angle(tBodyAccJerkMean),gravityMean)  \\\n",
       "0                    -0.112754                              0.030400   \n",
       "1                     0.053477                             -0.007435   \n",
       "2                    -0.118559                              0.177899   \n",
       "3                    -0.036788                             -0.012892   \n",
       "4                     0.123320                              0.122542   \n",
       "\n",
       "   angle(tBodyGyroMean,gravityMean)  angle(tBodyGyroJerkMean,gravityMean)  \\\n",
       "0                         -0.464761                             -0.018446   \n",
       "1                         -0.732626                              0.703511   \n",
       "2                          0.100699                              0.808529   \n",
       "3                          0.640011                             -0.485366   \n",
       "4                          0.693578                             -0.615971   \n",
       "\n",
       "   angle(X,gravityMean)  angle(Y,gravityMean)  angle(Z,gravityMean)  \n",
       "0             -0.841247              0.179941             -0.058627  \n",
       "1             -0.844788              0.180289             -0.054317  \n",
       "2             -0.848933              0.180637             -0.049118  \n",
       "3             -0.848649              0.181935             -0.047663  \n",
       "4             -0.847865              0.185151             -0.043892  \n",
       "\n",
       "[5 rows x 561 columns]"
      ]
     },
     "execution_count": 90,
     "metadata": {},
     "output_type": "execute_result"
    }
   ],
   "source": [
    "X_resampled.head()"
   ]
  },
  {
   "cell_type": "code",
   "execution_count": 92,
   "metadata": {},
   "outputs": [
    {
     "data": {
      "text/plain": [
       "Activity_label\n",
       "2    1944\n",
       "1    1944\n",
       "0    1944\n",
       "3    1944\n",
       "4    1944\n",
       "5    1944\n",
       "Name: count, dtype: int64"
      ]
     },
     "execution_count": 92,
     "metadata": {},
     "output_type": "execute_result"
    }
   ],
   "source": [
    "# Checking the changes after over-sampling\n",
    "y_resampled.value_counts()"
   ]
  },
  {
   "cell_type": "markdown",
   "metadata": {},
   "source": [
    "### Splitting the dataset"
   ]
  },
  {
   "cell_type": "code",
   "execution_count": 93,
   "metadata": {},
   "outputs": [
    {
     "name": "stdout",
     "output_type": "stream",
     "text": [
      "Training set: (9331, 561) (9331,)\n",
      "Test set: (2333, 561) (2333,)\n"
     ]
    }
   ],
   "source": [
    "# Split the data into training and testing sets (80% train, 20% test)\n",
    "X_train, X_test, y_train, y_test = train_test_split(X_resampled, y_resampled, test_size=0.2, random_state=42)\n",
    "\n",
    "# Display the shape of the resulting datasets\n",
    "print(\"Training set:\", X_train.shape, y_train.shape)\n",
    "print(\"Test set:\", X_test.shape, y_test.shape)"
   ]
  },
  {
   "cell_type": "markdown",
   "metadata": {},
   "source": [
    "# Data modelling"
   ]
  },
  {
   "cell_type": "markdown",
   "metadata": {},
   "source": [
    "## Random Forest"
   ]
  },
  {
   "cell_type": "code",
   "execution_count": null,
   "metadata": {},
   "outputs": [
    {
     "name": "stderr",
     "output_type": "stream",
     "text": [
      "c:\\Users\\NexteqSolutions-UAT\\anaconda3\\Lib\\site-packages\\sklearn\\ensemble\\_forest.py:615: UserWarning: Some inputs do not have OOB scores. This probably means too few trees were used to compute any reliable OOB estimates.\n",
      "  warn(\n",
      "c:\\Users\\NexteqSolutions-UAT\\anaconda3\\Lib\\site-packages\\sklearn\\ensemble\\_forest.py:615: UserWarning: Some inputs do not have OOB scores. This probably means too few trees were used to compute any reliable OOB estimates.\n",
      "  warn(\n"
     ]
    },
    {
     "data": {
      "text/html": [
       "<div>\n",
       "<style scoped>\n",
       "    .dataframe tbody tr th:only-of-type {\n",
       "        vertical-align: middle;\n",
       "    }\n",
       "\n",
       "    .dataframe tbody tr th {\n",
       "        vertical-align: top;\n",
       "    }\n",
       "\n",
       "    .dataframe thead th {\n",
       "        text-align: right;\n",
       "    }\n",
       "</style>\n",
       "<table border=\"1\" class=\"dataframe\">\n",
       "  <thead>\n",
       "    <tr style=\"text-align: right;\">\n",
       "      <th></th>\n",
       "      <th>oob</th>\n",
       "    </tr>\n",
       "    <tr>\n",
       "      <th>n_trees</th>\n",
       "      <th></th>\n",
       "    </tr>\n",
       "  </thead>\n",
       "  <tbody>\n",
       "    <tr>\n",
       "      <th>15.0</th>\n",
       "      <td>0.039867</td>\n",
       "    </tr>\n",
       "    <tr>\n",
       "      <th>20.0</th>\n",
       "      <td>0.030865</td>\n",
       "    </tr>\n",
       "    <tr>\n",
       "      <th>30.0</th>\n",
       "      <td>0.024756</td>\n",
       "    </tr>\n",
       "    <tr>\n",
       "      <th>40.0</th>\n",
       "      <td>0.021327</td>\n",
       "    </tr>\n",
       "    <tr>\n",
       "      <th>50.0</th>\n",
       "      <td>0.019076</td>\n",
       "    </tr>\n",
       "    <tr>\n",
       "      <th>100.0</th>\n",
       "      <td>0.017147</td>\n",
       "    </tr>\n",
       "    <tr>\n",
       "      <th>150.0</th>\n",
       "      <td>0.017576</td>\n",
       "    </tr>\n",
       "    <tr>\n",
       "      <th>200.0</th>\n",
       "      <td>0.016718</td>\n",
       "    </tr>\n",
       "    <tr>\n",
       "      <th>300.0</th>\n",
       "      <td>0.017254</td>\n",
       "    </tr>\n",
       "  </tbody>\n",
       "</table>\n",
       "</div>"
      ],
      "text/plain": [
       "              oob\n",
       "n_trees          \n",
       "15.0     0.039867\n",
       "20.0     0.030865\n",
       "30.0     0.024756\n",
       "40.0     0.021327\n",
       "50.0     0.019076\n",
       "100.0    0.017147\n",
       "150.0    0.017576\n",
       "200.0    0.016718\n",
       "300.0    0.017254"
      ]
     },
     "execution_count": 95,
     "metadata": {},
     "output_type": "execute_result"
    }
   ],
   "source": [
    "#  calculating error for different number of trees\n",
    "from sklearn.ensemble import RandomForestClassifier\n",
    "RFcla = RandomForestClassifier(oob_score=True,\n",
    "                               random_state=42,\n",
    "                               warm_start=True,\n",
    "                               n_jobs=-1)\n",
    "oob_list = list()\n",
    "for n_trees in [15, 20, 30, 40, 50, 100, 150, 200, 300]:\n",
    "    RFcla.set_params(n_estimators=n_trees)\n",
    "    RFcla.fit(X_train, y_train)\n",
    "    oob_error = 1 - RFcla.oob_score_\n",
    "    oob_list.append(pd.Series({'n_trees': n_trees, 'oob': oob_error}))\n",
    "\n",
    "rf_oob_df = pd.concat(oob_list, axis=1).T.set_index('n_trees')\n",
    "rf_oob_df"
   ]
  },
  {
   "cell_type": "code",
   "execution_count": 126,
   "metadata": {},
   "outputs": [
    {
     "data": {
      "image/png": "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",
      "text/plain": [
       "<Figure size 1400x700 with 1 Axes>"
      ]
     },
     "metadata": {},
     "output_type": "display_data"
    }
   ],
   "source": [
    "# Plotting the error\n",
    "plt.figure(figsize=(14, 7))\n",
    "\n",
    "# Plot the OOB errors as a line plot with markers\n",
    "plt.plot(rf_oob_df.index, rf_oob_df['oob'], marker='o', linewidth=5)\n",
    "\n",
    "# Set labels and title\n",
    "plt.xlabel('Number of Trees')\n",
    "plt.ylabel('Out-of-Bag Error')\n",
    "plt.title('Out-of-Bag Error vs Number of Trees')\n",
    "\n",
    "# Show the plot\n",
    "plt.grid(True)  # Optional: adds a grid to the plot for better readability\n",
    "plt.show()"
   ]
  },
  {
   "cell_type": "markdown",
   "metadata": {},
   "source": [
    "Observation - After 50 number of trees, there is no significant error reduction. So let's put 50 and also 100 and 200 to check."
   ]
  },
  {
   "cell_type": "markdown",
   "metadata": {},
   "source": [
    "### Tuning hyperparameters\n",
    "After choosing the number of trees, we can now tune hyperparameters to see whether they reduce the error.\n",
    "- max_features - default value is auto which means sqrt(n_features)\n",
    "- mx_depth - default value is None. "
   ]
  },
  {
   "cell_type": "markdown",
   "metadata": {},
   "source": [
    "#### max_features \n",
    "- max_features = 'log2'"
   ]
  },
  {
   "cell_type": "code",
   "execution_count": 106,
   "metadata": {},
   "outputs": [
    {
     "name": "stdout",
     "output_type": "stream",
     "text": [
      "{50: 0.024970528346372256, 100: 0.019504876219054723, 200: 0.017147143928839315}\n"
     ]
    }
   ],
   "source": [
    "# List of different n_estimators values\n",
    "n_estimators_list = [50, 100, 200]\n",
    "\n",
    "# Initialize an empty list to store OOB errors\n",
    "oob_errors = {}\n",
    "\n",
    "# Loop through each n_estimators value\n",
    "for n_trees in n_estimators_list:\n",
    "    RFreg = RandomForestClassifier(n_estimators=n_trees, \n",
    "                                  oob_score=True,\n",
    "                                  random_state=42, \n",
    "                                  n_jobs=-1, \n",
    "                                  max_features='log2')\n",
    "    \n",
    "    # Fit the model\n",
    "    RFreg.fit(X_train, y_train)\n",
    "    \n",
    "    # Calculate OOB error\n",
    "    oob_error = 1 - RFreg.oob_score_\n",
    "    \n",
    "    # Store the result in the dictionary\n",
    "    oob_errors[n_trees] = oob_error\n",
    "\n",
    "# Print the OOB errors for each n_estimators value\n",
    "print(oob_errors)"
   ]
  },
  {
   "cell_type": "markdown",
   "metadata": {},
   "source": [
    "- max_features = sqrt"
   ]
  },
  {
   "cell_type": "code",
   "execution_count": 115,
   "metadata": {},
   "outputs": [
    {
     "name": "stdout",
     "output_type": "stream",
     "text": [
      "{50: 0.01907619762083379, 100: 0.017147143928839315, 200: 0.01671846533061838}\n"
     ]
    }
   ],
   "source": [
    "# List of different n_estimators values\n",
    "n_estimators_list = [50, 100, 200]\n",
    "\n",
    "# Initialize an empty list to store OOB errors\n",
    "oob_errors = {}\n",
    "\n",
    "# Loop through each n_estimators value\n",
    "for n_trees in n_estimators_list:\n",
    "    RFreg = RandomForestClassifier(n_estimators=n_trees, \n",
    "                                  oob_score=True,\n",
    "                                  random_state=42, \n",
    "                                  n_jobs=-1, \n",
    "                                  max_features='sqrt')\n",
    "    \n",
    "    # Fit the model\n",
    "    RFreg.fit(X_train, y_train)\n",
    "    \n",
    "    # Calculate OOB error\n",
    "    oob_error = 1 - RFreg.oob_score_\n",
    "    \n",
    "    # Store the result in the dictionary\n",
    "    oob_errors[n_trees] = oob_error\n",
    "\n",
    "# Print the OOB errors for each n_estimators value\n",
    "print(oob_errors)"
   ]
  },
  {
   "cell_type": "markdown",
   "metadata": {},
   "source": [
    "Observations: \n",
    "- n_estimators = 200 gives the smallest error.\n",
    "- Also, default value for max_features gives the smallest error."
   ]
  },
  {
   "cell_type": "markdown",
   "metadata": {},
   "source": [
    "#### max_depth\n",
    "Since n_estimators is set for 200, let's check for\n",
    "- max_depth = 10, 20, None"
   ]
  },
  {
   "cell_type": "code",
   "execution_count": 109,
   "metadata": {},
   "outputs": [
    {
     "name": "stdout",
     "output_type": "stream",
     "text": [
      "{None: 0.01671846533061838, 10: 0.024434680098596062, 20: 0.017039974279284054}\n"
     ]
    }
   ],
   "source": [
    "# List of different max_depth values\n",
    "max_depth_list = [None, 10, 20]\n",
    "\n",
    "# Initialize an empty dictionary to store OOB errors\n",
    "oob_errors_depth = {}\n",
    "\n",
    "# Loop through each max_depth value\n",
    "for depth in max_depth_list:\n",
    "    RFcla = RandomForestClassifier(n_estimators=200, \n",
    "                                  oob_score=True,\n",
    "                                  random_state=42, \n",
    "                                  n_jobs=-1, \n",
    "                                  max_depth=depth)\n",
    "    \n",
    "    # Fit the model\n",
    "    RFcla.fit(X_train, y_train)\n",
    "    \n",
    "    # Calculate OOB error\n",
    "    oob_error = 1 - RFcla.oob_score_\n",
    "    \n",
    "    # Store the result in the dictionary\n",
    "    oob_errors_depth[depth] = oob_error\n",
    "\n",
    "# Print the OOB errors for each max_depth value\n",
    "print(oob_errors_depth)"
   ]
  },
  {
   "cell_type": "markdown",
   "metadata": {},
   "source": [
    "Observations:\n",
    "- max_depth = None gives the smallest error.\n",
    "- Therefore, the default value is giving the least error. "
   ]
  },
  {
   "cell_type": "markdown",
   "metadata": {},
   "source": [
    "#### Model after tuning "
   ]
  },
  {
   "cell_type": "code",
   "execution_count": 128,
   "metadata": {},
   "outputs": [
    {
     "data": {
      "text/plain": [
       "0.01671846533061838"
      ]
     },
     "execution_count": 128,
     "metadata": {},
     "output_type": "execute_result"
    }
   ],
   "source": [
    "RFcla_200 = RandomForestClassifier(n_estimators=200\n",
    "                                  ,oob_score=True \n",
    "                                  ,random_state=42\n",
    "                                  ,n_jobs=-1)\n",
    "\n",
    "RFcla_200.fit(X_train, y_train)\n",
    "oob_error200 = 1 - RFcla_200.oob_score_\n",
    "oob_error200"
   ]
  },
  {
   "cell_type": "code",
   "execution_count": 129,
   "metadata": {},
   "outputs": [],
   "source": [
    "# make predictions on test set \n",
    "label_pred_cla_rf = RFcla_200.predict(X_test)"
   ]
  },
  {
   "cell_type": "code",
   "execution_count": 130,
   "metadata": {},
   "outputs": [
    {
     "name": "stdout",
     "output_type": "stream",
     "text": [
      "Accuracy: 0.9832833261894557\n"
     ]
    }
   ],
   "source": [
    "# calculate accuracy\n",
    "from sklearn.metrics import accuracy_score\n",
    "accuracy = accuracy_score(y_test, label_pred_cla_rf)\n",
    "print(f'Accuracy: {accuracy}')"
   ]
  },
  {
   "cell_type": "code",
   "execution_count": 131,
   "metadata": {},
   "outputs": [
    {
     "name": "stdout",
     "output_type": "stream",
     "text": [
      "              precision    recall  f1-score   support\n",
      "\n",
      "           0       1.00      1.00      1.00       424\n",
      "           1       0.98      0.97      0.97       385\n",
      "           2       0.97      0.98      0.97       386\n",
      "           3       1.00      0.98      0.99       395\n",
      "           4       0.99      0.98      0.98       382\n",
      "           5       0.97      0.99      0.98       361\n",
      "\n",
      "    accuracy                           0.98      2333\n",
      "   macro avg       0.98      0.98      0.98      2333\n",
      "weighted avg       0.98      0.98      0.98      2333\n",
      "\n"
     ]
    }
   ],
   "source": [
    "# Classificaiton report\n",
    "from sklearn.metrics import classification_report\n",
    "\n",
    "print(classification_report(y_test, label_pred_cla_rf))"
   ]
  },
  {
   "cell_type": "markdown",
   "metadata": {},
   "source": [
    "What the classificaiton report means:\n",
    "- precision : How many of the predicted positives were actually positive?\n",
    "    - this model is highly precise, with precision ranging from 97-100% and an average of 98%.\n",
    "- recall(sensitivity) : How many of the actual positives did we correctly predict?\n",
    "    - Again, a high % of correct predictions, ranging from 97-100% and an average of 98%.\n",
    "- f1-score : How the model is performing in terms of balancing precision and recall\n",
    "    - Very good in balancing, 97-100%, average of 98%\n",
    "- support : number of occurrences of each class in the dataset\n",
    "    - Indicates a highly balanced dataset"
   ]
  },
  {
   "cell_type": "markdown",
   "metadata": {},
   "source": [
    "## XGBoost"
   ]
  },
  {
   "cell_type": "markdown",
   "metadata": {},
   "source": [
    "### Scenario 1\n",
    "With a learning rate of 0.3 to make the model more robust and all others using default parameters"
   ]
  },
  {
   "cell_type": "markdown",
   "metadata": {},
   "source": [
    "#### Train the model"
   ]
  },
  {
   "cell_type": "code",
   "execution_count": null,
   "metadata": {},
   "outputs": [
    {
     "data": {
      "text/html": [
       "<style>#sk-container-id-1 {\n",
       "  /* Definition of color scheme common for light and dark mode */\n",
       "  --sklearn-color-text: black;\n",
       "  --sklearn-color-line: gray;\n",
       "  /* Definition of color scheme for unfitted estimators */\n",
       "  --sklearn-color-unfitted-level-0: #fff5e6;\n",
       "  --sklearn-color-unfitted-level-1: #f6e4d2;\n",
       "  --sklearn-color-unfitted-level-2: #ffe0b3;\n",
       "  --sklearn-color-unfitted-level-3: chocolate;\n",
       "  /* Definition of color scheme for fitted estimators */\n",
       "  --sklearn-color-fitted-level-0: #f0f8ff;\n",
       "  --sklearn-color-fitted-level-1: #d4ebff;\n",
       "  --sklearn-color-fitted-level-2: #b3dbfd;\n",
       "  --sklearn-color-fitted-level-3: cornflowerblue;\n",
       "\n",
       "  /* Specific color for light theme */\n",
       "  --sklearn-color-text-on-default-background: var(--sg-text-color, var(--theme-code-foreground, var(--jp-content-font-color1, black)));\n",
       "  --sklearn-color-background: var(--sg-background-color, var(--theme-background, var(--jp-layout-color0, white)));\n",
       "  --sklearn-color-border-box: var(--sg-text-color, var(--theme-code-foreground, var(--jp-content-font-color1, black)));\n",
       "  --sklearn-color-icon: #696969;\n",
       "\n",
       "  @media (prefers-color-scheme: dark) {\n",
       "    /* Redefinition of color scheme for dark theme */\n",
       "    --sklearn-color-text-on-default-background: var(--sg-text-color, var(--theme-code-foreground, var(--jp-content-font-color1, white)));\n",
       "    --sklearn-color-background: var(--sg-background-color, var(--theme-background, var(--jp-layout-color0, #111)));\n",
       "    --sklearn-color-border-box: var(--sg-text-color, var(--theme-code-foreground, var(--jp-content-font-color1, white)));\n",
       "    --sklearn-color-icon: #878787;\n",
       "  }\n",
       "}\n",
       "\n",
       "#sk-container-id-1 {\n",
       "  color: var(--sklearn-color-text);\n",
       "}\n",
       "\n",
       "#sk-container-id-1 pre {\n",
       "  padding: 0;\n",
       "}\n",
       "\n",
       "#sk-container-id-1 input.sk-hidden--visually {\n",
       "  border: 0;\n",
       "  clip: rect(1px 1px 1px 1px);\n",
       "  clip: rect(1px, 1px, 1px, 1px);\n",
       "  height: 1px;\n",
       "  margin: -1px;\n",
       "  overflow: hidden;\n",
       "  padding: 0;\n",
       "  position: absolute;\n",
       "  width: 1px;\n",
       "}\n",
       "\n",
       "#sk-container-id-1 div.sk-dashed-wrapped {\n",
       "  border: 1px dashed var(--sklearn-color-line);\n",
       "  margin: 0 0.4em 0.5em 0.4em;\n",
       "  box-sizing: border-box;\n",
       "  padding-bottom: 0.4em;\n",
       "  background-color: var(--sklearn-color-background);\n",
       "}\n",
       "\n",
       "#sk-container-id-1 div.sk-container {\n",
       "  /* jupyter's `normalize.less` sets `[hidden] { display: none; }`\n",
       "     but bootstrap.min.css set `[hidden] { display: none !important; }`\n",
       "     so we also need the `!important` here to be able to override the\n",
       "     default hidden behavior on the sphinx rendered scikit-learn.org.\n",
       "     See: https://github.com/scikit-learn/scikit-learn/issues/21755 */\n",
       "  display: inline-block !important;\n",
       "  position: relative;\n",
       "}\n",
       "\n",
       "#sk-container-id-1 div.sk-text-repr-fallback {\n",
       "  display: none;\n",
       "}\n",
       "\n",
       "div.sk-parallel-item,\n",
       "div.sk-serial,\n",
       "div.sk-item {\n",
       "  /* draw centered vertical line to link estimators */\n",
       "  background-image: linear-gradient(var(--sklearn-color-text-on-default-background), var(--sklearn-color-text-on-default-background));\n",
       "  background-size: 2px 100%;\n",
       "  background-repeat: no-repeat;\n",
       "  background-position: center center;\n",
       "}\n",
       "\n",
       "/* Parallel-specific style estimator block */\n",
       "\n",
       "#sk-container-id-1 div.sk-parallel-item::after {\n",
       "  content: \"\";\n",
       "  width: 100%;\n",
       "  border-bottom: 2px solid var(--sklearn-color-text-on-default-background);\n",
       "  flex-grow: 1;\n",
       "}\n",
       "\n",
       "#sk-container-id-1 div.sk-parallel {\n",
       "  display: flex;\n",
       "  align-items: stretch;\n",
       "  justify-content: center;\n",
       "  background-color: var(--sklearn-color-background);\n",
       "  position: relative;\n",
       "}\n",
       "\n",
       "#sk-container-id-1 div.sk-parallel-item {\n",
       "  display: flex;\n",
       "  flex-direction: column;\n",
       "}\n",
       "\n",
       "#sk-container-id-1 div.sk-parallel-item:first-child::after {\n",
       "  align-self: flex-end;\n",
       "  width: 50%;\n",
       "}\n",
       "\n",
       "#sk-container-id-1 div.sk-parallel-item:last-child::after {\n",
       "  align-self: flex-start;\n",
       "  width: 50%;\n",
       "}\n",
       "\n",
       "#sk-container-id-1 div.sk-parallel-item:only-child::after {\n",
       "  width: 0;\n",
       "}\n",
       "\n",
       "/* Serial-specific style estimator block */\n",
       "\n",
       "#sk-container-id-1 div.sk-serial {\n",
       "  display: flex;\n",
       "  flex-direction: column;\n",
       "  align-items: center;\n",
       "  background-color: var(--sklearn-color-background);\n",
       "  padding-right: 1em;\n",
       "  padding-left: 1em;\n",
       "}\n",
       "\n",
       "\n",
       "/* Toggleable style: style used for estimator/Pipeline/ColumnTransformer box that is\n",
       "clickable and can be expanded/collapsed.\n",
       "- Pipeline and ColumnTransformer use this feature and define the default style\n",
       "- Estimators will overwrite some part of the style using the `sk-estimator` class\n",
       "*/\n",
       "\n",
       "/* Pipeline and ColumnTransformer style (default) */\n",
       "\n",
       "#sk-container-id-1 div.sk-toggleable {\n",
       "  /* Default theme specific background. It is overwritten whether we have a\n",
       "  specific estimator or a Pipeline/ColumnTransformer */\n",
       "  background-color: var(--sklearn-color-background);\n",
       "}\n",
       "\n",
       "/* Toggleable label */\n",
       "#sk-container-id-1 label.sk-toggleable__label {\n",
       "  cursor: pointer;\n",
       "  display: block;\n",
       "  width: 100%;\n",
       "  margin-bottom: 0;\n",
       "  padding: 0.5em;\n",
       "  box-sizing: border-box;\n",
       "  text-align: center;\n",
       "}\n",
       "\n",
       "#sk-container-id-1 label.sk-toggleable__label-arrow:before {\n",
       "  /* Arrow on the left of the label */\n",
       "  content: \"▸\";\n",
       "  float: left;\n",
       "  margin-right: 0.25em;\n",
       "  color: var(--sklearn-color-icon);\n",
       "}\n",
       "\n",
       "#sk-container-id-1 label.sk-toggleable__label-arrow:hover:before {\n",
       "  color: var(--sklearn-color-text);\n",
       "}\n",
       "\n",
       "/* Toggleable content - dropdown */\n",
       "\n",
       "#sk-container-id-1 div.sk-toggleable__content {\n",
       "  max-height: 0;\n",
       "  max-width: 0;\n",
       "  overflow: hidden;\n",
       "  text-align: left;\n",
       "  /* unfitted */\n",
       "  background-color: var(--sklearn-color-unfitted-level-0);\n",
       "}\n",
       "\n",
       "#sk-container-id-1 div.sk-toggleable__content.fitted {\n",
       "  /* fitted */\n",
       "  background-color: var(--sklearn-color-fitted-level-0);\n",
       "}\n",
       "\n",
       "#sk-container-id-1 div.sk-toggleable__content pre {\n",
       "  margin: 0.2em;\n",
       "  border-radius: 0.25em;\n",
       "  color: var(--sklearn-color-text);\n",
       "  /* unfitted */\n",
       "  background-color: var(--sklearn-color-unfitted-level-0);\n",
       "}\n",
       "\n",
       "#sk-container-id-1 div.sk-toggleable__content.fitted pre {\n",
       "  /* unfitted */\n",
       "  background-color: var(--sklearn-color-fitted-level-0);\n",
       "}\n",
       "\n",
       "#sk-container-id-1 input.sk-toggleable__control:checked~div.sk-toggleable__content {\n",
       "  /* Expand drop-down */\n",
       "  max-height: 200px;\n",
       "  max-width: 100%;\n",
       "  overflow: auto;\n",
       "}\n",
       "\n",
       "#sk-container-id-1 input.sk-toggleable__control:checked~label.sk-toggleable__label-arrow:before {\n",
       "  content: \"▾\";\n",
       "}\n",
       "\n",
       "/* Pipeline/ColumnTransformer-specific style */\n",
       "\n",
       "#sk-container-id-1 div.sk-label input.sk-toggleable__control:checked~label.sk-toggleable__label {\n",
       "  color: var(--sklearn-color-text);\n",
       "  background-color: var(--sklearn-color-unfitted-level-2);\n",
       "}\n",
       "\n",
       "#sk-container-id-1 div.sk-label.fitted input.sk-toggleable__control:checked~label.sk-toggleable__label {\n",
       "  background-color: var(--sklearn-color-fitted-level-2);\n",
       "}\n",
       "\n",
       "/* Estimator-specific style */\n",
       "\n",
       "/* Colorize estimator box */\n",
       "#sk-container-id-1 div.sk-estimator input.sk-toggleable__control:checked~label.sk-toggleable__label {\n",
       "  /* unfitted */\n",
       "  background-color: var(--sklearn-color-unfitted-level-2);\n",
       "}\n",
       "\n",
       "#sk-container-id-1 div.sk-estimator.fitted input.sk-toggleable__control:checked~label.sk-toggleable__label {\n",
       "  /* fitted */\n",
       "  background-color: var(--sklearn-color-fitted-level-2);\n",
       "}\n",
       "\n",
       "#sk-container-id-1 div.sk-label label.sk-toggleable__label,\n",
       "#sk-container-id-1 div.sk-label label {\n",
       "  /* The background is the default theme color */\n",
       "  color: var(--sklearn-color-text-on-default-background);\n",
       "}\n",
       "\n",
       "/* On hover, darken the color of the background */\n",
       "#sk-container-id-1 div.sk-label:hover label.sk-toggleable__label {\n",
       "  color: var(--sklearn-color-text);\n",
       "  background-color: var(--sklearn-color-unfitted-level-2);\n",
       "}\n",
       "\n",
       "/* Label box, darken color on hover, fitted */\n",
       "#sk-container-id-1 div.sk-label.fitted:hover label.sk-toggleable__label.fitted {\n",
       "  color: var(--sklearn-color-text);\n",
       "  background-color: var(--sklearn-color-fitted-level-2);\n",
       "}\n",
       "\n",
       "/* Estimator label */\n",
       "\n",
       "#sk-container-id-1 div.sk-label label {\n",
       "  font-family: monospace;\n",
       "  font-weight: bold;\n",
       "  display: inline-block;\n",
       "  line-height: 1.2em;\n",
       "}\n",
       "\n",
       "#sk-container-id-1 div.sk-label-container {\n",
       "  text-align: center;\n",
       "}\n",
       "\n",
       "/* Estimator-specific */\n",
       "#sk-container-id-1 div.sk-estimator {\n",
       "  font-family: monospace;\n",
       "  border: 1px dotted var(--sklearn-color-border-box);\n",
       "  border-radius: 0.25em;\n",
       "  box-sizing: border-box;\n",
       "  margin-bottom: 0.5em;\n",
       "  /* unfitted */\n",
       "  background-color: var(--sklearn-color-unfitted-level-0);\n",
       "}\n",
       "\n",
       "#sk-container-id-1 div.sk-estimator.fitted {\n",
       "  /* fitted */\n",
       "  background-color: var(--sklearn-color-fitted-level-0);\n",
       "}\n",
       "\n",
       "/* on hover */\n",
       "#sk-container-id-1 div.sk-estimator:hover {\n",
       "  /* unfitted */\n",
       "  background-color: var(--sklearn-color-unfitted-level-2);\n",
       "}\n",
       "\n",
       "#sk-container-id-1 div.sk-estimator.fitted:hover {\n",
       "  /* fitted */\n",
       "  background-color: var(--sklearn-color-fitted-level-2);\n",
       "}\n",
       "\n",
       "/* Specification for estimator info (e.g. \"i\" and \"?\") */\n",
       "\n",
       "/* Common style for \"i\" and \"?\" */\n",
       "\n",
       ".sk-estimator-doc-link,\n",
       "a:link.sk-estimator-doc-link,\n",
       "a:visited.sk-estimator-doc-link {\n",
       "  float: right;\n",
       "  font-size: smaller;\n",
       "  line-height: 1em;\n",
       "  font-family: monospace;\n",
       "  background-color: var(--sklearn-color-background);\n",
       "  border-radius: 1em;\n",
       "  height: 1em;\n",
       "  width: 1em;\n",
       "  text-decoration: none !important;\n",
       "  margin-left: 1ex;\n",
       "  /* unfitted */\n",
       "  border: var(--sklearn-color-unfitted-level-1) 1pt solid;\n",
       "  color: var(--sklearn-color-unfitted-level-1);\n",
       "}\n",
       "\n",
       ".sk-estimator-doc-link.fitted,\n",
       "a:link.sk-estimator-doc-link.fitted,\n",
       "a:visited.sk-estimator-doc-link.fitted {\n",
       "  /* fitted */\n",
       "  border: var(--sklearn-color-fitted-level-1) 1pt solid;\n",
       "  color: var(--sklearn-color-fitted-level-1);\n",
       "}\n",
       "\n",
       "/* On hover */\n",
       "div.sk-estimator:hover .sk-estimator-doc-link:hover,\n",
       ".sk-estimator-doc-link:hover,\n",
       "div.sk-label-container:hover .sk-estimator-doc-link:hover,\n",
       ".sk-estimator-doc-link:hover {\n",
       "  /* unfitted */\n",
       "  background-color: var(--sklearn-color-unfitted-level-3);\n",
       "  color: var(--sklearn-color-background);\n",
       "  text-decoration: none;\n",
       "}\n",
       "\n",
       "div.sk-estimator.fitted:hover .sk-estimator-doc-link.fitted:hover,\n",
       ".sk-estimator-doc-link.fitted:hover,\n",
       "div.sk-label-container:hover .sk-estimator-doc-link.fitted:hover,\n",
       ".sk-estimator-doc-link.fitted:hover {\n",
       "  /* fitted */\n",
       "  background-color: var(--sklearn-color-fitted-level-3);\n",
       "  color: var(--sklearn-color-background);\n",
       "  text-decoration: none;\n",
       "}\n",
       "\n",
       "/* Span, style for the box shown on hovering the info icon */\n",
       ".sk-estimator-doc-link span {\n",
       "  display: none;\n",
       "  z-index: 9999;\n",
       "  position: relative;\n",
       "  font-weight: normal;\n",
       "  right: .2ex;\n",
       "  padding: .5ex;\n",
       "  margin: .5ex;\n",
       "  width: min-content;\n",
       "  min-width: 20ex;\n",
       "  max-width: 50ex;\n",
       "  color: var(--sklearn-color-text);\n",
       "  box-shadow: 2pt 2pt 4pt #999;\n",
       "  /* unfitted */\n",
       "  background: var(--sklearn-color-unfitted-level-0);\n",
       "  border: .5pt solid var(--sklearn-color-unfitted-level-3);\n",
       "}\n",
       "\n",
       ".sk-estimator-doc-link.fitted span {\n",
       "  /* fitted */\n",
       "  background: var(--sklearn-color-fitted-level-0);\n",
       "  border: var(--sklearn-color-fitted-level-3);\n",
       "}\n",
       "\n",
       ".sk-estimator-doc-link:hover span {\n",
       "  display: block;\n",
       "}\n",
       "\n",
       "/* \"?\"-specific style due to the `<a>` HTML tag */\n",
       "\n",
       "#sk-container-id-1 a.estimator_doc_link {\n",
       "  float: right;\n",
       "  font-size: 1rem;\n",
       "  line-height: 1em;\n",
       "  font-family: monospace;\n",
       "  background-color: var(--sklearn-color-background);\n",
       "  border-radius: 1rem;\n",
       "  height: 1rem;\n",
       "  width: 1rem;\n",
       "  text-decoration: none;\n",
       "  /* unfitted */\n",
       "  color: var(--sklearn-color-unfitted-level-1);\n",
       "  border: var(--sklearn-color-unfitted-level-1) 1pt solid;\n",
       "}\n",
       "\n",
       "#sk-container-id-1 a.estimator_doc_link.fitted {\n",
       "  /* fitted */\n",
       "  border: var(--sklearn-color-fitted-level-1) 1pt solid;\n",
       "  color: var(--sklearn-color-fitted-level-1);\n",
       "}\n",
       "\n",
       "/* On hover */\n",
       "#sk-container-id-1 a.estimator_doc_link:hover {\n",
       "  /* unfitted */\n",
       "  background-color: var(--sklearn-color-unfitted-level-3);\n",
       "  color: var(--sklearn-color-background);\n",
       "  text-decoration: none;\n",
       "}\n",
       "\n",
       "#sk-container-id-1 a.estimator_doc_link.fitted:hover {\n",
       "  /* fitted */\n",
       "  background-color: var(--sklearn-color-fitted-level-3);\n",
       "}\n",
       "</style><div id=\"sk-container-id-1\" class=\"sk-top-container\"><div class=\"sk-text-repr-fallback\"><pre>XGBClassifier(base_score=None, booster=None, callbacks=None,\n",
       "              colsample_bylevel=None, colsample_bynode=None,\n",
       "              colsample_bytree=None, device=None, early_stopping_rounds=None,\n",
       "              enable_categorical=False, eval_metric=None, feature_types=None,\n",
       "              gamma=None, grow_policy=None, importance_type=None,\n",
       "              interaction_constraints=None, learning_rate=0.1, max_bin=None,\n",
       "              max_cat_threshold=None, max_cat_to_onehot=None,\n",
       "              max_delta_step=None, max_depth=6, max_leaves=None,\n",
       "              min_child_weight=None, missing=nan, monotone_constraints=None,\n",
       "              multi_strategy=None, n_estimators=100, n_jobs=None, num_class=6,\n",
       "              num_parallel_tree=None, ...)</pre><b>In a Jupyter environment, please rerun this cell to show the HTML representation or trust the notebook. <br />On GitHub, the HTML representation is unable to render, please try loading this page with nbviewer.org.</b></div><div class=\"sk-container\" hidden><div class=\"sk-item\"><div class=\"sk-estimator fitted sk-toggleable\"><input class=\"sk-toggleable__control sk-hidden--visually\" id=\"sk-estimator-id-1\" type=\"checkbox\" checked><label for=\"sk-estimator-id-1\" class=\"sk-toggleable__label fitted sk-toggleable__label-arrow fitted\">&nbsp;XGBClassifier<span class=\"sk-estimator-doc-link fitted\">i<span>Fitted</span></span></label><div class=\"sk-toggleable__content fitted\"><pre>XGBClassifier(base_score=None, booster=None, callbacks=None,\n",
       "              colsample_bylevel=None, colsample_bynode=None,\n",
       "              colsample_bytree=None, device=None, early_stopping_rounds=None,\n",
       "              enable_categorical=False, eval_metric=None, feature_types=None,\n",
       "              gamma=None, grow_policy=None, importance_type=None,\n",
       "              interaction_constraints=None, learning_rate=0.1, max_bin=None,\n",
       "              max_cat_threshold=None, max_cat_to_onehot=None,\n",
       "              max_delta_step=None, max_depth=6, max_leaves=None,\n",
       "              min_child_weight=None, missing=nan, monotone_constraints=None,\n",
       "              multi_strategy=None, n_estimators=100, n_jobs=None, num_class=6,\n",
       "              num_parallel_tree=None, ...)</pre></div> </div></div></div></div>"
      ],
      "text/plain": [
       "XGBClassifier(base_score=None, booster=None, callbacks=None,\n",
       "              colsample_bylevel=None, colsample_bynode=None,\n",
       "              colsample_bytree=None, device=None, early_stopping_rounds=None,\n",
       "              enable_categorical=False, eval_metric=None, feature_types=None,\n",
       "              gamma=None, grow_policy=None, importance_type=None,\n",
       "              interaction_constraints=None, learning_rate=0.1, max_bin=None,\n",
       "              max_cat_threshold=None, max_cat_to_onehot=None,\n",
       "              max_delta_step=None, max_depth=6, max_leaves=None,\n",
       "              min_child_weight=None, missing=nan, monotone_constraints=None,\n",
       "              multi_strategy=None, n_estimators=100, n_jobs=None, num_class=6,\n",
       "              num_parallel_tree=None, ...)"
      ]
     },
     "execution_count": 140,
     "metadata": {},
     "output_type": "execute_result"
    }
   ],
   "source": [
    "# Initialize the XGBoost classifier\n",
    "xgb_clf = xgb.XGBClassifier(\n",
    "    objective=\"multi:softmax\",  # For multi-class classification\n",
    "    num_class=6,               # Number of unique classes in your target\n",
    "    n_estimators=100,          # Number of trees (default: 100)\n",
    "    max_depth=6,               # Maximum depth of trees\n",
    "    learning_rate=0.3,         # Step size shrinkage\n",
    "    random_state=42,           # For reproducibility\n",
    ")\n",
    "\n",
    "# Fit the model to the training data\n",
    "xgb_clf.fit(X_train, y_train)"
   ]
  },
  {
   "cell_type": "markdown",
   "metadata": {},
   "source": [
    "#### Make predictions"
   ]
  },
  {
   "cell_type": "code",
   "execution_count": null,
   "metadata": {},
   "outputs": [],
   "source": [
    "# Predict labels for test data\n",
    "label_pred_xgb = xgb_clf.predict(X_test)"
   ]
  },
  {
   "cell_type": "markdown",
   "metadata": {},
   "source": [
    "#### Evaluate the model"
   ]
  },
  {
   "cell_type": "code",
   "execution_count": null,
   "metadata": {},
   "outputs": [
    {
     "name": "stdout",
     "output_type": "stream",
     "text": [
      "Accuracy: 0.99\n",
      "Confusion Matrix:\n",
      "[[424   0   0   0   0   0]\n",
      " [  0 375  10   0   0   0]\n",
      " [  0   6 380   0   0   0]\n",
      " [  0   0   0 390   2   3]\n",
      " [  0   0   0   1 381   0]\n",
      " [  0   0   0   0   0 361]]\n",
      "Classification Report:\n",
      "              precision    recall  f1-score   support\n",
      "\n",
      "           0       1.00      1.00      1.00       424\n",
      "           1       0.98      0.97      0.98       385\n",
      "           2       0.97      0.98      0.98       386\n",
      "           3       1.00      0.99      0.99       395\n",
      "           4       0.99      1.00      1.00       382\n",
      "           5       0.99      1.00      1.00       361\n",
      "\n",
      "    accuracy                           0.99      2333\n",
      "   macro avg       0.99      0.99      0.99      2333\n",
      "weighted avg       0.99      0.99      0.99      2333\n",
      "\n"
     ]
    }
   ],
   "source": [
    "# Calculate accuracy\n",
    "accuracy = accuracy_score(y_test, label_pred_xgb)\n",
    "print(f\"Accuracy: {accuracy:.2f}\")\n",
    "\n",
    "# Confusion matrix\n",
    "print(\"Confusion Matrix:\")\n",
    "print(confusion_matrix(y_test, label_pred_xgb))\n",
    "\n",
    "# Classification report\n",
    "print(\"Classification Report:\")\n",
    "print(classification_report(y_test, label_pred_xgb))"
   ]
  },
  {
   "cell_type": "markdown",
   "metadata": {},
   "source": [
    "What the classificaiton report means:\n",
    "- precision : How many of the predicted positives were actually positive?\n",
    "    - this model is extremely precise, with precision ranging from 97-100% and an average of 99%.\n",
    "- recall(sensitivity) : How many of the actual positives did we correctly predict?\n",
    "    - Again, a high % of correct predictions, ranging from 97-100% and an average of 99%.\n",
    "- f1-score : How the model is performing in terms of balancing precision and recall\n",
    "    - Very good in balancing, 987-100%, with an average of 99%.\n",
    "- support : number of occurrences of each class in the dataset\n",
    "    - Indicates a balanced dataset"
   ]
  },
  {
   "cell_type": "markdown",
   "metadata": {},
   "source": [
    "What the confusion matrix means:  \n",
    "(rows represnt actual classes and columns represent predicted classes)\n",
    "- Class 0 has 424 correctly predicted samples, Class 1 has 375, and so on.\n",
    "- Class 1 has 10 samples misclassified as Class 2.\n",
    "- Similarly, Class 3 has 2 samples misclassified as Class 4 and 3 as Class 5.\n",
    "- Accuracy is given as 0.99, meaning 99% of the total predictions are correct."
   ]
  },
  {
   "cell_type": "markdown",
   "metadata": {},
   "source": [
    "### Scenario 2\n",
    "With n_estimators = 200 and all others using default parameters"
   ]
  },
  {
   "cell_type": "markdown",
   "metadata": {},
   "source": [
    "#### Train the model"
   ]
  },
  {
   "cell_type": "code",
   "execution_count": null,
   "metadata": {},
   "outputs": [],
   "source": [
    "# Initialize the XGBoost classifier\n",
    "xgb_clf = xgb.XGBClassifier(\n",
    "    objective=\"multi:softmax\",  # For multi-class classification\n",
    "    num_class=6,               # Number of unique classes in your target\n",
    "    n_estimators=200,          # Number of trees (default: 100)\n",
    "    max_depth=6,               # Maximum depth of trees\n",
    "    learning_rate=0.1,         # Step size shrinkage\n",
    "    random_state=42,           # For reproducibility\n",
    ")\n",
    "\n",
    "# Fit the model to the training data\n",
    "xgb_clf.fit(X_train, y_train)"
   ]
  },
  {
   "cell_type": "markdown",
   "metadata": {},
   "source": [
    "#### Make predictions"
   ]
  },
  {
   "cell_type": "code",
   "execution_count": null,
   "metadata": {},
   "outputs": [],
   "source": [
    "# Predict labels for test data\n",
    "label_pred_xgb = xgb_clf.predict(X_test)"
   ]
  },
  {
   "cell_type": "markdown",
   "metadata": {},
   "source": [
    "#### Evaluate the model"
   ]
  },
  {
   "cell_type": "code",
   "execution_count": null,
   "metadata": {},
   "outputs": [
    {
     "name": "stdout",
     "output_type": "stream",
     "text": [
      "Accuracy: 0.99\n",
      "Confusion Matrix:\n",
      "[[424   0   0   0   0   0]\n",
      " [  0 375  10   0   0   0]\n",
      " [  0   6 380   0   0   0]\n",
      " [  0   0   0 390   2   3]\n",
      " [  0   0   0   1 381   0]\n",
      " [  0   0   0   0   0 361]]\n",
      "Classification Report:\n",
      "              precision    recall  f1-score   support\n",
      "\n",
      "           0       1.00      1.00      1.00       424\n",
      "           1       0.98      0.97      0.98       385\n",
      "           2       0.97      0.98      0.98       386\n",
      "           3       1.00      0.99      0.99       395\n",
      "           4       0.99      1.00      1.00       382\n",
      "           5       0.99      1.00      1.00       361\n",
      "\n",
      "    accuracy                           0.99      2333\n",
      "   macro avg       0.99      0.99      0.99      2333\n",
      "weighted avg       0.99      0.99      0.99      2333\n",
      "\n"
     ]
    }
   ],
   "source": [
    "# Calculate accuracy\n",
    "accuracy = accuracy_score(y_test, label_pred_xgb)\n",
    "print(f\"Accuracy: {accuracy:.2f}\")\n",
    "\n",
    "# Confusion matrix\n",
    "print(\"Confusion Matrix:\")\n",
    "print(confusion_matrix(y_test, label_pred_xgb))\n",
    "\n",
    "# Classification report\n",
    "print(\"Classification Report:\")\n",
    "print(classification_report(y_test, label_pred_xgb))"
   ]
  },
  {
   "cell_type": "markdown",
   "metadata": {},
   "source": [
    "## Model selection"
   ]
  },
  {
   "cell_type": "markdown",
   "metadata": {},
   "source": [
    "- Comapring the classification report (precision, recall, f1-score, support) and the overall accuracy, XGBoost is the better performing model when compared with Random Forest,\n",
    "    - In XGBoost, 99 out of 100 predications would be accurate. \n",
    "    - Where as in Random Forest, the accurary is 98%. \n",
    "- Therefore, XGBoost model is chosen for our application of predicting human activity through smartphone sensors. "
   ]
  },
  {
   "cell_type": "code",
   "execution_count": null,
   "metadata": {},
   "outputs": [],
   "source": []
  }
 ],
 "metadata": {
  "kernelspec": {
   "display_name": "base",
   "language": "python",
   "name": "python3"
  },
  "language_info": {
   "codemirror_mode": {
    "name": "ipython",
    "version": 3
   },
   "file_extension": ".py",
   "mimetype": "text/x-python",
   "name": "python",
   "nbconvert_exporter": "python",
   "pygments_lexer": "ipython3",
   "version": "3.12.4"
  }
 },
 "nbformat": 4,
 "nbformat_minor": 2
}
